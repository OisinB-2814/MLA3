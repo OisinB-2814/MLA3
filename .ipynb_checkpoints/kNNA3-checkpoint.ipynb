{
 "cells": [
  {
   "cell_type": "code",
   "execution_count": 1,
   "metadata": {},
   "outputs": [],
   "source": [
    "from sklearn.linear_model import LinearRegression\n",
    "import numpy as np\n",
    "import matplotlib.pyplot as plt\n",
    "import pandas as pd\n",
    "from sklearn.model_selection import train_test_split\n",
    "from sklearn.model_selection import cross_val_score\n",
    "from sklearn.linear_model import Ridge\n",
    "from sklearn.model_selection import GridSearchCV\n",
    "from sklearn.preprocessing import StandardScaler\n",
    "from sklearn.linear_model import Lasso\n",
    "from sklearn.tree import DecisionTreeRegressor\n",
    "from sklearn import tree\n",
    "from sklearn.metrics import mean_squared_error \n",
    "from sklearn.decomposition import PCA\n",
    "from sklearn.pipeline import make_pipeline\n",
    "import random\n",
    "from sklearn.model_selection import cross_val_score, cross_val_predict\n",
    "from sklearn import metrics\n",
    "from sklearn.neighbors import KNeighborsRegressor"
   ]
  },
  {
   "cell_type": "code",
   "execution_count": 2,
   "metadata": {},
   "outputs": [
    {
     "data": {
      "text/html": [
       "<div>\n",
       "<style scoped>\n",
       "    .dataframe tbody tr th:only-of-type {\n",
       "        vertical-align: middle;\n",
       "    }\n",
       "\n",
       "    .dataframe tbody tr th {\n",
       "        vertical-align: top;\n",
       "    }\n",
       "\n",
       "    .dataframe thead th {\n",
       "        text-align: right;\n",
       "    }\n",
       "</style>\n",
       "<table border=\"1\" class=\"dataframe\">\n",
       "  <thead>\n",
       "    <tr style=\"text-align: right;\">\n",
       "      <th></th>\n",
       "      <th>alcohol_by_weight</th>\n",
       "      <th>bitterness</th>\n",
       "      <th>nitrogen</th>\n",
       "      <th>turbidity</th>\n",
       "      <th>sugars</th>\n",
       "      <th>degree_of_fermentation</th>\n",
       "      <th>calorific_value</th>\n",
       "      <th>density</th>\n",
       "      <th>pH</th>\n",
       "      <th>colour</th>\n",
       "      <th>sulphites</th>\n",
       "      <th>rating</th>\n",
       "    </tr>\n",
       "  </thead>\n",
       "  <tbody>\n",
       "    <tr>\n",
       "      <th>count</th>\n",
       "      <td>936.000000</td>\n",
       "      <td>936.000000</td>\n",
       "      <td>936.000000</td>\n",
       "      <td>936.000000</td>\n",
       "      <td>936.000000</td>\n",
       "      <td>936.000000</td>\n",
       "      <td>936.000000</td>\n",
       "      <td>936.000000</td>\n",
       "      <td>936.000000</td>\n",
       "      <td>936.000000</td>\n",
       "      <td>936.000000</td>\n",
       "      <td>936.000000</td>\n",
       "    </tr>\n",
       "    <tr>\n",
       "      <th>mean</th>\n",
       "      <td>4.964243</td>\n",
       "      <td>9.637821</td>\n",
       "      <td>0.628862</td>\n",
       "      <td>0.939390</td>\n",
       "      <td>16.305962</td>\n",
       "      <td>68.374036</td>\n",
       "      <td>18.389957</td>\n",
       "      <td>0.966954</td>\n",
       "      <td>3.803814</td>\n",
       "      <td>14.106389</td>\n",
       "      <td>14.020433</td>\n",
       "      <td>67.323718</td>\n",
       "    </tr>\n",
       "    <tr>\n",
       "      <th>std</th>\n",
       "      <td>0.521894</td>\n",
       "      <td>1.852364</td>\n",
       "      <td>0.187830</td>\n",
       "      <td>0.662604</td>\n",
       "      <td>8.465123</td>\n",
       "      <td>35.483428</td>\n",
       "      <td>10.147082</td>\n",
       "      <td>0.001937</td>\n",
       "      <td>0.157151</td>\n",
       "      <td>3.726049</td>\n",
       "      <td>10.288885</td>\n",
       "      <td>10.047955</td>\n",
       "    </tr>\n",
       "    <tr>\n",
       "      <th>min</th>\n",
       "      <td>4.000000</td>\n",
       "      <td>5.700000</td>\n",
       "      <td>0.220000</td>\n",
       "      <td>0.000000</td>\n",
       "      <td>7.560000</td>\n",
       "      <td>9.384000</td>\n",
       "      <td>4.000000</td>\n",
       "      <td>0.960640</td>\n",
       "      <td>3.240000</td>\n",
       "      <td>7.095000</td>\n",
       "      <td>1.875000</td>\n",
       "      <td>38.000000</td>\n",
       "    </tr>\n",
       "    <tr>\n",
       "      <th>25%</th>\n",
       "      <td>4.523810</td>\n",
       "      <td>8.300000</td>\n",
       "      <td>0.490000</td>\n",
       "      <td>0.332000</td>\n",
       "      <td>11.970000</td>\n",
       "      <td>55.522000</td>\n",
       "      <td>10.000000</td>\n",
       "      <td>0.965770</td>\n",
       "      <td>3.700000</td>\n",
       "      <td>11.825000</td>\n",
       "      <td>6.562500</td>\n",
       "      <td>60.000000</td>\n",
       "    </tr>\n",
       "    <tr>\n",
       "      <th>50%</th>\n",
       "      <td>4.809524</td>\n",
       "      <td>9.300000</td>\n",
       "      <td>0.620000</td>\n",
       "      <td>0.896400</td>\n",
       "      <td>13.860000</td>\n",
       "      <td>62.560000</td>\n",
       "      <td>16.000000</td>\n",
       "      <td>0.966935</td>\n",
       "      <td>3.800000</td>\n",
       "      <td>13.330000</td>\n",
       "      <td>11.250000</td>\n",
       "      <td>64.000000</td>\n",
       "    </tr>\n",
       "    <tr>\n",
       "      <th>75%</th>\n",
       "      <td>5.238095</td>\n",
       "      <td>10.700000</td>\n",
       "      <td>0.740000</td>\n",
       "      <td>1.494000</td>\n",
       "      <td>17.010000</td>\n",
       "      <td>71.944000</td>\n",
       "      <td>24.000000</td>\n",
       "      <td>0.968100</td>\n",
       "      <td>3.900000</td>\n",
       "      <td>15.748750</td>\n",
       "      <td>18.515625</td>\n",
       "      <td>74.000000</td>\n",
       "    </tr>\n",
       "    <tr>\n",
       "      <th>max</th>\n",
       "      <td>7.095238</td>\n",
       "      <td>17.000000</td>\n",
       "      <td>1.680000</td>\n",
       "      <td>3.320000</td>\n",
       "      <td>86.940000</td>\n",
       "      <td>477.020000</td>\n",
       "      <td>69.000000</td>\n",
       "      <td>0.973200</td>\n",
       "      <td>4.400000</td>\n",
       "      <td>43.000000</td>\n",
       "      <td>90.312500</td>\n",
       "      <td>94.000000</td>\n",
       "    </tr>\n",
       "  </tbody>\n",
       "</table>\n",
       "</div>"
      ],
      "text/plain": [
       "       alcohol_by_weight  bitterness    nitrogen   turbidity      sugars  \\\n",
       "count         936.000000  936.000000  936.000000  936.000000  936.000000   \n",
       "mean            4.964243    9.637821    0.628862    0.939390   16.305962   \n",
       "std             0.521894    1.852364    0.187830    0.662604    8.465123   \n",
       "min             4.000000    5.700000    0.220000    0.000000    7.560000   \n",
       "25%             4.523810    8.300000    0.490000    0.332000   11.970000   \n",
       "50%             4.809524    9.300000    0.620000    0.896400   13.860000   \n",
       "75%             5.238095   10.700000    0.740000    1.494000   17.010000   \n",
       "max             7.095238   17.000000    1.680000    3.320000   86.940000   \n",
       "\n",
       "       degree_of_fermentation  calorific_value     density          pH  \\\n",
       "count              936.000000       936.000000  936.000000  936.000000   \n",
       "mean                68.374036        18.389957    0.966954    3.803814   \n",
       "std                 35.483428        10.147082    0.001937    0.157151   \n",
       "min                  9.384000         4.000000    0.960640    3.240000   \n",
       "25%                 55.522000        10.000000    0.965770    3.700000   \n",
       "50%                 62.560000        16.000000    0.966935    3.800000   \n",
       "75%                 71.944000        24.000000    0.968100    3.900000   \n",
       "max                477.020000        69.000000    0.973200    4.400000   \n",
       "\n",
       "           colour   sulphites      rating  \n",
       "count  936.000000  936.000000  936.000000  \n",
       "mean    14.106389   14.020433   67.323718  \n",
       "std      3.726049   10.288885   10.047955  \n",
       "min      7.095000    1.875000   38.000000  \n",
       "25%     11.825000    6.562500   60.000000  \n",
       "50%     13.330000   11.250000   64.000000  \n",
       "75%     15.748750   18.515625   74.000000  \n",
       "max     43.000000   90.312500   94.000000  "
      ]
     },
     "execution_count": 2,
     "metadata": {},
     "output_type": "execute_result"
    }
   ],
   "source": [
    "cols = ['alcohol_by_weight', 'rating', 'bitterness', 'nitrogen', \n",
    "        'turbidity', 'sugars', 'degree_of_fermentation', \n",
    "        'calorific_value', 'density', 'pH', 'colour', 'sulphites']\n",
    "\n",
    "cols_new = ['alcohol_by_weight', 'bitterness', 'nitrogen', \n",
    "            'turbidity', 'sugars', 'degree_of_fermentation', \n",
    "            'calorific_value', 'density', 'pH', 'colour', 'sulphites', 'rating']\n",
    "\n",
    "df = pd.read_table(\"beer_ratings.txt\", names = cols)\n",
    "\n",
    "df = df[cols_new]\n",
    "\n",
    "df.describe()"
   ]
  },
  {
   "cell_type": "code",
   "execution_count": 3,
   "metadata": {},
   "outputs": [
    {
     "data": {
      "text/html": [
       "<div>\n",
       "<style scoped>\n",
       "    .dataframe tbody tr th:only-of-type {\n",
       "        vertical-align: middle;\n",
       "    }\n",
       "\n",
       "    .dataframe tbody tr th {\n",
       "        vertical-align: top;\n",
       "    }\n",
       "\n",
       "    .dataframe thead th {\n",
       "        text-align: right;\n",
       "    }\n",
       "</style>\n",
       "<table border=\"1\" class=\"dataframe\">\n",
       "  <thead>\n",
       "    <tr style=\"text-align: right;\">\n",
       "      <th></th>\n",
       "      <th>alcohol_by_weight</th>\n",
       "      <th>bitterness</th>\n",
       "      <th>nitrogen</th>\n",
       "      <th>turbidity</th>\n",
       "      <th>sugars</th>\n",
       "      <th>degree_of_fermentation</th>\n",
       "      <th>calorific_value</th>\n",
       "      <th>density</th>\n",
       "      <th>pH</th>\n",
       "      <th>colour</th>\n",
       "      <th>sulphites</th>\n",
       "      <th>rating</th>\n",
       "    </tr>\n",
       "  </thead>\n",
       "  <tbody>\n",
       "    <tr>\n",
       "      <th>count</th>\n",
       "      <td>9.360000e+02</td>\n",
       "      <td>9.360000e+02</td>\n",
       "      <td>9.360000e+02</td>\n",
       "      <td>9.360000e+02</td>\n",
       "      <td>9.360000e+02</td>\n",
       "      <td>9.360000e+02</td>\n",
       "      <td>9.360000e+02</td>\n",
       "      <td>9.360000e+02</td>\n",
       "      <td>9.360000e+02</td>\n",
       "      <td>9.360000e+02</td>\n",
       "      <td>9.360000e+02</td>\n",
       "      <td>9.360000e+02</td>\n",
       "    </tr>\n",
       "    <tr>\n",
       "      <th>mean</th>\n",
       "      <td>-1.502715e-15</td>\n",
       "      <td>-6.167906e-17</td>\n",
       "      <td>5.954401e-17</td>\n",
       "      <td>-8.065723e-18</td>\n",
       "      <td>8.101307e-17</td>\n",
       "      <td>2.293986e-16</td>\n",
       "      <td>1.053289e-16</td>\n",
       "      <td>4.555188e-14</td>\n",
       "      <td>-2.280939e-16</td>\n",
       "      <td>2.775558e-16</td>\n",
       "      <td>-1.448865e-16</td>\n",
       "      <td>8.316591e-16</td>\n",
       "    </tr>\n",
       "    <tr>\n",
       "      <th>std</th>\n",
       "      <td>1.000535e+00</td>\n",
       "      <td>1.000535e+00</td>\n",
       "      <td>1.000535e+00</td>\n",
       "      <td>1.000535e+00</td>\n",
       "      <td>1.000535e+00</td>\n",
       "      <td>1.000535e+00</td>\n",
       "      <td>1.000535e+00</td>\n",
       "      <td>1.000535e+00</td>\n",
       "      <td>1.000535e+00</td>\n",
       "      <td>1.000535e+00</td>\n",
       "      <td>1.000535e+00</td>\n",
       "      <td>1.000535e+00</td>\n",
       "    </tr>\n",
       "    <tr>\n",
       "      <th>min</th>\n",
       "      <td>-1.848573e+00</td>\n",
       "      <td>-2.126972e+00</td>\n",
       "      <td>-2.177935e+00</td>\n",
       "      <td>-1.418483e+00</td>\n",
       "      <td>-1.033728e+00</td>\n",
       "      <td>-1.663356e+00</td>\n",
       "      <td>-1.418896e+00</td>\n",
       "      <td>-3.261357e+00</td>\n",
       "      <td>-3.589647e+00</td>\n",
       "      <td>-1.882728e+00</td>\n",
       "      <td>-1.181073e+00</td>\n",
       "      <td>-2.919937e+00</td>\n",
       "    </tr>\n",
       "    <tr>\n",
       "      <th>25%</th>\n",
       "      <td>-8.443659e-01</td>\n",
       "      <td>-7.226094e-01</td>\n",
       "      <td>-7.396939e-01</td>\n",
       "      <td>-9.171614e-01</td>\n",
       "      <td>-5.124887e-01</td>\n",
       "      <td>-3.623919e-01</td>\n",
       "      <td>-8.272765e-01</td>\n",
       "      <td>-6.117196e-01</td>\n",
       "      <td>-6.609553e-01</td>\n",
       "      <td>-6.126083e-01</td>\n",
       "      <td>-7.252409e-01</td>\n",
       "      <td>-7.292661e-01</td>\n",
       "    </tr>\n",
       "    <tr>\n",
       "      <th>50%</th>\n",
       "      <td>-2.966164e-01</td>\n",
       "      <td>-1.824701e-01</td>\n",
       "      <td>-4.720724e-02</td>\n",
       "      <td>-6.491472e-02</td>\n",
       "      <td>-2.891002e-01</td>\n",
       "      <td>-1.639398e-01</td>\n",
       "      <td>-2.356574e-01</td>\n",
       "      <td>-9.998881e-03</td>\n",
       "      <td>-2.428332e-02</td>\n",
       "      <td>-2.084793e-01</td>\n",
       "      <td>-2.694086e-01</td>\n",
       "      <td>-3.309623e-01</td>\n",
       "    </tr>\n",
       "    <tr>\n",
       "      <th>75%</th>\n",
       "      <td>5.250079e-01</td>\n",
       "      <td>5.737249e-01</td>\n",
       "      <td>5.920112e-01</td>\n",
       "      <td>8.374641e-01</td>\n",
       "      <td>8.321378e-02</td>\n",
       "      <td>1.006631e-01</td>\n",
       "      <td>5.531681e-01</td>\n",
       "      <td>5.917219e-01</td>\n",
       "      <td>6.123887e-01</td>\n",
       "      <td>4.410138e-01</td>\n",
       "      <td>4.371315e-01</td>\n",
       "      <td>6.647971e-01</td>\n",
       "    </tr>\n",
       "    <tr>\n",
       "      <th>max</th>\n",
       "      <td>4.085380e+00</td>\n",
       "      <td>3.976602e+00</td>\n",
       "      <td>5.599223e+00</td>\n",
       "      <td>3.594733e+00</td>\n",
       "      <td>8.348585e+00</td>\n",
       "      <td>1.152269e+01</td>\n",
       "      <td>4.990311e+00</td>\n",
       "      <td>3.225864e+00</td>\n",
       "      <td>3.795749e+00</td>\n",
       "      <td>7.758636e+00</td>\n",
       "      <td>7.418963e+00</td>\n",
       "      <td>2.656316e+00</td>\n",
       "    </tr>\n",
       "  </tbody>\n",
       "</table>\n",
       "</div>"
      ],
      "text/plain": [
       "       alcohol_by_weight    bitterness      nitrogen     turbidity  \\\n",
       "count       9.360000e+02  9.360000e+02  9.360000e+02  9.360000e+02   \n",
       "mean       -1.502715e-15 -6.167906e-17  5.954401e-17 -8.065723e-18   \n",
       "std         1.000535e+00  1.000535e+00  1.000535e+00  1.000535e+00   \n",
       "min        -1.848573e+00 -2.126972e+00 -2.177935e+00 -1.418483e+00   \n",
       "25%        -8.443659e-01 -7.226094e-01 -7.396939e-01 -9.171614e-01   \n",
       "50%        -2.966164e-01 -1.824701e-01 -4.720724e-02 -6.491472e-02   \n",
       "75%         5.250079e-01  5.737249e-01  5.920112e-01  8.374641e-01   \n",
       "max         4.085380e+00  3.976602e+00  5.599223e+00  3.594733e+00   \n",
       "\n",
       "             sugars  degree_of_fermentation  calorific_value       density  \\\n",
       "count  9.360000e+02            9.360000e+02     9.360000e+02  9.360000e+02   \n",
       "mean   8.101307e-17            2.293986e-16     1.053289e-16  4.555188e-14   \n",
       "std    1.000535e+00            1.000535e+00     1.000535e+00  1.000535e+00   \n",
       "min   -1.033728e+00           -1.663356e+00    -1.418896e+00 -3.261357e+00   \n",
       "25%   -5.124887e-01           -3.623919e-01    -8.272765e-01 -6.117196e-01   \n",
       "50%   -2.891002e-01           -1.639398e-01    -2.356574e-01 -9.998881e-03   \n",
       "75%    8.321378e-02            1.006631e-01     5.531681e-01  5.917219e-01   \n",
       "max    8.348585e+00            1.152269e+01     4.990311e+00  3.225864e+00   \n",
       "\n",
       "                 pH        colour     sulphites        rating  \n",
       "count  9.360000e+02  9.360000e+02  9.360000e+02  9.360000e+02  \n",
       "mean  -2.280939e-16  2.775558e-16 -1.448865e-16  8.316591e-16  \n",
       "std    1.000535e+00  1.000535e+00  1.000535e+00  1.000535e+00  \n",
       "min   -3.589647e+00 -1.882728e+00 -1.181073e+00 -2.919937e+00  \n",
       "25%   -6.609553e-01 -6.126083e-01 -7.252409e-01 -7.292661e-01  \n",
       "50%   -2.428332e-02 -2.084793e-01 -2.694086e-01 -3.309623e-01  \n",
       "75%    6.123887e-01  4.410138e-01  4.371315e-01  6.647971e-01  \n",
       "max    3.795749e+00  7.758636e+00  7.418963e+00  2.656316e+00  "
      ]
     },
     "execution_count": 3,
     "metadata": {},
     "output_type": "execute_result"
    }
   ],
   "source": [
    "scaler = StandardScaler() \n",
    "df = pd.DataFrame(scaler.fit_transform(df), columns = cols_new)\n",
    "\n",
    "X = df.iloc[:, :-1] # Independent Variables\n",
    "\n",
    "y = df.iloc[:, -1] # Dependent Variables\n",
    "\n",
    "X_train, X_test, y_train, y_test = train_test_split(X, y, test_size = 0.2, random_state = 24)\n",
    "\n",
    "df.describe()"
   ]
  },
  {
   "cell_type": "code",
   "execution_count": 4,
   "metadata": {},
   "outputs": [],
   "source": [
    "knn = KNeighborsRegressor()\n",
    "model = knn.fit(X_train, y_train)"
   ]
  },
  {
   "cell_type": "code",
   "execution_count": 5,
   "metadata": {},
   "outputs": [
    {
     "data": {
      "text/plain": [
       "0.5583284994781997"
      ]
     },
     "execution_count": 5,
     "metadata": {},
     "output_type": "execute_result"
    }
   ],
   "source": [
    "model.score(X_train, y_train)"
   ]
  },
  {
   "cell_type": "code",
   "execution_count": 6,
   "metadata": {},
   "outputs": [
    {
     "data": {
      "text/plain": [
       "0.44710637406536213"
      ]
     },
     "execution_count": 6,
     "metadata": {},
     "output_type": "execute_result"
    }
   ],
   "source": [
    "model.score(X_test, y_test)"
   ]
  },
  {
   "cell_type": "code",
   "execution_count": 7,
   "metadata": {},
   "outputs": [],
   "source": [
    "params = {\n",
    "    'algorithm': ['auto', 'ball_tree', 'kd_tree', 'brute'],\n",
    "    'n_neighbors' : range(1, 100),\n",
    "    'weights': ['uniform', 'distance'],\n",
    "    'metric': ['euclidian', 'manhattan', 'minkowski'],\n",
    "    'p': [1, 2]\n",
    "}"
   ]
  },
  {
   "cell_type": "code",
   "execution_count": 8,
   "metadata": {},
   "outputs": [],
   "source": [
    "from sklearn.neighbors import KNeighborsRegressor\n",
    "gs = GridSearchCV(\n",
    "    KNeighborsRegressor(),\n",
    "    params,\n",
    "    cv = 10,\n",
    "    n_jobs = -1\n",
    ")"
   ]
  },
  {
   "cell_type": "code",
   "execution_count": 9,
   "metadata": {},
   "outputs": [],
   "source": [
    "grid = gs.fit(X_train, y_train)"
   ]
  },
  {
   "cell_type": "code",
   "execution_count": 10,
   "metadata": {},
   "outputs": [
    {
     "data": {
      "text/plain": [
       "KNeighborsRegressor(algorithm='ball_tree', metric='manhattan', n_neighbors=23,\n",
       "                    p=1, weights='distance')"
      ]
     },
     "execution_count": 10,
     "metadata": {},
     "output_type": "execute_result"
    }
   ],
   "source": [
    "grid.best_estimator_"
   ]
  },
  {
   "cell_type": "code",
   "execution_count": 11,
   "metadata": {},
   "outputs": [],
   "source": [
    "knn = KNeighborsRegressor(algorithm='ball_tree', metric='manhattan', n_neighbors=6,\n",
    "                    p=1, weights='distance')"
   ]
  },
  {
   "cell_type": "code",
   "execution_count": 12,
   "metadata": {},
   "outputs": [],
   "source": [
    "model_optimised = knn.fit(X_train, y_train)"
   ]
  },
  {
   "cell_type": "code",
   "execution_count": 13,
   "metadata": {},
   "outputs": [
    {
     "data": {
      "text/plain": [
       "0.9948451327797244"
      ]
     },
     "execution_count": 13,
     "metadata": {},
     "output_type": "execute_result"
    }
   ],
   "source": [
    "model_optimised.score(X_train, y_train)"
   ]
  },
  {
   "cell_type": "code",
   "execution_count": 14,
   "metadata": {},
   "outputs": [
    {
     "data": {
      "text/plain": [
       "0.5485662411389145"
      ]
     },
     "execution_count": 14,
     "metadata": {},
     "output_type": "execute_result"
    }
   ],
   "source": [
    "model_optimised.score(X_test, y_test)"
   ]
  },
  {
   "cell_type": "code",
   "execution_count": 15,
   "metadata": {},
   "outputs": [],
   "source": [
    "rmse_val = [] #to store rmse values for different k\n",
    "k = []\n",
    "for K in range(50):\n",
    "    K = K+1\n",
    "    model = KNeighborsRegressor(n_neighbors = K)\n",
    "    model.fit(X_train, y_train)  #fit the model\n",
    "    pred=model.predict(X_test) #make prediction on test set\n",
    "    error = np.sqrt(mean_squared_error(y_test,pred)) #calculate rmse\n",
    "    rmse_val.append(error) #store rmse values\n",
    "    k.append(K)"
   ]
  },
  {
   "cell_type": "code",
   "execution_count": 16,
   "metadata": {},
   "outputs": [
    {
     "data": {
      "text/plain": [
       "Text(0, 0.5, 'RMSE')"
      ]
     },
     "execution_count": 16,
     "metadata": {},
     "output_type": "execute_result"
    },
    {
     "data": {
      "image/png": "[encoded data removed]",
      "text/plain": [
       "<Figure size 432x288 with 1 Axes>"
      ]
     },
     "metadata": {
      "needs_background": "light"
     },
     "output_type": "display_data"
    }
   ],
   "source": [
    "fig, ax = plt.subplots()\n",
    "plt.plot(k, rmse_val, 'g-')\n",
    "plt.axvline(x=6, c ='purple', alpha = 0.5)\n",
    "plt.axvline(x=23, c ='purple', alpha = 0.5)\n",
    "plt.title('Elbow Plot')\n",
    "plt.xlabel('k')\n",
    "plt.ylabel('RMSE')"
   ]
  },
  {
   "cell_type": "code",
   "execution_count": 17,
   "metadata": {},
   "outputs": [],
   "source": [
    "pred_train = cross_val_predict(model_optimised, X_train, y_train, cv = 10)"
   ]
  },
  {
   "cell_type": "code",
   "execution_count": 18,
   "metadata": {},
   "outputs": [],
   "source": [
    "pred_test = cross_val_predict(model_optimised, X_test, y_test, cv = 10)"
   ]
  },
  {
   "cell_type": "code",
   "execution_count": 19,
   "metadata": {},
   "outputs": [
    {
     "data": {
      "text/plain": [
       "<matplotlib.collections.PathCollection at 0x1ebfdbf71f0>"
      ]
     },
     "execution_count": 19,
     "metadata": {},
     "output_type": "execute_result"
    },
    {
     "data": {
      "image/png": "[encoded data removed]",
      "text/plain": [
       "<Figure size 432x288 with 1 Axes>"
      ]
     },
     "metadata": {
      "needs_background": "light"
     },
     "output_type": "display_data"
    }
   ],
   "source": [
    "plt.scatter(y_train, pred_train)"
   ]
  },
  {
   "cell_type": "code",
   "execution_count": 20,
   "metadata": {},
   "outputs": [
    {
     "data": {
      "text/plain": [
       "<matplotlib.collections.PathCollection at 0x1ebfdb648e0>"
      ]
     },
     "execution_count": 20,
     "metadata": {},
     "output_type": "execute_result"
    },
    {
     "data": {
      "image/png": "[encoded data removed]",
      "text/plain": [
       "<Figure size 432x288 with 1 Axes>"
      ]
     },
     "metadata": {
      "needs_background": "light"
     },
     "output_type": "display_data"
    }
   ],
   "source": [
    "plt.scatter(y_test, pred_test)"
   ]
  },
  {
   "cell_type": "code",
   "execution_count": 21,
   "metadata": {},
   "outputs": [
    {
     "data": {
      "text/plain": [
       "0.4406864016815478"
      ]
     },
     "execution_count": 21,
     "metadata": {},
     "output_type": "execute_result"
    }
   ],
   "source": [
    "metrics.r2_score(y_train, pred_train)"
   ]
  },
  {
   "cell_type": "code",
   "execution_count": 22,
   "metadata": {},
   "outputs": [
    {
     "data": {
      "text/plain": [
       "0.3661055041799607"
      ]
     },
     "execution_count": 22,
     "metadata": {},
     "output_type": "execute_result"
    }
   ],
   "source": [
    "metrics.r2_score(y_test, pred_test)"
   ]
  },
  {
   "cell_type": "code",
   "execution_count": 23,
   "metadata": {},
   "outputs": [
    {
     "data": {
      "image/png": "[encoded data removed]",
      "text/plain": [
       "<Figure size 432x288 with 1 Axes>"
      ]
     },
     "metadata": {
      "needs_background": "light"
     },
     "output_type": "display_data"
    }
   ],
   "source": [
    "pca = make_pipeline(StandardScaler(),\n",
    "                    PCA(n_components=4, random_state=24))\n",
    "plt.figure()\n",
    "pca.fit(X_train, y_train)\n",
    "knn.fit(pca.transform(X_train), y_train)\n",
    "acc_knn = knn.score(pca.transform(X_test), y_test)\n",
    "X_plot = pca.transform(X)\n",
    "\n",
    "# Plot the projected points and show the evaluation score\n",
    "plt.scatter(X_plot[:, 0], X_plot[:, 1], c=y, s=5, cmap='Set1', alpha = 0.5)\n",
    "plt.xlabel('D1')\n",
    "plt.ylabel('D2')\n",
    "plt.title(\"PCA, KNN (k = {})\\nTest accuracy = {:.3f}\".format(23, 0.397))\n",
    "plt.show()"
   ]
  },
  {
   "cell_type": "code",
   "execution_count": 24,
   "metadata": {},
   "outputs": [
    {
     "data": {
      "text/plain": [
       "0.7340012511742572"
      ]
     },
     "execution_count": 24,
     "metadata": {},
     "output_type": "execute_result"
    }
   ],
   "source": [
    "np.sqrt(metrics.mean_squared_error(y_train, pred_train))"
   ]
  },
  {
   "cell_type": "code",
   "execution_count": 25,
   "metadata": {},
   "outputs": [
    {
     "data": {
      "text/plain": [
       "0.8509908618177138"
      ]
     },
     "execution_count": 25,
     "metadata": {},
     "output_type": "execute_result"
    }
   ],
   "source": [
    "np.sqrt(metrics.mean_squared_error(y_test, pred_test))"
   ]
  },
  {
   "cell_type": "code",
   "execution_count": 26,
   "metadata": {},
   "outputs": [
    {
     "data": {
      "text/plain": [
       "0.5387139415974048"
      ]
     },
     "execution_count": 26,
     "metadata": {},
     "output_type": "execute_result"
    }
   ],
   "source": [
    "(metrics.mean_absolute_error(y_train, pred_train))"
   ]
  },
  {
   "cell_type": "code",
   "execution_count": 27,
   "metadata": {},
   "outputs": [
    {
     "data": {
      "text/plain": [
       "0.6553624936167584"
      ]
     },
     "execution_count": 27,
     "metadata": {},
     "output_type": "execute_result"
    }
   ],
   "source": [
    "(metrics.mean_absolute_error(y_test, pred_test))"
   ]
  }
 ],
 "metadata": {
  "kernelspec": {
   "display_name": "Python 3",
   "language": "python",
   "name": "python3"
  },
  "language_info": {
   "codemirror_mode": {
    "name": "ipython",
    "version": 3
   },
   "file_extension": ".py",
   "mimetype": "text/x-python",
   "name": "python",
   "nbconvert_exporter": "python",
   "pygments_lexer": "ipython3",
   "version": "3.8.5"
  }
 },
 "nbformat": 4,
 "nbformat_minor": 4
}
