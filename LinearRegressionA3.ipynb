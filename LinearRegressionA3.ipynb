{
 "cells": [
  {
   "cell_type": "code",
   "execution_count": 1,
   "metadata": {},
   "outputs": [],
   "source": [
    "from sklearn.linear_model import LinearRegression\n",
    "import numpy as np\n",
    "import matplotlib.pyplot as plt\n",
    "import pandas as pd\n",
    "from sklearn.model_selection import train_test_split\n",
    "from sklearn.model_selection import cross_val_score\n",
    "from sklearn.linear_model import Ridge\n",
    "from sklearn.model_selection import GridSearchCV\n",
    "from sklearn.preprocessing import StandardScaler\n",
    "from sklearn.linear_model import Lasso\n",
    "from sklearn.tree import DecisionTreeRegressor\n",
    "from sklearn import tree\n",
    "from sklearn.metrics import mean_squared_error \n",
    "from sklearn.decomposition import PCA\n",
    "from sklearn.pipeline import make_pipeline\n",
    "import graphviz\n",
    "from sklearn.model_selection import cross_val_score, cross_val_predict\n",
    "from sklearn import metrics\n",
    "import random"
   ]
  },
  {
   "cell_type": "code",
   "execution_count": 2,
   "metadata": {},
   "outputs": [
    {
     "data": {
      "text/html": [
       "<div>\n",
       "<style scoped>\n",
       "    .dataframe tbody tr th:only-of-type {\n",
       "        vertical-align: middle;\n",
       "    }\n",
       "\n",
       "    .dataframe tbody tr th {\n",
       "        vertical-align: top;\n",
       "    }\n",
       "\n",
       "    .dataframe thead th {\n",
       "        text-align: right;\n",
       "    }\n",
       "</style>\n",
       "<table border=\"1\" class=\"dataframe\">\n",
       "  <thead>\n",
       "    <tr style=\"text-align: right;\">\n",
       "      <th></th>\n",
       "      <th>alcohol_by_weight</th>\n",
       "      <th>bitterness</th>\n",
       "      <th>nitrogen</th>\n",
       "      <th>turbidity</th>\n",
       "      <th>sugars</th>\n",
       "      <th>degree_of_fermentation</th>\n",
       "      <th>calorific_value</th>\n",
       "      <th>density</th>\n",
       "      <th>pH</th>\n",
       "      <th>colour</th>\n",
       "      <th>sulphites</th>\n",
       "      <th>rating</th>\n",
       "    </tr>\n",
       "  </thead>\n",
       "  <tbody>\n",
       "    <tr>\n",
       "      <th>count</th>\n",
       "      <td>936.000000</td>\n",
       "      <td>936.000000</td>\n",
       "      <td>936.000000</td>\n",
       "      <td>936.000000</td>\n",
       "      <td>936.000000</td>\n",
       "      <td>936.000000</td>\n",
       "      <td>936.000000</td>\n",
       "      <td>936.000000</td>\n",
       "      <td>936.000000</td>\n",
       "      <td>936.000000</td>\n",
       "      <td>936.000000</td>\n",
       "      <td>936.000000</td>\n",
       "    </tr>\n",
       "    <tr>\n",
       "      <th>mean</th>\n",
       "      <td>4.964243</td>\n",
       "      <td>9.637821</td>\n",
       "      <td>0.628862</td>\n",
       "      <td>0.939390</td>\n",
       "      <td>16.305962</td>\n",
       "      <td>68.374036</td>\n",
       "      <td>18.389957</td>\n",
       "      <td>0.966954</td>\n",
       "      <td>3.803814</td>\n",
       "      <td>14.106389</td>\n",
       "      <td>14.020433</td>\n",
       "      <td>67.323718</td>\n",
       "    </tr>\n",
       "    <tr>\n",
       "      <th>std</th>\n",
       "      <td>0.521894</td>\n",
       "      <td>1.852364</td>\n",
       "      <td>0.187830</td>\n",
       "      <td>0.662604</td>\n",
       "      <td>8.465123</td>\n",
       "      <td>35.483428</td>\n",
       "      <td>10.147082</td>\n",
       "      <td>0.001937</td>\n",
       "      <td>0.157151</td>\n",
       "      <td>3.726049</td>\n",
       "      <td>10.288885</td>\n",
       "      <td>10.047955</td>\n",
       "    </tr>\n",
       "    <tr>\n",
       "      <th>min</th>\n",
       "      <td>4.000000</td>\n",
       "      <td>5.700000</td>\n",
       "      <td>0.220000</td>\n",
       "      <td>0.000000</td>\n",
       "      <td>7.560000</td>\n",
       "      <td>9.384000</td>\n",
       "      <td>4.000000</td>\n",
       "      <td>0.960640</td>\n",
       "      <td>3.240000</td>\n",
       "      <td>7.095000</td>\n",
       "      <td>1.875000</td>\n",
       "      <td>38.000000</td>\n",
       "    </tr>\n",
       "    <tr>\n",
       "      <th>25%</th>\n",
       "      <td>4.523810</td>\n",
       "      <td>8.300000</td>\n",
       "      <td>0.490000</td>\n",
       "      <td>0.332000</td>\n",
       "      <td>11.970000</td>\n",
       "      <td>55.522000</td>\n",
       "      <td>10.000000</td>\n",
       "      <td>0.965770</td>\n",
       "      <td>3.700000</td>\n",
       "      <td>11.825000</td>\n",
       "      <td>6.562500</td>\n",
       "      <td>60.000000</td>\n",
       "    </tr>\n",
       "    <tr>\n",
       "      <th>50%</th>\n",
       "      <td>4.809524</td>\n",
       "      <td>9.300000</td>\n",
       "      <td>0.620000</td>\n",
       "      <td>0.896400</td>\n",
       "      <td>13.860000</td>\n",
       "      <td>62.560000</td>\n",
       "      <td>16.000000</td>\n",
       "      <td>0.966935</td>\n",
       "      <td>3.800000</td>\n",
       "      <td>13.330000</td>\n",
       "      <td>11.250000</td>\n",
       "      <td>64.000000</td>\n",
       "    </tr>\n",
       "    <tr>\n",
       "      <th>75%</th>\n",
       "      <td>5.238095</td>\n",
       "      <td>10.700000</td>\n",
       "      <td>0.740000</td>\n",
       "      <td>1.494000</td>\n",
       "      <td>17.010000</td>\n",
       "      <td>71.944000</td>\n",
       "      <td>24.000000</td>\n",
       "      <td>0.968100</td>\n",
       "      <td>3.900000</td>\n",
       "      <td>15.748750</td>\n",
       "      <td>18.515625</td>\n",
       "      <td>74.000000</td>\n",
       "    </tr>\n",
       "    <tr>\n",
       "      <th>max</th>\n",
       "      <td>7.095238</td>\n",
       "      <td>17.000000</td>\n",
       "      <td>1.680000</td>\n",
       "      <td>3.320000</td>\n",
       "      <td>86.940000</td>\n",
       "      <td>477.020000</td>\n",
       "      <td>69.000000</td>\n",
       "      <td>0.973200</td>\n",
       "      <td>4.400000</td>\n",
       "      <td>43.000000</td>\n",
       "      <td>90.312500</td>\n",
       "      <td>94.000000</td>\n",
       "    </tr>\n",
       "  </tbody>\n",
       "</table>\n",
       "</div>"
      ],
      "text/plain": [
       "       alcohol_by_weight  bitterness    nitrogen   turbidity      sugars  \\\n",
       "count         936.000000  936.000000  936.000000  936.000000  936.000000   \n",
       "mean            4.964243    9.637821    0.628862    0.939390   16.305962   \n",
       "std             0.521894    1.852364    0.187830    0.662604    8.465123   \n",
       "min             4.000000    5.700000    0.220000    0.000000    7.560000   \n",
       "25%             4.523810    8.300000    0.490000    0.332000   11.970000   \n",
       "50%             4.809524    9.300000    0.620000    0.896400   13.860000   \n",
       "75%             5.238095   10.700000    0.740000    1.494000   17.010000   \n",
       "max             7.095238   17.000000    1.680000    3.320000   86.940000   \n",
       "\n",
       "       degree_of_fermentation  calorific_value     density          pH  \\\n",
       "count              936.000000       936.000000  936.000000  936.000000   \n",
       "mean                68.374036        18.389957    0.966954    3.803814   \n",
       "std                 35.483428        10.147082    0.001937    0.157151   \n",
       "min                  9.384000         4.000000    0.960640    3.240000   \n",
       "25%                 55.522000        10.000000    0.965770    3.700000   \n",
       "50%                 62.560000        16.000000    0.966935    3.800000   \n",
       "75%                 71.944000        24.000000    0.968100    3.900000   \n",
       "max                477.020000        69.000000    0.973200    4.400000   \n",
       "\n",
       "           colour   sulphites      rating  \n",
       "count  936.000000  936.000000  936.000000  \n",
       "mean    14.106389   14.020433   67.323718  \n",
       "std      3.726049   10.288885   10.047955  \n",
       "min      7.095000    1.875000   38.000000  \n",
       "25%     11.825000    6.562500   60.000000  \n",
       "50%     13.330000   11.250000   64.000000  \n",
       "75%     15.748750   18.515625   74.000000  \n",
       "max     43.000000   90.312500   94.000000  "
      ]
     },
     "execution_count": 2,
     "metadata": {},
     "output_type": "execute_result"
    }
   ],
   "source": [
    "cols = ['alcohol_by_weight', 'rating', 'bitterness', 'nitrogen', \n",
    "        'turbidity', 'sugars', 'degree_of_fermentation', \n",
    "        'calorific_value', 'density', 'pH', 'colour', 'sulphites']\n",
    "\n",
    "cols_new = ['alcohol_by_weight', 'bitterness', 'nitrogen', \n",
    "            'turbidity', 'sugars', 'degree_of_fermentation', \n",
    "            'calorific_value', 'density', 'pH', 'colour', 'sulphites', 'rating']\n",
    "\n",
    "df = pd.read_table(\"beer_ratings.txt\", names = cols)\n",
    "\n",
    "df = df[cols_new]\n",
    "\n",
    "df.describe()"
   ]
  },
  {
   "cell_type": "code",
   "execution_count": 3,
   "metadata": {},
   "outputs": [
    {
     "data": {
      "text/html": [
       "<div>\n",
       "<style scoped>\n",
       "    .dataframe tbody tr th:only-of-type {\n",
       "        vertical-align: middle;\n",
       "    }\n",
       "\n",
       "    .dataframe tbody tr th {\n",
       "        vertical-align: top;\n",
       "    }\n",
       "\n",
       "    .dataframe thead th {\n",
       "        text-align: right;\n",
       "    }\n",
       "</style>\n",
       "<table border=\"1\" class=\"dataframe\">\n",
       "  <thead>\n",
       "    <tr style=\"text-align: right;\">\n",
       "      <th></th>\n",
       "      <th>alcohol_by_weight</th>\n",
       "      <th>bitterness</th>\n",
       "      <th>nitrogen</th>\n",
       "      <th>turbidity</th>\n",
       "      <th>sugars</th>\n",
       "      <th>degree_of_fermentation</th>\n",
       "      <th>calorific_value</th>\n",
       "      <th>density</th>\n",
       "      <th>pH</th>\n",
       "      <th>colour</th>\n",
       "      <th>sulphites</th>\n",
       "      <th>rating</th>\n",
       "    </tr>\n",
       "  </thead>\n",
       "  <tbody>\n",
       "    <tr>\n",
       "      <th>count</th>\n",
       "      <td>9.360000e+02</td>\n",
       "      <td>9.360000e+02</td>\n",
       "      <td>9.360000e+02</td>\n",
       "      <td>9.360000e+02</td>\n",
       "      <td>9.360000e+02</td>\n",
       "      <td>9.360000e+02</td>\n",
       "      <td>9.360000e+02</td>\n",
       "      <td>9.360000e+02</td>\n",
       "      <td>9.360000e+02</td>\n",
       "      <td>9.360000e+02</td>\n",
       "      <td>9.360000e+02</td>\n",
       "      <td>9.360000e+02</td>\n",
       "    </tr>\n",
       "    <tr>\n",
       "      <th>mean</th>\n",
       "      <td>-1.502715e-15</td>\n",
       "      <td>-6.167906e-17</td>\n",
       "      <td>5.954401e-17</td>\n",
       "      <td>-8.065723e-18</td>\n",
       "      <td>8.101307e-17</td>\n",
       "      <td>2.293986e-16</td>\n",
       "      <td>1.053289e-16</td>\n",
       "      <td>4.555188e-14</td>\n",
       "      <td>-2.280939e-16</td>\n",
       "      <td>2.775558e-16</td>\n",
       "      <td>-1.448865e-16</td>\n",
       "      <td>8.316591e-16</td>\n",
       "    </tr>\n",
       "    <tr>\n",
       "      <th>std</th>\n",
       "      <td>1.000535e+00</td>\n",
       "      <td>1.000535e+00</td>\n",
       "      <td>1.000535e+00</td>\n",
       "      <td>1.000535e+00</td>\n",
       "      <td>1.000535e+00</td>\n",
       "      <td>1.000535e+00</td>\n",
       "      <td>1.000535e+00</td>\n",
       "      <td>1.000535e+00</td>\n",
       "      <td>1.000535e+00</td>\n",
       "      <td>1.000535e+00</td>\n",
       "      <td>1.000535e+00</td>\n",
       "      <td>1.000535e+00</td>\n",
       "    </tr>\n",
       "    <tr>\n",
       "      <th>min</th>\n",
       "      <td>-1.848573e+00</td>\n",
       "      <td>-2.126972e+00</td>\n",
       "      <td>-2.177935e+00</td>\n",
       "      <td>-1.418483e+00</td>\n",
       "      <td>-1.033728e+00</td>\n",
       "      <td>-1.663356e+00</td>\n",
       "      <td>-1.418896e+00</td>\n",
       "      <td>-3.261357e+00</td>\n",
       "      <td>-3.589647e+00</td>\n",
       "      <td>-1.882728e+00</td>\n",
       "      <td>-1.181073e+00</td>\n",
       "      <td>-2.919937e+00</td>\n",
       "    </tr>\n",
       "    <tr>\n",
       "      <th>25%</th>\n",
       "      <td>-8.443659e-01</td>\n",
       "      <td>-7.226094e-01</td>\n",
       "      <td>-7.396939e-01</td>\n",
       "      <td>-9.171614e-01</td>\n",
       "      <td>-5.124887e-01</td>\n",
       "      <td>-3.623919e-01</td>\n",
       "      <td>-8.272765e-01</td>\n",
       "      <td>-6.117196e-01</td>\n",
       "      <td>-6.609553e-01</td>\n",
       "      <td>-6.126083e-01</td>\n",
       "      <td>-7.252409e-01</td>\n",
       "      <td>-7.292661e-01</td>\n",
       "    </tr>\n",
       "    <tr>\n",
       "      <th>50%</th>\n",
       "      <td>-2.966164e-01</td>\n",
       "      <td>-1.824701e-01</td>\n",
       "      <td>-4.720724e-02</td>\n",
       "      <td>-6.491472e-02</td>\n",
       "      <td>-2.891002e-01</td>\n",
       "      <td>-1.639398e-01</td>\n",
       "      <td>-2.356574e-01</td>\n",
       "      <td>-9.998881e-03</td>\n",
       "      <td>-2.428332e-02</td>\n",
       "      <td>-2.084793e-01</td>\n",
       "      <td>-2.694086e-01</td>\n",
       "      <td>-3.309623e-01</td>\n",
       "    </tr>\n",
       "    <tr>\n",
       "      <th>75%</th>\n",
       "      <td>5.250079e-01</td>\n",
       "      <td>5.737249e-01</td>\n",
       "      <td>5.920112e-01</td>\n",
       "      <td>8.374641e-01</td>\n",
       "      <td>8.321378e-02</td>\n",
       "      <td>1.006631e-01</td>\n",
       "      <td>5.531681e-01</td>\n",
       "      <td>5.917219e-01</td>\n",
       "      <td>6.123887e-01</td>\n",
       "      <td>4.410138e-01</td>\n",
       "      <td>4.371315e-01</td>\n",
       "      <td>6.647971e-01</td>\n",
       "    </tr>\n",
       "    <tr>\n",
       "      <th>max</th>\n",
       "      <td>4.085380e+00</td>\n",
       "      <td>3.976602e+00</td>\n",
       "      <td>5.599223e+00</td>\n",
       "      <td>3.594733e+00</td>\n",
       "      <td>8.348585e+00</td>\n",
       "      <td>1.152269e+01</td>\n",
       "      <td>4.990311e+00</td>\n",
       "      <td>3.225864e+00</td>\n",
       "      <td>3.795749e+00</td>\n",
       "      <td>7.758636e+00</td>\n",
       "      <td>7.418963e+00</td>\n",
       "      <td>2.656316e+00</td>\n",
       "    </tr>\n",
       "  </tbody>\n",
       "</table>\n",
       "</div>"
      ],
      "text/plain": [
       "       alcohol_by_weight    bitterness      nitrogen     turbidity  \\\n",
       "count       9.360000e+02  9.360000e+02  9.360000e+02  9.360000e+02   \n",
       "mean       -1.502715e-15 -6.167906e-17  5.954401e-17 -8.065723e-18   \n",
       "std         1.000535e+00  1.000535e+00  1.000535e+00  1.000535e+00   \n",
       "min        -1.848573e+00 -2.126972e+00 -2.177935e+00 -1.418483e+00   \n",
       "25%        -8.443659e-01 -7.226094e-01 -7.396939e-01 -9.171614e-01   \n",
       "50%        -2.966164e-01 -1.824701e-01 -4.720724e-02 -6.491472e-02   \n",
       "75%         5.250079e-01  5.737249e-01  5.920112e-01  8.374641e-01   \n",
       "max         4.085380e+00  3.976602e+00  5.599223e+00  3.594733e+00   \n",
       "\n",
       "             sugars  degree_of_fermentation  calorific_value       density  \\\n",
       "count  9.360000e+02            9.360000e+02     9.360000e+02  9.360000e+02   \n",
       "mean   8.101307e-17            2.293986e-16     1.053289e-16  4.555188e-14   \n",
       "std    1.000535e+00            1.000535e+00     1.000535e+00  1.000535e+00   \n",
       "min   -1.033728e+00           -1.663356e+00    -1.418896e+00 -3.261357e+00   \n",
       "25%   -5.124887e-01           -3.623919e-01    -8.272765e-01 -6.117196e-01   \n",
       "50%   -2.891002e-01           -1.639398e-01    -2.356574e-01 -9.998881e-03   \n",
       "75%    8.321378e-02            1.006631e-01     5.531681e-01  5.917219e-01   \n",
       "max    8.348585e+00            1.152269e+01     4.990311e+00  3.225864e+00   \n",
       "\n",
       "                 pH        colour     sulphites        rating  \n",
       "count  9.360000e+02  9.360000e+02  9.360000e+02  9.360000e+02  \n",
       "mean  -2.280939e-16  2.775558e-16 -1.448865e-16  8.316591e-16  \n",
       "std    1.000535e+00  1.000535e+00  1.000535e+00  1.000535e+00  \n",
       "min   -3.589647e+00 -1.882728e+00 -1.181073e+00 -2.919937e+00  \n",
       "25%   -6.609553e-01 -6.126083e-01 -7.252409e-01 -7.292661e-01  \n",
       "50%   -2.428332e-02 -2.084793e-01 -2.694086e-01 -3.309623e-01  \n",
       "75%    6.123887e-01  4.410138e-01  4.371315e-01  6.647971e-01  \n",
       "max    3.795749e+00  7.758636e+00  7.418963e+00  2.656316e+00  "
      ]
     },
     "execution_count": 3,
     "metadata": {},
     "output_type": "execute_result"
    }
   ],
   "source": [
    "scaler = StandardScaler() \n",
    "df = pd.DataFrame(scaler.fit_transform(df), columns = cols_new)\n",
    "\n",
    "X = df.iloc[:, :-1] # Independent Variables\n",
    "\n",
    "y = df.iloc[:, -1] # Dependent Variables\n",
    "\n",
    "X_train, X_test, y_train, y_test = train_test_split(X, y, test_size = 0.2, random_state = 24)\n",
    "\n",
    "df.describe()"
   ]
  },
  {
   "cell_type": "code",
   "execution_count": 4,
   "metadata": {},
   "outputs": [
    {
     "data": {
      "text/html": [
       "<style  type=\"text/css\" >\n",
       "#T_01c6bc97_4dd5_11eb_8ac8_7085c28d1f37row0_col0,#T_01c6bc97_4dd5_11eb_8ac8_7085c28d1f37row1_col1,#T_01c6bc97_4dd5_11eb_8ac8_7085c28d1f37row2_col2,#T_01c6bc97_4dd5_11eb_8ac8_7085c28d1f37row3_col3,#T_01c6bc97_4dd5_11eb_8ac8_7085c28d1f37row4_col4,#T_01c6bc97_4dd5_11eb_8ac8_7085c28d1f37row5_col5,#T_01c6bc97_4dd5_11eb_8ac8_7085c28d1f37row6_col6,#T_01c6bc97_4dd5_11eb_8ac8_7085c28d1f37row7_col7,#T_01c6bc97_4dd5_11eb_8ac8_7085c28d1f37row8_col8,#T_01c6bc97_4dd5_11eb_8ac8_7085c28d1f37row9_col9,#T_01c6bc97_4dd5_11eb_8ac8_7085c28d1f37row10_col10,#T_01c6bc97_4dd5_11eb_8ac8_7085c28d1f37row11_col11{\n",
       "            background-color:  #b40426;\n",
       "            color:  #f1f1f1;\n",
       "        }#T_01c6bc97_4dd5_11eb_8ac8_7085c28d1f37row0_col1,#T_01c6bc97_4dd5_11eb_8ac8_7085c28d1f37row9_col7{\n",
       "            background-color:  #c0d4f5;\n",
       "            color:  #000000;\n",
       "        }#T_01c6bc97_4dd5_11eb_8ac8_7085c28d1f37row0_col2{\n",
       "            background-color:  #82a6fb;\n",
       "            color:  #000000;\n",
       "        }#T_01c6bc97_4dd5_11eb_8ac8_7085c28d1f37row0_col3{\n",
       "            background-color:  #d5dbe5;\n",
       "            color:  #000000;\n",
       "        }#T_01c6bc97_4dd5_11eb_8ac8_7085c28d1f37row0_col4{\n",
       "            background-color:  #7da0f9;\n",
       "            color:  #000000;\n",
       "        }#T_01c6bc97_4dd5_11eb_8ac8_7085c28d1f37row0_col5{\n",
       "            background-color:  #445acc;\n",
       "            color:  #f1f1f1;\n",
       "        }#T_01c6bc97_4dd5_11eb_8ac8_7085c28d1f37row0_col6{\n",
       "            background-color:  #3e51c5;\n",
       "            color:  #f1f1f1;\n",
       "        }#T_01c6bc97_4dd5_11eb_8ac8_7085c28d1f37row0_col7,#T_01c6bc97_4dd5_11eb_8ac8_7085c28d1f37row0_col10,#T_01c6bc97_4dd5_11eb_8ac8_7085c28d1f37row1_col6,#T_01c6bc97_4dd5_11eb_8ac8_7085c28d1f37row1_col8,#T_01c6bc97_4dd5_11eb_8ac8_7085c28d1f37row2_col9,#T_01c6bc97_4dd5_11eb_8ac8_7085c28d1f37row2_col11,#T_01c6bc97_4dd5_11eb_8ac8_7085c28d1f37row3_col2,#T_01c6bc97_4dd5_11eb_8ac8_7085c28d1f37row7_col0,#T_01c6bc97_4dd5_11eb_8ac8_7085c28d1f37row8_col1,#T_01c6bc97_4dd5_11eb_8ac8_7085c28d1f37row8_col3,#T_01c6bc97_4dd5_11eb_8ac8_7085c28d1f37row8_col4,#T_01c6bc97_4dd5_11eb_8ac8_7085c28d1f37row8_col5{\n",
       "            background-color:  #3b4cc0;\n",
       "            color:  #f1f1f1;\n",
       "        }#T_01c6bc97_4dd5_11eb_8ac8_7085c28d1f37row0_col8{\n",
       "            background-color:  #dedcdb;\n",
       "            color:  #000000;\n",
       "        }#T_01c6bc97_4dd5_11eb_8ac8_7085c28d1f37row0_col9{\n",
       "            background-color:  #bad0f8;\n",
       "            color:  #000000;\n",
       "        }#T_01c6bc97_4dd5_11eb_8ac8_7085c28d1f37row0_col11{\n",
       "            background-color:  #f6bea4;\n",
       "            color:  #000000;\n",
       "        }#T_01c6bc97_4dd5_11eb_8ac8_7085c28d1f37row1_col0,#T_01c6bc97_4dd5_11eb_8ac8_7085c28d1f37row9_col8{\n",
       "            background-color:  #9dbdff;\n",
       "            color:  #000000;\n",
       "        }#T_01c6bc97_4dd5_11eb_8ac8_7085c28d1f37row1_col2{\n",
       "            background-color:  #7699f6;\n",
       "            color:  #000000;\n",
       "        }#T_01c6bc97_4dd5_11eb_8ac8_7085c28d1f37row1_col3,#T_01c6bc97_4dd5_11eb_8ac8_7085c28d1f37row7_col1{\n",
       "            background-color:  #ea7b60;\n",
       "            color:  #000000;\n",
       "        }#T_01c6bc97_4dd5_11eb_8ac8_7085c28d1f37row1_col4,#T_01c6bc97_4dd5_11eb_8ac8_7085c28d1f37row2_col1,#T_01c6bc97_4dd5_11eb_8ac8_7085c28d1f37row4_col5,#T_01c6bc97_4dd5_11eb_8ac8_7085c28d1f37row4_col9,#T_01c6bc97_4dd5_11eb_8ac8_7085c28d1f37row10_col4{\n",
       "            background-color:  #8db0fe;\n",
       "            color:  #000000;\n",
       "        }#T_01c6bc97_4dd5_11eb_8ac8_7085c28d1f37row1_col5{\n",
       "            background-color:  #98b9ff;\n",
       "            color:  #000000;\n",
       "        }#T_01c6bc97_4dd5_11eb_8ac8_7085c28d1f37row1_col7{\n",
       "            background-color:  #f08a6c;\n",
       "            color:  #000000;\n",
       "        }#T_01c6bc97_4dd5_11eb_8ac8_7085c28d1f37row1_col9,#T_01c6bc97_4dd5_11eb_8ac8_7085c28d1f37row5_col2,#T_01c6bc97_4dd5_11eb_8ac8_7085c28d1f37row7_col4{\n",
       "            background-color:  #c3d5f4;\n",
       "            color:  #000000;\n",
       "        }#T_01c6bc97_4dd5_11eb_8ac8_7085c28d1f37row1_col10{\n",
       "            background-color:  #4f69d9;\n",
       "            color:  #000000;\n",
       "        }#T_01c6bc97_4dd5_11eb_8ac8_7085c28d1f37row1_col11{\n",
       "            background-color:  #ccd9ed;\n",
       "            color:  #000000;\n",
       "        }#T_01c6bc97_4dd5_11eb_8ac8_7085c28d1f37row2_col0{\n",
       "            background-color:  #6c8ff1;\n",
       "            color:  #000000;\n",
       "        }#T_01c6bc97_4dd5_11eb_8ac8_7085c28d1f37row2_col3{\n",
       "            background-color:  #3d50c3;\n",
       "            color:  #f1f1f1;\n",
       "        }#T_01c6bc97_4dd5_11eb_8ac8_7085c28d1f37row2_col4{\n",
       "            background-color:  #6282ea;\n",
       "            color:  #000000;\n",
       "        }#T_01c6bc97_4dd5_11eb_8ac8_7085c28d1f37row2_col5{\n",
       "            background-color:  #93b5fe;\n",
       "            color:  #000000;\n",
       "        }#T_01c6bc97_4dd5_11eb_8ac8_7085c28d1f37row2_col6{\n",
       "            background-color:  #6384eb;\n",
       "            color:  #000000;\n",
       "        }#T_01c6bc97_4dd5_11eb_8ac8_7085c28d1f37row2_col7{\n",
       "            background-color:  #a3c2fe;\n",
       "            color:  #000000;\n",
       "        }#T_01c6bc97_4dd5_11eb_8ac8_7085c28d1f37row2_col8,#T_01c6bc97_4dd5_11eb_8ac8_7085c28d1f37row9_col11{\n",
       "            background-color:  #ead4c8;\n",
       "            color:  #000000;\n",
       "        }#T_01c6bc97_4dd5_11eb_8ac8_7085c28d1f37row2_col10,#T_01c6bc97_4dd5_11eb_8ac8_7085c28d1f37row6_col4,#T_01c6bc97_4dd5_11eb_8ac8_7085c28d1f37row10_col11,#T_01c6bc97_4dd5_11eb_8ac8_7085c28d1f37row11_col7{\n",
       "            background-color:  #80a3fa;\n",
       "            color:  #000000;\n",
       "        }#T_01c6bc97_4dd5_11eb_8ac8_7085c28d1f37row3_col0{\n",
       "            background-color:  #c7d7f0;\n",
       "            color:  #000000;\n",
       "        }#T_01c6bc97_4dd5_11eb_8ac8_7085c28d1f37row3_col1{\n",
       "            background-color:  #e8765c;\n",
       "            color:  #000000;\n",
       "        }#T_01c6bc97_4dd5_11eb_8ac8_7085c28d1f37row3_col4,#T_01c6bc97_4dd5_11eb_8ac8_7085c28d1f37row6_col11{\n",
       "            background-color:  #90b2fe;\n",
       "            color:  #000000;\n",
       "        }#T_01c6bc97_4dd5_11eb_8ac8_7085c28d1f37row3_col5{\n",
       "            background-color:  #b3cdfb;\n",
       "            color:  #000000;\n",
       "        }#T_01c6bc97_4dd5_11eb_8ac8_7085c28d1f37row3_col6{\n",
       "            background-color:  #5673e0;\n",
       "            color:  #000000;\n",
       "        }#T_01c6bc97_4dd5_11eb_8ac8_7085c28d1f37row3_col7{\n",
       "            background-color:  #efcfbf;\n",
       "            color:  #000000;\n",
       "        }#T_01c6bc97_4dd5_11eb_8ac8_7085c28d1f37row3_col8{\n",
       "            background-color:  #516ddb;\n",
       "            color:  #000000;\n",
       "        }#T_01c6bc97_4dd5_11eb_8ac8_7085c28d1f37row3_col9,#T_01c6bc97_4dd5_11eb_8ac8_7085c28d1f37row11_col1{\n",
       "            background-color:  #e1dad6;\n",
       "            color:  #000000;\n",
       "        }#T_01c6bc97_4dd5_11eb_8ac8_7085c28d1f37row3_col10,#T_01c6bc97_4dd5_11eb_8ac8_7085c28d1f37row5_col4{\n",
       "            background-color:  #6e90f2;\n",
       "            color:  #000000;\n",
       "        }#T_01c6bc97_4dd5_11eb_8ac8_7085c28d1f37row3_col11,#T_01c6bc97_4dd5_11eb_8ac8_7085c28d1f37row4_col7{\n",
       "            background-color:  #e6d7cf;\n",
       "            color:  #000000;\n",
       "        }#T_01c6bc97_4dd5_11eb_8ac8_7085c28d1f37row4_col0{\n",
       "            background-color:  #b9d0f9;\n",
       "            color:  #000000;\n",
       "        }#T_01c6bc97_4dd5_11eb_8ac8_7085c28d1f37row4_col1{\n",
       "            background-color:  #dddcdc;\n",
       "            color:  #000000;\n",
       "        }#T_01c6bc97_4dd5_11eb_8ac8_7085c28d1f37row4_col2,#T_01c6bc97_4dd5_11eb_8ac8_7085c28d1f37row7_col2{\n",
       "            background-color:  #b5cdfa;\n",
       "            color:  #000000;\n",
       "        }#T_01c6bc97_4dd5_11eb_8ac8_7085c28d1f37row4_col3,#T_01c6bc97_4dd5_11eb_8ac8_7085c28d1f37row5_col1,#T_01c6bc97_4dd5_11eb_8ac8_7085c28d1f37row9_col5{\n",
       "            background-color:  #d4dbe6;\n",
       "            color:  #000000;\n",
       "        }#T_01c6bc97_4dd5_11eb_8ac8_7085c28d1f37row4_col6{\n",
       "            background-color:  #85a8fc;\n",
       "            color:  #000000;\n",
       "        }#T_01c6bc97_4dd5_11eb_8ac8_7085c28d1f37row4_col8,#T_01c6bc97_4dd5_11eb_8ac8_7085c28d1f37row11_col8{\n",
       "            background-color:  #abc8fd;\n",
       "            color:  #000000;\n",
       "        }#T_01c6bc97_4dd5_11eb_8ac8_7085c28d1f37row4_col10{\n",
       "            background-color:  #9abbff;\n",
       "            color:  #000000;\n",
       "        }#T_01c6bc97_4dd5_11eb_8ac8_7085c28d1f37row4_col11{\n",
       "            background-color:  #adc9fd;\n",
       "            color:  #000000;\n",
       "        }#T_01c6bc97_4dd5_11eb_8ac8_7085c28d1f37row5_col0,#T_01c6bc97_4dd5_11eb_8ac8_7085c28d1f37row5_col10{\n",
       "            background-color:  #6b8df0;\n",
       "            color:  #000000;\n",
       "        }#T_01c6bc97_4dd5_11eb_8ac8_7085c28d1f37row5_col3{\n",
       "            background-color:  #d9dce1;\n",
       "            color:  #000000;\n",
       "        }#T_01c6bc97_4dd5_11eb_8ac8_7085c28d1f37row5_col6{\n",
       "            background-color:  #6485ec;\n",
       "            color:  #000000;\n",
       "        }#T_01c6bc97_4dd5_11eb_8ac8_7085c28d1f37row5_col7{\n",
       "            background-color:  #cedaeb;\n",
       "            color:  #000000;\n",
       "        }#T_01c6bc97_4dd5_11eb_8ac8_7085c28d1f37row5_col8{\n",
       "            background-color:  #8fb1fe;\n",
       "            color:  #000000;\n",
       "        }#T_01c6bc97_4dd5_11eb_8ac8_7085c28d1f37row5_col9{\n",
       "            background-color:  #dadce0;\n",
       "            color:  #000000;\n",
       "        }#T_01c6bc97_4dd5_11eb_8ac8_7085c28d1f37row5_col11,#T_01c6bc97_4dd5_11eb_8ac8_7085c28d1f37row7_col11{\n",
       "            background-color:  #84a7fc;\n",
       "            color:  #000000;\n",
       "        }#T_01c6bc97_4dd5_11eb_8ac8_7085c28d1f37row6_col0,#T_01c6bc97_4dd5_11eb_8ac8_7085c28d1f37row6_col5,#T_01c6bc97_4dd5_11eb_8ac8_7085c28d1f37row10_col5{\n",
       "            background-color:  #7ea1fa;\n",
       "            color:  #000000;\n",
       "        }#T_01c6bc97_4dd5_11eb_8ac8_7085c28d1f37row6_col1{\n",
       "            background-color:  #a6c4fe;\n",
       "            color:  #000000;\n",
       "        }#T_01c6bc97_4dd5_11eb_8ac8_7085c28d1f37row6_col2{\n",
       "            background-color:  #b2ccfb;\n",
       "            color:  #000000;\n",
       "        }#T_01c6bc97_4dd5_11eb_8ac8_7085c28d1f37row6_col3{\n",
       "            background-color:  #a9c6fd;\n",
       "            color:  #000000;\n",
       "        }#T_01c6bc97_4dd5_11eb_8ac8_7085c28d1f37row6_col7{\n",
       "            background-color:  #97b8ff;\n",
       "            color:  #000000;\n",
       "        }#T_01c6bc97_4dd5_11eb_8ac8_7085c28d1f37row6_col8{\n",
       "            background-color:  #c5d6f2;\n",
       "            color:  #000000;\n",
       "        }#T_01c6bc97_4dd5_11eb_8ac8_7085c28d1f37row6_col9{\n",
       "            background-color:  #88abfd;\n",
       "            color:  #000000;\n",
       "        }#T_01c6bc97_4dd5_11eb_8ac8_7085c28d1f37row6_col10{\n",
       "            background-color:  #f59f80;\n",
       "            color:  #000000;\n",
       "        }#T_01c6bc97_4dd5_11eb_8ac8_7085c28d1f37row7_col3{\n",
       "            background-color:  #f3c7b1;\n",
       "            color:  #000000;\n",
       "        }#T_01c6bc97_4dd5_11eb_8ac8_7085c28d1f37row7_col5,#T_01c6bc97_4dd5_11eb_8ac8_7085c28d1f37row10_col3{\n",
       "            background-color:  #b6cefa;\n",
       "            color:  #000000;\n",
       "        }#T_01c6bc97_4dd5_11eb_8ac8_7085c28d1f37row7_col6{\n",
       "            background-color:  #5977e3;\n",
       "            color:  #000000;\n",
       "        }#T_01c6bc97_4dd5_11eb_8ac8_7085c28d1f37row7_col8{\n",
       "            background-color:  #799cf8;\n",
       "            color:  #000000;\n",
       "        }#T_01c6bc97_4dd5_11eb_8ac8_7085c28d1f37row7_col9,#T_01c6bc97_4dd5_11eb_8ac8_7085c28d1f37row10_col1{\n",
       "            background-color:  #afcafc;\n",
       "            color:  #000000;\n",
       "        }#T_01c6bc97_4dd5_11eb_8ac8_7085c28d1f37row7_col10{\n",
       "            background-color:  #779af7;\n",
       "            color:  #000000;\n",
       "        }#T_01c6bc97_4dd5_11eb_8ac8_7085c28d1f37row8_col0{\n",
       "            background-color:  #c6d6f1;\n",
       "            color:  #000000;\n",
       "        }#T_01c6bc97_4dd5_11eb_8ac8_7085c28d1f37row8_col2{\n",
       "            background-color:  #e0dbd8;\n",
       "            color:  #000000;\n",
       "        }#T_01c6bc97_4dd5_11eb_8ac8_7085c28d1f37row8_col6{\n",
       "            background-color:  #6687ed;\n",
       "            color:  #000000;\n",
       "        }#T_01c6bc97_4dd5_11eb_8ac8_7085c28d1f37row8_col7{\n",
       "            background-color:  #4961d2;\n",
       "            color:  #f1f1f1;\n",
       "        }#T_01c6bc97_4dd5_11eb_8ac8_7085c28d1f37row8_col9,#T_01c6bc97_4dd5_11eb_8ac8_7085c28d1f37row8_col10{\n",
       "            background-color:  #5875e1;\n",
       "            color:  #000000;\n",
       "        }#T_01c6bc97_4dd5_11eb_8ac8_7085c28d1f37row8_col11{\n",
       "            background-color:  #86a9fc;\n",
       "            color:  #000000;\n",
       "        }#T_01c6bc97_4dd5_11eb_8ac8_7085c28d1f37row9_col0{\n",
       "            background-color:  #cad8ef;\n",
       "            color:  #000000;\n",
       "        }#T_01c6bc97_4dd5_11eb_8ac8_7085c28d1f37row9_col1{\n",
       "            background-color:  #e7d7ce;\n",
       "            color:  #000000;\n",
       "        }#T_01c6bc97_4dd5_11eb_8ac8_7085c28d1f37row9_col2,#T_01c6bc97_4dd5_11eb_8ac8_7085c28d1f37row9_col10{\n",
       "            background-color:  #6a8bef;\n",
       "            color:  #000000;\n",
       "        }#T_01c6bc97_4dd5_11eb_8ac8_7085c28d1f37row9_col3{\n",
       "            background-color:  #f1cdba;\n",
       "            color:  #000000;\n",
       "        }#T_01c6bc97_4dd5_11eb_8ac8_7085c28d1f37row9_col4,#T_01c6bc97_4dd5_11eb_8ac8_7085c28d1f37row9_col6{\n",
       "            background-color:  #6180e9;\n",
       "            color:  #000000;\n",
       "        }#T_01c6bc97_4dd5_11eb_8ac8_7085c28d1f37row10_col0{\n",
       "            background-color:  #7597f6;\n",
       "            color:  #000000;\n",
       "        }#T_01c6bc97_4dd5_11eb_8ac8_7085c28d1f37row10_col2{\n",
       "            background-color:  #c1d4f4;\n",
       "            color:  #000000;\n",
       "        }#T_01c6bc97_4dd5_11eb_8ac8_7085c28d1f37row10_col6{\n",
       "            background-color:  #f6a283;\n",
       "            color:  #000000;\n",
       "        }#T_01c6bc97_4dd5_11eb_8ac8_7085c28d1f37row10_col7{\n",
       "            background-color:  #aac7fd;\n",
       "            color:  #000000;\n",
       "        }#T_01c6bc97_4dd5_11eb_8ac8_7085c28d1f37row10_col8{\n",
       "            background-color:  #b7cff9;\n",
       "            color:  #000000;\n",
       "        }#T_01c6bc97_4dd5_11eb_8ac8_7085c28d1f37row10_col9{\n",
       "            background-color:  #8badfd;\n",
       "            color:  #000000;\n",
       "        }#T_01c6bc97_4dd5_11eb_8ac8_7085c28d1f37row11_col0{\n",
       "            background-color:  #f6bfa6;\n",
       "            color:  #000000;\n",
       "        }#T_01c6bc97_4dd5_11eb_8ac8_7085c28d1f37row11_col2,#T_01c6bc97_4dd5_11eb_8ac8_7085c28d1f37row11_col6{\n",
       "            background-color:  #4c66d6;\n",
       "            color:  #000000;\n",
       "        }#T_01c6bc97_4dd5_11eb_8ac8_7085c28d1f37row11_col3{\n",
       "            background-color:  #edd2c3;\n",
       "            color:  #000000;\n",
       "        }#T_01c6bc97_4dd5_11eb_8ac8_7085c28d1f37row11_col4{\n",
       "            background-color:  #688aef;\n",
       "            color:  #000000;\n",
       "        }#T_01c6bc97_4dd5_11eb_8ac8_7085c28d1f37row11_col5{\n",
       "            background-color:  #5a78e4;\n",
       "            color:  #000000;\n",
       "        }#T_01c6bc97_4dd5_11eb_8ac8_7085c28d1f37row11_col9{\n",
       "            background-color:  #dfdbd9;\n",
       "            color:  #000000;\n",
       "        }#T_01c6bc97_4dd5_11eb_8ac8_7085c28d1f37row11_col10{\n",
       "            background-color:  #4257c9;\n",
       "            color:  #f1f1f1;\n",
       "        }</style><table id=\"T_01c6bc97_4dd5_11eb_8ac8_7085c28d1f37\" ><thead>    <tr>        <th class=\"blank level0\" ></th>        <th class=\"col_heading level0 col0\" >alcohol_by_weight</th>        <th class=\"col_heading level0 col1\" >bitterness</th>        <th class=\"col_heading level0 col2\" >nitrogen</th>        <th class=\"col_heading level0 col3\" >turbidity</th>        <th class=\"col_heading level0 col4\" >sugars</th>        <th class=\"col_heading level0 col5\" >degree_of_fermentation</th>        <th class=\"col_heading level0 col6\" >calorific_value</th>        <th class=\"col_heading level0 col7\" >density</th>        <th class=\"col_heading level0 col8\" >pH</th>        <th class=\"col_heading level0 col9\" >colour</th>        <th class=\"col_heading level0 col10\" >sulphites</th>        <th class=\"col_heading level0 col11\" >rating</th>    </tr></thead><tbody>\n",
       "                <tr>\n",
       "                        <th id=\"T_01c6bc97_4dd5_11eb_8ac8_7085c28d1f37level0_row0\" class=\"row_heading level0 row0\" >alcohol_by_weight</th>\n",
       "                        <td id=\"T_01c6bc97_4dd5_11eb_8ac8_7085c28d1f37row0_col0\" class=\"data row0 col0\" >1.000000</td>\n",
       "                        <td id=\"T_01c6bc97_4dd5_11eb_8ac8_7085c28d1f37row0_col1\" class=\"data row0 col1\" >-0.016824</td>\n",
       "                        <td id=\"T_01c6bc97_4dd5_11eb_8ac8_7085c28d1f37row0_col2\" class=\"data row0 col2\" >-0.210243</td>\n",
       "                        <td id=\"T_01c6bc97_4dd5_11eb_8ac8_7085c28d1f37row0_col3\" class=\"data row0 col3\" >0.167979</td>\n",
       "                        <td id=\"T_01c6bc97_4dd5_11eb_8ac8_7085c28d1f37row0_col4\" class=\"data row0 col4\" >0.103502</td>\n",
       "                        <td id=\"T_01c6bc97_4dd5_11eb_8ac8_7085c28d1f37row0_col5\" class=\"data row0 col5\" >-0.219820</td>\n",
       "                        <td id=\"T_01c6bc97_4dd5_11eb_8ac8_7085c28d1f37row0_col6\" class=\"data row0 col6\" >-0.137138</td>\n",
       "                        <td id=\"T_01c6bc97_4dd5_11eb_8ac8_7085c28d1f37row0_col7\" class=\"data row0 col7\" >-0.439275</td>\n",
       "                        <td id=\"T_01c6bc97_4dd5_11eb_8ac8_7085c28d1f37row0_col8\" class=\"data row0 col8\" >0.164576</td>\n",
       "                        <td id=\"T_01c6bc97_4dd5_11eb_8ac8_7085c28d1f37row0_col9\" class=\"data row0 col9\" >0.182277</td>\n",
       "                        <td id=\"T_01c6bc97_4dd5_11eb_8ac8_7085c28d1f37row0_col10\" class=\"data row0 col10\" >-0.179765</td>\n",
       "                        <td id=\"T_01c6bc97_4dd5_11eb_8ac8_7085c28d1f37row0_col11\" class=\"data row0 col11\" >0.485269</td>\n",
       "            </tr>\n",
       "            <tr>\n",
       "                        <th id=\"T_01c6bc97_4dd5_11eb_8ac8_7085c28d1f37level0_row1\" class=\"row_heading level0 row1\" >bitterness</th>\n",
       "                        <td id=\"T_01c6bc97_4dd5_11eb_8ac8_7085c28d1f37row1_col0\" class=\"data row1 col0\" >-0.016824</td>\n",
       "                        <td id=\"T_01c6bc97_4dd5_11eb_8ac8_7085c28d1f37row1_col1\" class=\"data row1 col1\" >1.000000</td>\n",
       "                        <td id=\"T_01c6bc97_4dd5_11eb_8ac8_7085c28d1f37row1_col2\" class=\"data row1 col2\" >-0.267128</td>\n",
       "                        <td id=\"T_01c6bc97_4dd5_11eb_8ac8_7085c28d1f37row1_col3\" class=\"data row1 col3\" >0.714752</td>\n",
       "                        <td id=\"T_01c6bc97_4dd5_11eb_8ac8_7085c28d1f37row1_col4\" class=\"data row1 col4\" >0.157287</td>\n",
       "                        <td id=\"T_01c6bc97_4dd5_11eb_8ac8_7085c28d1f37row1_col5\" class=\"data row1 col5\" >0.097563</td>\n",
       "                        <td id=\"T_01c6bc97_4dd5_11eb_8ac8_7085c28d1f37row1_col6\" class=\"data row1 col6\" >-0.152302</td>\n",
       "                        <td id=\"T_01c6bc97_4dd5_11eb_8ac8_7085c28d1f37row1_col7\" class=\"data row1 col7\" >0.692441</td>\n",
       "                        <td id=\"T_01c6bc97_4dd5_11eb_8ac8_7085c28d1f37row1_col8\" class=\"data row1 col8\" >-0.696943</td>\n",
       "                        <td id=\"T_01c6bc97_4dd5_11eb_8ac8_7085c28d1f37row1_col9\" class=\"data row1 col9\" >0.219821</td>\n",
       "                        <td id=\"T_01c6bc97_4dd5_11eb_8ac8_7085c28d1f37row1_col10\" class=\"data row1 col10\" >-0.100906</td>\n",
       "                        <td id=\"T_01c6bc97_4dd5_11eb_8ac8_7085c28d1f37row1_col11\" class=\"data row1 col11\" >0.184049</td>\n",
       "            </tr>\n",
       "            <tr>\n",
       "                        <th id=\"T_01c6bc97_4dd5_11eb_8ac8_7085c28d1f37level0_row2\" class=\"row_heading level0 row2\" >nitrogen</th>\n",
       "                        <td id=\"T_01c6bc97_4dd5_11eb_8ac8_7085c28d1f37row2_col0\" class=\"data row2 col0\" >-0.210243</td>\n",
       "                        <td id=\"T_01c6bc97_4dd5_11eb_8ac8_7085c28d1f37row2_col1\" class=\"data row2 col1\" >-0.267128</td>\n",
       "                        <td id=\"T_01c6bc97_4dd5_11eb_8ac8_7085c28d1f37row2_col2\" class=\"data row2 col2\" >1.000000</td>\n",
       "                        <td id=\"T_01c6bc97_4dd5_11eb_8ac8_7085c28d1f37row2_col3\" class=\"data row2 col3\" >-0.553430</td>\n",
       "                        <td id=\"T_01c6bc97_4dd5_11eb_8ac8_7085c28d1f37row2_col4\" class=\"data row2 col4\" >0.014922</td>\n",
       "                        <td id=\"T_01c6bc97_4dd5_11eb_8ac8_7085c28d1f37row2_col5\" class=\"data row2 col5\" >0.077959</td>\n",
       "                        <td id=\"T_01c6bc97_4dd5_11eb_8ac8_7085c28d1f37row2_col6\" class=\"data row2 col6\" >-0.000771</td>\n",
       "                        <td id=\"T_01c6bc97_4dd5_11eb_8ac8_7085c28d1f37row2_col7\" class=\"data row2 col7\" >0.015526</td>\n",
       "                        <td id=\"T_01c6bc97_4dd5_11eb_8ac8_7085c28d1f37row2_col8\" class=\"data row2 col8\" >0.245762</td>\n",
       "                        <td id=\"T_01c6bc97_4dd5_11eb_8ac8_7085c28d1f37row2_col9\" class=\"data row2 col9\" >-0.321050</td>\n",
       "                        <td id=\"T_01c6bc97_4dd5_11eb_8ac8_7085c28d1f37row2_col10\" class=\"data row2 col10\" >0.073513</td>\n",
       "                        <td id=\"T_01c6bc97_4dd5_11eb_8ac8_7085c28d1f37row2_col11\" class=\"data row2 col11\" >-0.460148</td>\n",
       "            </tr>\n",
       "            <tr>\n",
       "                        <th id=\"T_01c6bc97_4dd5_11eb_8ac8_7085c28d1f37level0_row3\" class=\"row_heading level0 row3\" >turbidity</th>\n",
       "                        <td id=\"T_01c6bc97_4dd5_11eb_8ac8_7085c28d1f37row3_col0\" class=\"data row3 col0\" >0.167979</td>\n",
       "                        <td id=\"T_01c6bc97_4dd5_11eb_8ac8_7085c28d1f37row3_col1\" class=\"data row3 col1\" >0.714752</td>\n",
       "                        <td id=\"T_01c6bc97_4dd5_11eb_8ac8_7085c28d1f37row3_col2\" class=\"data row3 col2\" >-0.553430</td>\n",
       "                        <td id=\"T_01c6bc97_4dd5_11eb_8ac8_7085c28d1f37row3_col3\" class=\"data row3 col3\" >1.000000</td>\n",
       "                        <td id=\"T_01c6bc97_4dd5_11eb_8ac8_7085c28d1f37row3_col4\" class=\"data row3 col4\" >0.164361</td>\n",
       "                        <td id=\"T_01c6bc97_4dd5_11eb_8ac8_7085c28d1f37row3_col5\" class=\"data row3 col5\" >0.197110</td>\n",
       "                        <td id=\"T_01c6bc97_4dd5_11eb_8ac8_7085c28d1f37row3_col6\" class=\"data row3 col6\" >-0.047851</td>\n",
       "                        <td id=\"T_01c6bc97_4dd5_11eb_8ac8_7085c28d1f37row3_col7\" class=\"data row3 col7\" >0.395288</td>\n",
       "                        <td id=\"T_01c6bc97_4dd5_11eb_8ac8_7085c28d1f37row3_col8\" class=\"data row3 col8\" >-0.568624</td>\n",
       "                        <td id=\"T_01c6bc97_4dd5_11eb_8ac8_7085c28d1f37row3_col9\" class=\"data row3 col9\" >0.362208</td>\n",
       "                        <td id=\"T_01c6bc97_4dd5_11eb_8ac8_7085c28d1f37row3_col10\" class=\"data row3 col10\" >0.012473</td>\n",
       "                        <td id=\"T_01c6bc97_4dd5_11eb_8ac8_7085c28d1f37row3_col11\" class=\"data row3 col11\" >0.325147</td>\n",
       "            </tr>\n",
       "            <tr>\n",
       "                        <th id=\"T_01c6bc97_4dd5_11eb_8ac8_7085c28d1f37level0_row4\" class=\"row_heading level0 row4\" >sugars</th>\n",
       "                        <td id=\"T_01c6bc97_4dd5_11eb_8ac8_7085c28d1f37row4_col0\" class=\"data row4 col0\" >0.103502</td>\n",
       "                        <td id=\"T_01c6bc97_4dd5_11eb_8ac8_7085c28d1f37row4_col1\" class=\"data row4 col1\" >0.157287</td>\n",
       "                        <td id=\"T_01c6bc97_4dd5_11eb_8ac8_7085c28d1f37row4_col2\" class=\"data row4 col2\" >0.014922</td>\n",
       "                        <td id=\"T_01c6bc97_4dd5_11eb_8ac8_7085c28d1f37row4_col3\" class=\"data row4 col3\" >0.164361</td>\n",
       "                        <td id=\"T_01c6bc97_4dd5_11eb_8ac8_7085c28d1f37row4_col4\" class=\"data row4 col4\" >1.000000</td>\n",
       "                        <td id=\"T_01c6bc97_4dd5_11eb_8ac8_7085c28d1f37row4_col5\" class=\"data row4 col5\" >0.056434</td>\n",
       "                        <td id=\"T_01c6bc97_4dd5_11eb_8ac8_7085c28d1f37row4_col6\" class=\"data row4 col6\" >0.111773</td>\n",
       "                        <td id=\"T_01c6bc97_4dd5_11eb_8ac8_7085c28d1f37row4_col7\" class=\"data row4 col7\" >0.333236</td>\n",
       "                        <td id=\"T_01c6bc97_4dd5_11eb_8ac8_7085c28d1f37row4_col8\" class=\"data row4 col8\" >-0.126374</td>\n",
       "                        <td id=\"T_01c6bc97_4dd5_11eb_8ac8_7085c28d1f37row4_col9\" class=\"data row4 col9\" >0.011596</td>\n",
       "                        <td id=\"T_01c6bc97_4dd5_11eb_8ac8_7085c28d1f37row4_col10\" class=\"data row4 col10\" >0.157443</td>\n",
       "                        <td id=\"T_01c6bc97_4dd5_11eb_8ac8_7085c28d1f37row4_col11\" class=\"data row4 col11\" >0.038322</td>\n",
       "            </tr>\n",
       "            <tr>\n",
       "                        <th id=\"T_01c6bc97_4dd5_11eb_8ac8_7085c28d1f37level0_row5\" class=\"row_heading level0 row5\" >degree_of_fermentation</th>\n",
       "                        <td id=\"T_01c6bc97_4dd5_11eb_8ac8_7085c28d1f37row5_col0\" class=\"data row5 col0\" >-0.219820</td>\n",
       "                        <td id=\"T_01c6bc97_4dd5_11eb_8ac8_7085c28d1f37row5_col1\" class=\"data row5 col1\" >0.097563</td>\n",
       "                        <td id=\"T_01c6bc97_4dd5_11eb_8ac8_7085c28d1f37row5_col2\" class=\"data row5 col2\" >0.077959</td>\n",
       "                        <td id=\"T_01c6bc97_4dd5_11eb_8ac8_7085c28d1f37row5_col3\" class=\"data row5 col3\" >0.197110</td>\n",
       "                        <td id=\"T_01c6bc97_4dd5_11eb_8ac8_7085c28d1f37row5_col4\" class=\"data row5 col4\" >0.056434</td>\n",
       "                        <td id=\"T_01c6bc97_4dd5_11eb_8ac8_7085c28d1f37row5_col5\" class=\"data row5 col5\" >1.000000</td>\n",
       "                        <td id=\"T_01c6bc97_4dd5_11eb_8ac8_7085c28d1f37row5_col6\" class=\"data row5 col6\" >0.003139</td>\n",
       "                        <td id=\"T_01c6bc97_4dd5_11eb_8ac8_7085c28d1f37row5_col7\" class=\"data row5 col7\" >0.205604</td>\n",
       "                        <td id=\"T_01c6bc97_4dd5_11eb_8ac8_7085c28d1f37row5_col8\" class=\"data row5 col8\" >-0.259548</td>\n",
       "                        <td id=\"T_01c6bc97_4dd5_11eb_8ac8_7085c28d1f37row5_col9\" class=\"data row5 col9\" >0.327863</td>\n",
       "                        <td id=\"T_01c6bc97_4dd5_11eb_8ac8_7085c28d1f37row5_col10\" class=\"data row5 col10\" >0.003468</td>\n",
       "                        <td id=\"T_01c6bc97_4dd5_11eb_8ac8_7085c28d1f37row5_col11\" class=\"data row5 col11\" >-0.130206</td>\n",
       "            </tr>\n",
       "            <tr>\n",
       "                        <th id=\"T_01c6bc97_4dd5_11eb_8ac8_7085c28d1f37level0_row6\" class=\"row_heading level0 row6\" >calorific_value</th>\n",
       "                        <td id=\"T_01c6bc97_4dd5_11eb_8ac8_7085c28d1f37row6_col0\" class=\"data row6 col0\" >-0.137138</td>\n",
       "                        <td id=\"T_01c6bc97_4dd5_11eb_8ac8_7085c28d1f37row6_col1\" class=\"data row6 col1\" >-0.152302</td>\n",
       "                        <td id=\"T_01c6bc97_4dd5_11eb_8ac8_7085c28d1f37row6_col2\" class=\"data row6 col2\" >-0.000771</td>\n",
       "                        <td id=\"T_01c6bc97_4dd5_11eb_8ac8_7085c28d1f37row6_col3\" class=\"data row6 col3\" >-0.047851</td>\n",
       "                        <td id=\"T_01c6bc97_4dd5_11eb_8ac8_7085c28d1f37row6_col4\" class=\"data row6 col4\" >0.111773</td>\n",
       "                        <td id=\"T_01c6bc97_4dd5_11eb_8ac8_7085c28d1f37row6_col5\" class=\"data row6 col5\" >0.003139</td>\n",
       "                        <td id=\"T_01c6bc97_4dd5_11eb_8ac8_7085c28d1f37row6_col6\" class=\"data row6 col6\" >1.000000</td>\n",
       "                        <td id=\"T_01c6bc97_4dd5_11eb_8ac8_7085c28d1f37row6_col7\" class=\"data row6 col7\" >-0.039410</td>\n",
       "                        <td id=\"T_01c6bc97_4dd5_11eb_8ac8_7085c28d1f37row6_col8\" class=\"data row6 col8\" >0.009576</td>\n",
       "                        <td id=\"T_01c6bc97_4dd5_11eb_8ac8_7085c28d1f37row6_col9\" class=\"data row6 col9\" >-0.008716</td>\n",
       "                        <td id=\"T_01c6bc97_4dd5_11eb_8ac8_7085c28d1f37row6_col10\" class=\"data row6 col10\" >0.689033</td>\n",
       "                        <td id=\"T_01c6bc97_4dd5_11eb_8ac8_7085c28d1f37row6_col11\" class=\"data row6 col11\" >-0.082588</td>\n",
       "            </tr>\n",
       "            <tr>\n",
       "                        <th id=\"T_01c6bc97_4dd5_11eb_8ac8_7085c28d1f37level0_row7\" class=\"row_heading level0 row7\" >density</th>\n",
       "                        <td id=\"T_01c6bc97_4dd5_11eb_8ac8_7085c28d1f37row7_col0\" class=\"data row7 col0\" >-0.439275</td>\n",
       "                        <td id=\"T_01c6bc97_4dd5_11eb_8ac8_7085c28d1f37row7_col1\" class=\"data row7 col1\" >0.692441</td>\n",
       "                        <td id=\"T_01c6bc97_4dd5_11eb_8ac8_7085c28d1f37row7_col2\" class=\"data row7 col2\" >0.015526</td>\n",
       "                        <td id=\"T_01c6bc97_4dd5_11eb_8ac8_7085c28d1f37row7_col3\" class=\"data row7 col3\" >0.395288</td>\n",
       "                        <td id=\"T_01c6bc97_4dd5_11eb_8ac8_7085c28d1f37row7_col4\" class=\"data row7 col4\" >0.333236</td>\n",
       "                        <td id=\"T_01c6bc97_4dd5_11eb_8ac8_7085c28d1f37row7_col5\" class=\"data row7 col5\" >0.205604</td>\n",
       "                        <td id=\"T_01c6bc97_4dd5_11eb_8ac8_7085c28d1f37row7_col6\" class=\"data row7 col6\" >-0.039410</td>\n",
       "                        <td id=\"T_01c6bc97_4dd5_11eb_8ac8_7085c28d1f37row7_col7\" class=\"data row7 col7\" >1.000000</td>\n",
       "                        <td id=\"T_01c6bc97_4dd5_11eb_8ac8_7085c28d1f37row7_col8\" class=\"data row7 col8\" >-0.366854</td>\n",
       "                        <td id=\"T_01c6bc97_4dd5_11eb_8ac8_7085c28d1f37row7_col9\" class=\"data row7 col9\" >0.138441</td>\n",
       "                        <td id=\"T_01c6bc97_4dd5_11eb_8ac8_7085c28d1f37row7_col10\" class=\"data row7 col10\" >0.042346</td>\n",
       "                        <td id=\"T_01c6bc97_4dd5_11eb_8ac8_7085c28d1f37row7_col11\" class=\"data row7 col11\" >-0.133847</td>\n",
       "            </tr>\n",
       "            <tr>\n",
       "                        <th id=\"T_01c6bc97_4dd5_11eb_8ac8_7085c28d1f37level0_row8\" class=\"row_heading level0 row8\" >pH</th>\n",
       "                        <td id=\"T_01c6bc97_4dd5_11eb_8ac8_7085c28d1f37row8_col0\" class=\"data row8 col0\" >0.164576</td>\n",
       "                        <td id=\"T_01c6bc97_4dd5_11eb_8ac8_7085c28d1f37row8_col1\" class=\"data row8 col1\" >-0.696943</td>\n",
       "                        <td id=\"T_01c6bc97_4dd5_11eb_8ac8_7085c28d1f37row8_col2\" class=\"data row8 col2\" >0.245762</td>\n",
       "                        <td id=\"T_01c6bc97_4dd5_11eb_8ac8_7085c28d1f37row8_col3\" class=\"data row8 col3\" >-0.568624</td>\n",
       "                        <td id=\"T_01c6bc97_4dd5_11eb_8ac8_7085c28d1f37row8_col4\" class=\"data row8 col4\" >-0.126374</td>\n",
       "                        <td id=\"T_01c6bc97_4dd5_11eb_8ac8_7085c28d1f37row8_col5\" class=\"data row8 col5\" >-0.259548</td>\n",
       "                        <td id=\"T_01c6bc97_4dd5_11eb_8ac8_7085c28d1f37row8_col6\" class=\"data row8 col6\" >0.009576</td>\n",
       "                        <td id=\"T_01c6bc97_4dd5_11eb_8ac8_7085c28d1f37row8_col7\" class=\"data row8 col7\" >-0.366854</td>\n",
       "                        <td id=\"T_01c6bc97_4dd5_11eb_8ac8_7085c28d1f37row8_col8\" class=\"data row8 col8\" >1.000000</td>\n",
       "                        <td id=\"T_01c6bc97_4dd5_11eb_8ac8_7085c28d1f37row8_col9\" class=\"data row8 col9\" >-0.196386</td>\n",
       "                        <td id=\"T_01c6bc97_4dd5_11eb_8ac8_7085c28d1f37row8_col10\" class=\"data row8 col10\" >-0.065321</td>\n",
       "                        <td id=\"T_01c6bc97_4dd5_11eb_8ac8_7085c28d1f37row8_col11\" class=\"data row8 col11\" >-0.120790</td>\n",
       "            </tr>\n",
       "            <tr>\n",
       "                        <th id=\"T_01c6bc97_4dd5_11eb_8ac8_7085c28d1f37level0_row9\" class=\"row_heading level0 row9\" >colour</th>\n",
       "                        <td id=\"T_01c6bc97_4dd5_11eb_8ac8_7085c28d1f37row9_col0\" class=\"data row9 col0\" >0.182277</td>\n",
       "                        <td id=\"T_01c6bc97_4dd5_11eb_8ac8_7085c28d1f37row9_col1\" class=\"data row9 col1\" >0.219821</td>\n",
       "                        <td id=\"T_01c6bc97_4dd5_11eb_8ac8_7085c28d1f37row9_col2\" class=\"data row9 col2\" >-0.321050</td>\n",
       "                        <td id=\"T_01c6bc97_4dd5_11eb_8ac8_7085c28d1f37row9_col3\" class=\"data row9 col3\" >0.362208</td>\n",
       "                        <td id=\"T_01c6bc97_4dd5_11eb_8ac8_7085c28d1f37row9_col4\" class=\"data row9 col4\" >0.011596</td>\n",
       "                        <td id=\"T_01c6bc97_4dd5_11eb_8ac8_7085c28d1f37row9_col5\" class=\"data row9 col5\" >0.327863</td>\n",
       "                        <td id=\"T_01c6bc97_4dd5_11eb_8ac8_7085c28d1f37row9_col6\" class=\"data row9 col6\" >-0.008716</td>\n",
       "                        <td id=\"T_01c6bc97_4dd5_11eb_8ac8_7085c28d1f37row9_col7\" class=\"data row9 col7\" >0.138441</td>\n",
       "                        <td id=\"T_01c6bc97_4dd5_11eb_8ac8_7085c28d1f37row9_col8\" class=\"data row9 col8\" >-0.196386</td>\n",
       "                        <td id=\"T_01c6bc97_4dd5_11eb_8ac8_7085c28d1f37row9_col9\" class=\"data row9 col9\" >1.000000</td>\n",
       "                        <td id=\"T_01c6bc97_4dd5_11eb_8ac8_7085c28d1f37row9_col10\" class=\"data row9 col10\" >-0.000656</td>\n",
       "                        <td id=\"T_01c6bc97_4dd5_11eb_8ac8_7085c28d1f37row9_col11\" class=\"data row9 col11\" >0.354907</td>\n",
       "            </tr>\n",
       "            <tr>\n",
       "                        <th id=\"T_01c6bc97_4dd5_11eb_8ac8_7085c28d1f37level0_row10\" class=\"row_heading level0 row10\" >sulphites</th>\n",
       "                        <td id=\"T_01c6bc97_4dd5_11eb_8ac8_7085c28d1f37row10_col0\" class=\"data row10 col0\" >-0.179765</td>\n",
       "                        <td id=\"T_01c6bc97_4dd5_11eb_8ac8_7085c28d1f37row10_col1\" class=\"data row10 col1\" >-0.100906</td>\n",
       "                        <td id=\"T_01c6bc97_4dd5_11eb_8ac8_7085c28d1f37row10_col2\" class=\"data row10 col2\" >0.073513</td>\n",
       "                        <td id=\"T_01c6bc97_4dd5_11eb_8ac8_7085c28d1f37row10_col3\" class=\"data row10 col3\" >0.012473</td>\n",
       "                        <td id=\"T_01c6bc97_4dd5_11eb_8ac8_7085c28d1f37row10_col4\" class=\"data row10 col4\" >0.157443</td>\n",
       "                        <td id=\"T_01c6bc97_4dd5_11eb_8ac8_7085c28d1f37row10_col5\" class=\"data row10 col5\" >0.003468</td>\n",
       "                        <td id=\"T_01c6bc97_4dd5_11eb_8ac8_7085c28d1f37row10_col6\" class=\"data row10 col6\" >0.689033</td>\n",
       "                        <td id=\"T_01c6bc97_4dd5_11eb_8ac8_7085c28d1f37row10_col7\" class=\"data row10 col7\" >0.042346</td>\n",
       "                        <td id=\"T_01c6bc97_4dd5_11eb_8ac8_7085c28d1f37row10_col8\" class=\"data row10 col8\" >-0.065321</td>\n",
       "                        <td id=\"T_01c6bc97_4dd5_11eb_8ac8_7085c28d1f37row10_col9\" class=\"data row10 col9\" >-0.000656</td>\n",
       "                        <td id=\"T_01c6bc97_4dd5_11eb_8ac8_7085c28d1f37row10_col10\" class=\"data row10 col10\" >1.000000</td>\n",
       "                        <td id=\"T_01c6bc97_4dd5_11eb_8ac8_7085c28d1f37row10_col11\" class=\"data row10 col11\" >-0.148378</td>\n",
       "            </tr>\n",
       "            <tr>\n",
       "                        <th id=\"T_01c6bc97_4dd5_11eb_8ac8_7085c28d1f37level0_row11\" class=\"row_heading level0 row11\" >rating</th>\n",
       "                        <td id=\"T_01c6bc97_4dd5_11eb_8ac8_7085c28d1f37row11_col0\" class=\"data row11 col0\" >0.485269</td>\n",
       "                        <td id=\"T_01c6bc97_4dd5_11eb_8ac8_7085c28d1f37row11_col1\" class=\"data row11 col1\" >0.184049</td>\n",
       "                        <td id=\"T_01c6bc97_4dd5_11eb_8ac8_7085c28d1f37row11_col2\" class=\"data row11 col2\" >-0.460148</td>\n",
       "                        <td id=\"T_01c6bc97_4dd5_11eb_8ac8_7085c28d1f37row11_col3\" class=\"data row11 col3\" >0.325147</td>\n",
       "                        <td id=\"T_01c6bc97_4dd5_11eb_8ac8_7085c28d1f37row11_col4\" class=\"data row11 col4\" >0.038322</td>\n",
       "                        <td id=\"T_01c6bc97_4dd5_11eb_8ac8_7085c28d1f37row11_col5\" class=\"data row11 col5\" >-0.130206</td>\n",
       "                        <td id=\"T_01c6bc97_4dd5_11eb_8ac8_7085c28d1f37row11_col6\" class=\"data row11 col6\" >-0.082588</td>\n",
       "                        <td id=\"T_01c6bc97_4dd5_11eb_8ac8_7085c28d1f37row11_col7\" class=\"data row11 col7\" >-0.133847</td>\n",
       "                        <td id=\"T_01c6bc97_4dd5_11eb_8ac8_7085c28d1f37row11_col8\" class=\"data row11 col8\" >-0.120790</td>\n",
       "                        <td id=\"T_01c6bc97_4dd5_11eb_8ac8_7085c28d1f37row11_col9\" class=\"data row11 col9\" >0.354907</td>\n",
       "                        <td id=\"T_01c6bc97_4dd5_11eb_8ac8_7085c28d1f37row11_col10\" class=\"data row11 col10\" >-0.148378</td>\n",
       "                        <td id=\"T_01c6bc97_4dd5_11eb_8ac8_7085c28d1f37row11_col11\" class=\"data row11 col11\" >1.000000</td>\n",
       "            </tr>\n",
       "    </tbody></table>"
      ],
      "text/plain": [
       "<pandas.io.formats.style.Styler at 0x1d36ad03160>"
      ]
     },
     "execution_count": 4,
     "metadata": {},
     "output_type": "execute_result"
    }
   ],
   "source": [
    "df.corr().style.background_gradient(cmap = 'coolwarm')"
   ]
  },
  {
   "cell_type": "markdown",
   "metadata": {
    "jupyter": {
     "outputs_hidden": true
    }
   },
   "source": [
    "from sklearn.feature_selection import VarianceThreshold\n",
    "sel = VarianceThreshold(threshold=(0.5 * (1 - 0.5)))\n",
    "sel.fit_transform(X)\n",
    "sel.fit_transform(y)"
   ]
  },
  {
   "cell_type": "code",
   "execution_count": 5,
   "metadata": {},
   "outputs": [],
   "source": [
    "lr = LinearRegression()\n",
    "model = lr.fit(X_train, y_train)"
   ]
  },
  {
   "cell_type": "code",
   "execution_count": 6,
   "metadata": {},
   "outputs": [
    {
     "data": {
      "text/plain": [
       "0.42036806271004346"
      ]
     },
     "execution_count": 6,
     "metadata": {},
     "output_type": "execute_result"
    }
   ],
   "source": [
    "model.score(X_train, y_train)"
   ]
  },
  {
   "cell_type": "code",
   "execution_count": 7,
   "metadata": {},
   "outputs": [
    {
     "data": {
      "text/plain": [
       "0.4087336577126648"
      ]
     },
     "execution_count": 7,
     "metadata": {},
     "output_type": "execute_result"
    }
   ],
   "source": [
    "model.score(X_test, y_test)"
   ]
  },
  {
   "cell_type": "code",
   "execution_count": 8,
   "metadata": {},
   "outputs": [],
   "source": [
    "parameters = {'fit_intercept':[True, False], 'normalize':[True, False], 'copy_X':[True, False]}\n",
    "grid = GridSearchCV(model, parameters, cv = 10)"
   ]
  },
  {
   "cell_type": "code",
   "execution_count": 9,
   "metadata": {},
   "outputs": [
    {
     "data": {
      "text/plain": [
       "GridSearchCV(cv=10, estimator=LinearRegression(),\n",
       "             param_grid={'copy_X': [True, False],\n",
       "                         'fit_intercept': [True, False],\n",
       "                         'normalize': [True, False]})"
      ]
     },
     "execution_count": 9,
     "metadata": {},
     "output_type": "execute_result"
    }
   ],
   "source": [
    "grid.fit(X_train, y_train)"
   ]
  },
  {
   "cell_type": "code",
   "execution_count": 10,
   "metadata": {},
   "outputs": [
    {
     "data": {
      "text/plain": [
       "{'copy_X': True, 'fit_intercept': False, 'normalize': True}"
      ]
     },
     "execution_count": 10,
     "metadata": {},
     "output_type": "execute_result"
    }
   ],
   "source": [
    "grid.best_params_"
   ]
  },
  {
   "cell_type": "code",
   "execution_count": 11,
   "metadata": {},
   "outputs": [],
   "source": [
    "lr = LinearRegression(copy_X = True, fit_intercept = False, normalize = True)"
   ]
  },
  {
   "cell_type": "code",
   "execution_count": 12,
   "metadata": {},
   "outputs": [],
   "source": [
    "model_optimised = lr.fit(X_train, y_train)"
   ]
  },
  {
   "cell_type": "code",
   "execution_count": 13,
   "metadata": {},
   "outputs": [
    {
     "data": {
      "text/plain": [
       "0.42024991889843877"
      ]
     },
     "execution_count": 13,
     "metadata": {},
     "output_type": "execute_result"
    }
   ],
   "source": [
    "model_optimised.score(X_train,y_train)"
   ]
  },
  {
   "cell_type": "code",
   "execution_count": 14,
   "metadata": {},
   "outputs": [
    {
     "data": {
      "text/plain": [
       "0.40959579452623607"
      ]
     },
     "execution_count": 14,
     "metadata": {},
     "output_type": "execute_result"
    }
   ],
   "source": [
    "model_optimised.score(X_test,y_test)"
   ]
  },
  {
   "cell_type": "code",
   "execution_count": 15,
   "metadata": {},
   "outputs": [],
   "source": [
    "pred_train = cross_val_predict(model_optimised, X_train, y_train, cv = 10)"
   ]
  },
  {
   "cell_type": "code",
   "execution_count": 16,
   "metadata": {},
   "outputs": [],
   "source": [
    "pred_test = cross_val_predict(model_optimised, X_test, y_test, cv = 10)"
   ]
  },
  {
   "cell_type": "code",
   "execution_count": 17,
   "metadata": {},
   "outputs": [
    {
     "data": {
      "text/plain": [
       "<matplotlib.collections.PathCollection at 0x1d370ce2a00>"
      ]
     },
     "execution_count": 17,
     "metadata": {},
     "output_type": "execute_result"
    },
    {
     "data": {
      "image/png": "[encoded data removed]",
      "text/plain": [
       "<Figure size 432x288 with 1 Axes>"
      ]
     },
     "metadata": {
      "needs_background": "light"
     },
     "output_type": "display_data"
    }
   ],
   "source": [
    "plt.scatter(y_train, pred_train)"
   ]
  },
  {
   "cell_type": "code",
   "execution_count": 18,
   "metadata": {},
   "outputs": [
    {
     "data": {
      "text/plain": [
       "<matplotlib.collections.PathCollection at 0x1d370dbac70>"
      ]
     },
     "execution_count": 18,
     "metadata": {},
     "output_type": "execute_result"
    },
    {
     "data": {
      "image/png": "[encoded data removed]",
      "text/plain": [
       "<Figure size 432x288 with 1 Axes>"
      ]
     },
     "metadata": {
      "needs_background": "light"
     },
     "output_type": "display_data"
    }
   ],
   "source": [
    "plt.scatter(y_test, pred_test)"
   ]
  },
  {
   "cell_type": "code",
   "execution_count": 19,
   "metadata": {},
   "outputs": [
    {
     "data": {
      "text/plain": [
       "0.3949651251438844"
      ]
     },
     "execution_count": 19,
     "metadata": {},
     "output_type": "execute_result"
    }
   ],
   "source": [
    "metrics.r2_score(y_train, pred_train)"
   ]
  },
  {
   "cell_type": "code",
   "execution_count": 20,
   "metadata": {},
   "outputs": [
    {
     "data": {
      "text/plain": [
       "0.4010678377461203"
      ]
     },
     "execution_count": 20,
     "metadata": {},
     "output_type": "execute_result"
    }
   ],
   "source": [
    "metrics.r2_score(y_test, pred_test)"
   ]
  },
  {
   "cell_type": "code",
   "execution_count": 21,
   "metadata": {},
   "outputs": [
    {
     "data": {
      "text/plain": [
       "0.763412585486707"
      ]
     },
     "execution_count": 21,
     "metadata": {},
     "output_type": "execute_result"
    }
   ],
   "source": [
    "np.sqrt(metrics.mean_squared_error(y_train, pred_train))"
   ]
  },
  {
   "cell_type": "code",
   "execution_count": 22,
   "metadata": {},
   "outputs": [
    {
     "data": {
      "text/plain": [
       "0.8271899011954251"
      ]
     },
     "execution_count": 22,
     "metadata": {},
     "output_type": "execute_result"
    }
   ],
   "source": [
    "np.sqrt(metrics.mean_squared_error(y_test, pred_test))"
   ]
  },
  {
   "cell_type": "code",
   "execution_count": 23,
   "metadata": {},
   "outputs": [
    {
     "data": {
      "text/plain": [
       "0.5944872467728307"
      ]
     },
     "execution_count": 23,
     "metadata": {},
     "output_type": "execute_result"
    }
   ],
   "source": [
    "(metrics.mean_absolute_error(y_train, pred_train))"
   ]
  },
  {
   "cell_type": "code",
   "execution_count": 24,
   "metadata": {},
   "outputs": [
    {
     "data": {
      "text/plain": [
       "0.6526129079897162"
      ]
     },
     "execution_count": 24,
     "metadata": {},
     "output_type": "execute_result"
    }
   ],
   "source": [
    "(metrics.mean_absolute_error(y_test, pred_test))"
   ]
  }
 ],
 "metadata": {
  "kernelspec": {
   "display_name": "Python 3",
   "language": "python",
   "name": "python3"
  },
  "language_info": {
   "codemirror_mode": {
    "name": "ipython",
    "version": 3
   },
   "file_extension": ".py",
   "mimetype": "text/x-python",
   "name": "python",
   "nbconvert_exporter": "python",
   "pygments_lexer": "ipython3",
   "version": "3.8.5"
  }
 },
 "nbformat": 4,
 "nbformat_minor": 4
}
