{
 "cells": [
  {
   "cell_type": "markdown",
   "metadata": {},
   "source": [
    "### 1. Linear Regression"
   ]
  },
  {
   "cell_type": "markdown",
   "metadata": {},
   "source": [
    "Importing all necesary libraries for analysis"
   ]
  },
  {
   "cell_type": "code",
   "execution_count": 1,
   "metadata": {},
   "outputs": [],
   "source": [
    "from sklearn.linear_model import LinearRegression\n",
    "import numpy as np\n",
    "import matplotlib.pyplot as plt\n",
    "import pandas as pd\n",
    "from sklearn.model_selection import train_test_split\n",
    "from sklearn.model_selection import cross_val_score\n",
    "from sklearn.linear_model import Ridge\n",
    "from sklearn.model_selection import GridSearchCV\n",
    "from sklearn.preprocessing import StandardScaler\n",
    "from sklearn.linear_model import Lasso\n",
    "from sklearn.tree import DecisionTreeRegressor\n",
    "from sklearn import tree\n",
    "from sklearn.metrics import mean_squared_error \n",
    "from sklearn.decomposition import PCA\n",
    "from sklearn.pipeline import make_pipeline\n",
    "import graphviz\n",
    "from sklearn.model_selection import cross_val_score, cross_val_predict\n",
    "from sklearn import metrics\n",
    "import random"
   ]
  },
  {
   "cell_type": "code",
   "execution_count": 2,
   "metadata": {},
   "outputs": [
    {
     "data": {
      "text/html": [
       "<div>\n",
       "<style scoped>\n",
       "    .dataframe tbody tr th:only-of-type {\n",
       "        vertical-align: middle;\n",
       "    }\n",
       "\n",
       "    .dataframe tbody tr th {\n",
       "        vertical-align: top;\n",
       "    }\n",
       "\n",
       "    .dataframe thead th {\n",
       "        text-align: right;\n",
       "    }\n",
       "</style>\n",
       "<table border=\"1\" class=\"dataframe\">\n",
       "  <thead>\n",
       "    <tr style=\"text-align: right;\">\n",
       "      <th></th>\n",
       "      <th>alcohol_by_weight</th>\n",
       "      <th>bitterness</th>\n",
       "      <th>nitrogen</th>\n",
       "      <th>turbidity</th>\n",
       "      <th>sugars</th>\n",
       "      <th>degree_of_fermentation</th>\n",
       "      <th>calorific_value</th>\n",
       "      <th>density</th>\n",
       "      <th>pH</th>\n",
       "      <th>colour</th>\n",
       "      <th>sulphites</th>\n",
       "      <th>rating</th>\n",
       "    </tr>\n",
       "  </thead>\n",
       "  <tbody>\n",
       "    <tr>\n",
       "      <th>count</th>\n",
       "      <td>936.000000</td>\n",
       "      <td>936.000000</td>\n",
       "      <td>936.000000</td>\n",
       "      <td>936.000000</td>\n",
       "      <td>936.000000</td>\n",
       "      <td>936.000000</td>\n",
       "      <td>936.000000</td>\n",
       "      <td>936.000000</td>\n",
       "      <td>936.000000</td>\n",
       "      <td>936.000000</td>\n",
       "      <td>936.000000</td>\n",
       "      <td>936.000000</td>\n",
       "    </tr>\n",
       "    <tr>\n",
       "      <th>mean</th>\n",
       "      <td>4.964243</td>\n",
       "      <td>9.637821</td>\n",
       "      <td>0.628862</td>\n",
       "      <td>0.939390</td>\n",
       "      <td>16.305962</td>\n",
       "      <td>68.374036</td>\n",
       "      <td>18.389957</td>\n",
       "      <td>0.966954</td>\n",
       "      <td>3.803814</td>\n",
       "      <td>14.106389</td>\n",
       "      <td>14.020433</td>\n",
       "      <td>67.323718</td>\n",
       "    </tr>\n",
       "    <tr>\n",
       "      <th>std</th>\n",
       "      <td>0.521894</td>\n",
       "      <td>1.852364</td>\n",
       "      <td>0.187830</td>\n",
       "      <td>0.662604</td>\n",
       "      <td>8.465123</td>\n",
       "      <td>35.483428</td>\n",
       "      <td>10.147082</td>\n",
       "      <td>0.001937</td>\n",
       "      <td>0.157151</td>\n",
       "      <td>3.726049</td>\n",
       "      <td>10.288885</td>\n",
       "      <td>10.047955</td>\n",
       "    </tr>\n",
       "    <tr>\n",
       "      <th>min</th>\n",
       "      <td>4.000000</td>\n",
       "      <td>5.700000</td>\n",
       "      <td>0.220000</td>\n",
       "      <td>0.000000</td>\n",
       "      <td>7.560000</td>\n",
       "      <td>9.384000</td>\n",
       "      <td>4.000000</td>\n",
       "      <td>0.960640</td>\n",
       "      <td>3.240000</td>\n",
       "      <td>7.095000</td>\n",
       "      <td>1.875000</td>\n",
       "      <td>38.000000</td>\n",
       "    </tr>\n",
       "    <tr>\n",
       "      <th>25%</th>\n",
       "      <td>4.523810</td>\n",
       "      <td>8.300000</td>\n",
       "      <td>0.490000</td>\n",
       "      <td>0.332000</td>\n",
       "      <td>11.970000</td>\n",
       "      <td>55.522000</td>\n",
       "      <td>10.000000</td>\n",
       "      <td>0.965770</td>\n",
       "      <td>3.700000</td>\n",
       "      <td>11.825000</td>\n",
       "      <td>6.562500</td>\n",
       "      <td>60.000000</td>\n",
       "    </tr>\n",
       "    <tr>\n",
       "      <th>50%</th>\n",
       "      <td>4.809524</td>\n",
       "      <td>9.300000</td>\n",
       "      <td>0.620000</td>\n",
       "      <td>0.896400</td>\n",
       "      <td>13.860000</td>\n",
       "      <td>62.560000</td>\n",
       "      <td>16.000000</td>\n",
       "      <td>0.966935</td>\n",
       "      <td>3.800000</td>\n",
       "      <td>13.330000</td>\n",
       "      <td>11.250000</td>\n",
       "      <td>64.000000</td>\n",
       "    </tr>\n",
       "    <tr>\n",
       "      <th>75%</th>\n",
       "      <td>5.238095</td>\n",
       "      <td>10.700000</td>\n",
       "      <td>0.740000</td>\n",
       "      <td>1.494000</td>\n",
       "      <td>17.010000</td>\n",
       "      <td>71.944000</td>\n",
       "      <td>24.000000</td>\n",
       "      <td>0.968100</td>\n",
       "      <td>3.900000</td>\n",
       "      <td>15.748750</td>\n",
       "      <td>18.515625</td>\n",
       "      <td>74.000000</td>\n",
       "    </tr>\n",
       "    <tr>\n",
       "      <th>max</th>\n",
       "      <td>7.095238</td>\n",
       "      <td>17.000000</td>\n",
       "      <td>1.680000</td>\n",
       "      <td>3.320000</td>\n",
       "      <td>86.940000</td>\n",
       "      <td>477.020000</td>\n",
       "      <td>69.000000</td>\n",
       "      <td>0.973200</td>\n",
       "      <td>4.400000</td>\n",
       "      <td>43.000000</td>\n",
       "      <td>90.312500</td>\n",
       "      <td>94.000000</td>\n",
       "    </tr>\n",
       "  </tbody>\n",
       "</table>\n",
       "</div>"
      ],
      "text/plain": [
       "       alcohol_by_weight  bitterness    nitrogen   turbidity      sugars  \\\n",
       "count         936.000000  936.000000  936.000000  936.000000  936.000000   \n",
       "mean            4.964243    9.637821    0.628862    0.939390   16.305962   \n",
       "std             0.521894    1.852364    0.187830    0.662604    8.465123   \n",
       "min             4.000000    5.700000    0.220000    0.000000    7.560000   \n",
       "25%             4.523810    8.300000    0.490000    0.332000   11.970000   \n",
       "50%             4.809524    9.300000    0.620000    0.896400   13.860000   \n",
       "75%             5.238095   10.700000    0.740000    1.494000   17.010000   \n",
       "max             7.095238   17.000000    1.680000    3.320000   86.940000   \n",
       "\n",
       "       degree_of_fermentation  calorific_value     density          pH  \\\n",
       "count              936.000000       936.000000  936.000000  936.000000   \n",
       "mean                68.374036        18.389957    0.966954    3.803814   \n",
       "std                 35.483428        10.147082    0.001937    0.157151   \n",
       "min                  9.384000         4.000000    0.960640    3.240000   \n",
       "25%                 55.522000        10.000000    0.965770    3.700000   \n",
       "50%                 62.560000        16.000000    0.966935    3.800000   \n",
       "75%                 71.944000        24.000000    0.968100    3.900000   \n",
       "max                477.020000        69.000000    0.973200    4.400000   \n",
       "\n",
       "           colour   sulphites      rating  \n",
       "count  936.000000  936.000000  936.000000  \n",
       "mean    14.106389   14.020433   67.323718  \n",
       "std      3.726049   10.288885   10.047955  \n",
       "min      7.095000    1.875000   38.000000  \n",
       "25%     11.825000    6.562500   60.000000  \n",
       "50%     13.330000   11.250000   64.000000  \n",
       "75%     15.748750   18.515625   74.000000  \n",
       "max     43.000000   90.312500   94.000000  "
      ]
     },
     "execution_count": 2,
     "metadata": {},
     "output_type": "execute_result"
    }
   ],
   "source": [
    "cols = ['alcohol_by_weight', 'rating', 'bitterness', 'nitrogen', \n",
    "        'turbidity', 'sugars', 'degree_of_fermentation', \n",
    "        'calorific_value', 'density', 'pH', 'colour', 'sulphites']\n",
    "\n",
    "cols_new = ['alcohol_by_weight', 'bitterness', 'nitrogen', \n",
    "            'turbidity', 'sugars', 'degree_of_fermentation', \n",
    "            'calorific_value', 'density', 'pH', 'colour', 'sulphites', 'rating']\n",
    "\n",
    "df = pd.read_table(\"beer_ratings.txt\", names = cols)\n",
    "\n",
    "df = df[cols_new]\n",
    "\n",
    "df.describe()"
   ]
  },
  {
   "cell_type": "code",
   "execution_count": 3,
   "metadata": {},
   "outputs": [
    {
     "data": {
      "text/html": [
       "<div>\n",
       "<style scoped>\n",
       "    .dataframe tbody tr th:only-of-type {\n",
       "        vertical-align: middle;\n",
       "    }\n",
       "\n",
       "    .dataframe tbody tr th {\n",
       "        vertical-align: top;\n",
       "    }\n",
       "\n",
       "    .dataframe thead th {\n",
       "        text-align: right;\n",
       "    }\n",
       "</style>\n",
       "<table border=\"1\" class=\"dataframe\">\n",
       "  <thead>\n",
       "    <tr style=\"text-align: right;\">\n",
       "      <th></th>\n",
       "      <th>alcohol_by_weight</th>\n",
       "      <th>bitterness</th>\n",
       "      <th>nitrogen</th>\n",
       "      <th>turbidity</th>\n",
       "      <th>sugars</th>\n",
       "      <th>degree_of_fermentation</th>\n",
       "      <th>calorific_value</th>\n",
       "      <th>density</th>\n",
       "      <th>pH</th>\n",
       "      <th>colour</th>\n",
       "      <th>sulphites</th>\n",
       "      <th>rating</th>\n",
       "    </tr>\n",
       "  </thead>\n",
       "  <tbody>\n",
       "    <tr>\n",
       "      <th>count</th>\n",
       "      <td>9.360000e+02</td>\n",
       "      <td>9.360000e+02</td>\n",
       "      <td>9.360000e+02</td>\n",
       "      <td>9.360000e+02</td>\n",
       "      <td>9.360000e+02</td>\n",
       "      <td>9.360000e+02</td>\n",
       "      <td>9.360000e+02</td>\n",
       "      <td>9.360000e+02</td>\n",
       "      <td>9.360000e+02</td>\n",
       "      <td>9.360000e+02</td>\n",
       "      <td>9.360000e+02</td>\n",
       "      <td>9.360000e+02</td>\n",
       "    </tr>\n",
       "    <tr>\n",
       "      <th>mean</th>\n",
       "      <td>-1.502715e-15</td>\n",
       "      <td>-6.167906e-17</td>\n",
       "      <td>5.954401e-17</td>\n",
       "      <td>-8.065723e-18</td>\n",
       "      <td>8.101307e-17</td>\n",
       "      <td>2.293986e-16</td>\n",
       "      <td>1.053289e-16</td>\n",
       "      <td>4.555188e-14</td>\n",
       "      <td>-2.280939e-16</td>\n",
       "      <td>2.775558e-16</td>\n",
       "      <td>-1.448865e-16</td>\n",
       "      <td>8.316591e-16</td>\n",
       "    </tr>\n",
       "    <tr>\n",
       "      <th>std</th>\n",
       "      <td>1.000535e+00</td>\n",
       "      <td>1.000535e+00</td>\n",
       "      <td>1.000535e+00</td>\n",
       "      <td>1.000535e+00</td>\n",
       "      <td>1.000535e+00</td>\n",
       "      <td>1.000535e+00</td>\n",
       "      <td>1.000535e+00</td>\n",
       "      <td>1.000535e+00</td>\n",
       "      <td>1.000535e+00</td>\n",
       "      <td>1.000535e+00</td>\n",
       "      <td>1.000535e+00</td>\n",
       "      <td>1.000535e+00</td>\n",
       "    </tr>\n",
       "    <tr>\n",
       "      <th>min</th>\n",
       "      <td>-1.848573e+00</td>\n",
       "      <td>-2.126972e+00</td>\n",
       "      <td>-2.177935e+00</td>\n",
       "      <td>-1.418483e+00</td>\n",
       "      <td>-1.033728e+00</td>\n",
       "      <td>-1.663356e+00</td>\n",
       "      <td>-1.418896e+00</td>\n",
       "      <td>-3.261357e+00</td>\n",
       "      <td>-3.589647e+00</td>\n",
       "      <td>-1.882728e+00</td>\n",
       "      <td>-1.181073e+00</td>\n",
       "      <td>-2.919937e+00</td>\n",
       "    </tr>\n",
       "    <tr>\n",
       "      <th>25%</th>\n",
       "      <td>-8.443659e-01</td>\n",
       "      <td>-7.226094e-01</td>\n",
       "      <td>-7.396939e-01</td>\n",
       "      <td>-9.171614e-01</td>\n",
       "      <td>-5.124887e-01</td>\n",
       "      <td>-3.623919e-01</td>\n",
       "      <td>-8.272765e-01</td>\n",
       "      <td>-6.117196e-01</td>\n",
       "      <td>-6.609553e-01</td>\n",
       "      <td>-6.126083e-01</td>\n",
       "      <td>-7.252409e-01</td>\n",
       "      <td>-7.292661e-01</td>\n",
       "    </tr>\n",
       "    <tr>\n",
       "      <th>50%</th>\n",
       "      <td>-2.966164e-01</td>\n",
       "      <td>-1.824701e-01</td>\n",
       "      <td>-4.720724e-02</td>\n",
       "      <td>-6.491472e-02</td>\n",
       "      <td>-2.891002e-01</td>\n",
       "      <td>-1.639398e-01</td>\n",
       "      <td>-2.356574e-01</td>\n",
       "      <td>-9.998881e-03</td>\n",
       "      <td>-2.428332e-02</td>\n",
       "      <td>-2.084793e-01</td>\n",
       "      <td>-2.694086e-01</td>\n",
       "      <td>-3.309623e-01</td>\n",
       "    </tr>\n",
       "    <tr>\n",
       "      <th>75%</th>\n",
       "      <td>5.250079e-01</td>\n",
       "      <td>5.737249e-01</td>\n",
       "      <td>5.920112e-01</td>\n",
       "      <td>8.374641e-01</td>\n",
       "      <td>8.321378e-02</td>\n",
       "      <td>1.006631e-01</td>\n",
       "      <td>5.531681e-01</td>\n",
       "      <td>5.917219e-01</td>\n",
       "      <td>6.123887e-01</td>\n",
       "      <td>4.410138e-01</td>\n",
       "      <td>4.371315e-01</td>\n",
       "      <td>6.647971e-01</td>\n",
       "    </tr>\n",
       "    <tr>\n",
       "      <th>max</th>\n",
       "      <td>4.085380e+00</td>\n",
       "      <td>3.976602e+00</td>\n",
       "      <td>5.599223e+00</td>\n",
       "      <td>3.594733e+00</td>\n",
       "      <td>8.348585e+00</td>\n",
       "      <td>1.152269e+01</td>\n",
       "      <td>4.990311e+00</td>\n",
       "      <td>3.225864e+00</td>\n",
       "      <td>3.795749e+00</td>\n",
       "      <td>7.758636e+00</td>\n",
       "      <td>7.418963e+00</td>\n",
       "      <td>2.656316e+00</td>\n",
       "    </tr>\n",
       "  </tbody>\n",
       "</table>\n",
       "</div>"
      ],
      "text/plain": [
       "       alcohol_by_weight    bitterness      nitrogen     turbidity  \\\n",
       "count       9.360000e+02  9.360000e+02  9.360000e+02  9.360000e+02   \n",
       "mean       -1.502715e-15 -6.167906e-17  5.954401e-17 -8.065723e-18   \n",
       "std         1.000535e+00  1.000535e+00  1.000535e+00  1.000535e+00   \n",
       "min        -1.848573e+00 -2.126972e+00 -2.177935e+00 -1.418483e+00   \n",
       "25%        -8.443659e-01 -7.226094e-01 -7.396939e-01 -9.171614e-01   \n",
       "50%        -2.966164e-01 -1.824701e-01 -4.720724e-02 -6.491472e-02   \n",
       "75%         5.250079e-01  5.737249e-01  5.920112e-01  8.374641e-01   \n",
       "max         4.085380e+00  3.976602e+00  5.599223e+00  3.594733e+00   \n",
       "\n",
       "             sugars  degree_of_fermentation  calorific_value       density  \\\n",
       "count  9.360000e+02            9.360000e+02     9.360000e+02  9.360000e+02   \n",
       "mean   8.101307e-17            2.293986e-16     1.053289e-16  4.555188e-14   \n",
       "std    1.000535e+00            1.000535e+00     1.000535e+00  1.000535e+00   \n",
       "min   -1.033728e+00           -1.663356e+00    -1.418896e+00 -3.261357e+00   \n",
       "25%   -5.124887e-01           -3.623919e-01    -8.272765e-01 -6.117196e-01   \n",
       "50%   -2.891002e-01           -1.639398e-01    -2.356574e-01 -9.998881e-03   \n",
       "75%    8.321378e-02            1.006631e-01     5.531681e-01  5.917219e-01   \n",
       "max    8.348585e+00            1.152269e+01     4.990311e+00  3.225864e+00   \n",
       "\n",
       "                 pH        colour     sulphites        rating  \n",
       "count  9.360000e+02  9.360000e+02  9.360000e+02  9.360000e+02  \n",
       "mean  -2.280939e-16  2.775558e-16 -1.448865e-16  8.316591e-16  \n",
       "std    1.000535e+00  1.000535e+00  1.000535e+00  1.000535e+00  \n",
       "min   -3.589647e+00 -1.882728e+00 -1.181073e+00 -2.919937e+00  \n",
       "25%   -6.609553e-01 -6.126083e-01 -7.252409e-01 -7.292661e-01  \n",
       "50%   -2.428332e-02 -2.084793e-01 -2.694086e-01 -3.309623e-01  \n",
       "75%    6.123887e-01  4.410138e-01  4.371315e-01  6.647971e-01  \n",
       "max    3.795749e+00  7.758636e+00  7.418963e+00  2.656316e+00  "
      ]
     },
     "execution_count": 3,
     "metadata": {},
     "output_type": "execute_result"
    }
   ],
   "source": [
    "scaler = StandardScaler() \n",
    "df = pd.DataFrame(scaler.fit_transform(df), columns = cols_new)\n",
    "\n",
    "X = df.iloc[:, :-1] # Independent Variables\n",
    "\n",
    "y = df.iloc[:, -1] # Dependent Variables\n",
    "\n",
    "X_train, X_test, y_train, y_test = train_test_split(X, y, test_size = 0.2, random_state = 24)\n",
    "\n",
    "df.describe()"
   ]
  },
  {
   "cell_type": "code",
   "execution_count": 4,
   "metadata": {},
   "outputs": [],
   "source": [
    "lr = LinearRegression()\n",
    "model_lr = lr.fit(X_train, y_train)"
   ]
  },
  {
   "cell_type": "code",
   "execution_count": 5,
   "metadata": {},
   "outputs": [
    {
     "data": {
      "text/plain": [
       "0.42036806271004346"
      ]
     },
     "execution_count": 5,
     "metadata": {},
     "output_type": "execute_result"
    }
   ],
   "source": [
    "model_lr.score(X_train, y_train)"
   ]
  },
  {
   "cell_type": "code",
   "execution_count": 6,
   "metadata": {},
   "outputs": [
    {
     "data": {
      "text/plain": [
       "0.4087336577126648"
      ]
     },
     "execution_count": 6,
     "metadata": {},
     "output_type": "execute_result"
    }
   ],
   "source": [
    "model_lr.score(X_test, y_test)"
   ]
  },
  {
   "cell_type": "code",
   "execution_count": 7,
   "metadata": {},
   "outputs": [
    {
     "name": "stdout",
     "output_type": "stream",
     "text": [
      "0.821879191328895\n",
      "0.747214454417156\n"
     ]
    }
   ],
   "source": [
    "y_pred_test = model_lr.predict(X_test)\n",
    "print(np.sqrt(mean_squared_error(y_test, y_pred_test)))\n",
    "y_pred_train = model_lr.predict(X_train)\n",
    "print(np.sqrt(mean_squared_error(y_train, y_pred_train)))"
   ]
  },
  {
   "cell_type": "code",
   "execution_count": 8,
   "metadata": {},
   "outputs": [],
   "source": [
    "parameters = {'fit_intercept':[True, False], 'normalize':[True, False], 'copy_X':[True, False]}\n",
    "grid = GridSearchCV(model_lr, parameters, cv = 10)"
   ]
  },
  {
   "cell_type": "code",
   "execution_count": 9,
   "metadata": {},
   "outputs": [
    {
     "data": {
      "text/plain": [
       "GridSearchCV(cv=10, estimator=LinearRegression(),\n",
       "             param_grid={'copy_X': [True, False],\n",
       "                         'fit_intercept': [True, False],\n",
       "                         'normalize': [True, False]})"
      ]
     },
     "execution_count": 9,
     "metadata": {},
     "output_type": "execute_result"
    }
   ],
   "source": [
    "grid.fit(X, y)"
   ]
  },
  {
   "cell_type": "code",
   "execution_count": 10,
   "metadata": {},
   "outputs": [
    {
     "data": {
      "text/plain": [
       "{'copy_X': True, 'fit_intercept': False, 'normalize': True}"
      ]
     },
     "execution_count": 10,
     "metadata": {},
     "output_type": "execute_result"
    }
   ],
   "source": [
    "grid.best_params_"
   ]
  },
  {
   "cell_type": "code",
   "execution_count": 11,
   "metadata": {},
   "outputs": [
    {
     "data": {
      "text/plain": [
       "0.41638298543738583"
      ]
     },
     "execution_count": 11,
     "metadata": {},
     "output_type": "execute_result"
    }
   ],
   "source": [
    "grid.score(X_train, y_train)"
   ]
  },
  {
   "cell_type": "code",
   "execution_count": 12,
   "metadata": {},
   "outputs": [
    {
     "data": {
      "text/plain": [
       "0.43946081789598845"
      ]
     },
     "execution_count": 12,
     "metadata": {},
     "output_type": "execute_result"
    }
   ],
   "source": [
    "grid.score(X_test, y_test)"
   ]
  },
  {
   "cell_type": "code",
   "execution_count": 13,
   "metadata": {},
   "outputs": [],
   "source": [
    "lr_optimal = LinearRegression(copy_X= True, fit_intercept= False, normalize= True)"
   ]
  },
  {
   "cell_type": "code",
   "execution_count": 14,
   "metadata": {},
   "outputs": [],
   "source": [
    "model_optimised_lr = lr.fit(X_train, y_train)"
   ]
  },
  {
   "cell_type": "code",
   "execution_count": 15,
   "metadata": {},
   "outputs": [
    {
     "data": {
      "text/plain": [
       "0.42036806271004346"
      ]
     },
     "execution_count": 15,
     "metadata": {},
     "output_type": "execute_result"
    }
   ],
   "source": [
    "model_optimised_lr.score(X_train, y_train)"
   ]
  },
  {
   "cell_type": "code",
   "execution_count": 16,
   "metadata": {},
   "outputs": [
    {
     "data": {
      "text/plain": [
       "0.4087336577126648"
      ]
     },
     "execution_count": 16,
     "metadata": {},
     "output_type": "execute_result"
    }
   ],
   "source": [
    "model_optimised_lr.score(X_test, y_test)"
   ]
  },
  {
   "cell_type": "code",
   "execution_count": 17,
   "metadata": {},
   "outputs": [],
   "source": [
    "pred_train_lr = cross_val_predict(model_optimised_lr, X_train, y_train, cv = 10)"
   ]
  },
  {
   "cell_type": "code",
   "execution_count": 18,
   "metadata": {},
   "outputs": [],
   "source": [
    "pred_test_lr = cross_val_predict(model_optimised_lr, X_test, y_test, cv = 10)"
   ]
  },
  {
   "cell_type": "code",
   "execution_count": 19,
   "metadata": {},
   "outputs": [
    {
     "data": {
      "text/plain": [
       "<matplotlib.collections.PathCollection at 0x220e1f26820>"
      ]
     },
     "execution_count": 19,
     "metadata": {},
     "output_type": "execute_result"
    },
    {
     "data": {
      "image/png": "[encoded data removed]",
      "text/plain": [
       "<Figure size 432x288 with 1 Axes>"
      ]
     },
     "metadata": {
      "needs_background": "light"
     },
     "output_type": "display_data"
    }
   ],
   "source": [
    "plt.scatter(y_train, pred_train_lr)"
   ]
  },
  {
   "cell_type": "code",
   "execution_count": 20,
   "metadata": {},
   "outputs": [
    {
     "data": {
      "text/plain": [
       "<matplotlib.collections.PathCollection at 0x220e2007400>"
      ]
     },
     "execution_count": 20,
     "metadata": {},
     "output_type": "execute_result"
    },
    {
     "data": {
      "image/png": "[encoded data removed]",
      "text/plain": [
       "<Figure size 432x288 with 1 Axes>"
      ]
     },
     "metadata": {
      "needs_background": "light"
     },
     "output_type": "display_data"
    }
   ],
   "source": [
    "plt.scatter(y_test, pred_test_lr)"
   ]
  },
  {
   "cell_type": "code",
   "execution_count": 21,
   "metadata": {},
   "outputs": [
    {
     "data": {
      "text/plain": [
       "0.3922031370917697"
      ]
     },
     "execution_count": 21,
     "metadata": {},
     "output_type": "execute_result"
    }
   ],
   "source": [
    "metrics.r2_score(y_train, pred_train_lr)"
   ]
  },
  {
   "cell_type": "code",
   "execution_count": 22,
   "metadata": {},
   "outputs": [
    {
     "data": {
      "text/plain": [
       "0.399631206490326"
      ]
     },
     "execution_count": 22,
     "metadata": {},
     "output_type": "execute_result"
    }
   ],
   "source": [
    "metrics.r2_score(y_test, pred_test_lr)"
   ]
  },
  {
   "cell_type": "code",
   "execution_count": 23,
   "metadata": {},
   "outputs": [
    {
     "data": {
      "text/plain": [
       "0.765153093045723"
      ]
     },
     "execution_count": 23,
     "metadata": {},
     "output_type": "execute_result"
    }
   ],
   "source": [
    "np.sqrt(metrics.mean_squared_error(y_train, pred_train_lr))"
   ]
  },
  {
   "cell_type": "code",
   "execution_count": 24,
   "metadata": {},
   "outputs": [
    {
     "data": {
      "text/plain": [
       "0.8281813783396006"
      ]
     },
     "execution_count": 24,
     "metadata": {},
     "output_type": "execute_result"
    }
   ],
   "source": [
    "np.sqrt(metrics.mean_squared_error(y_test, pred_test_lr))"
   ]
  },
  {
   "cell_type": "code",
   "execution_count": 25,
   "metadata": {},
   "outputs": [
    {
     "data": {
      "text/plain": [
       "0.5961581544488662"
      ]
     },
     "execution_count": 25,
     "metadata": {},
     "output_type": "execute_result"
    }
   ],
   "source": [
    "(metrics.mean_absolute_error(y_train, pred_train_lr))"
   ]
  },
  {
   "cell_type": "code",
   "execution_count": 26,
   "metadata": {},
   "outputs": [
    {
     "data": {
      "text/plain": [
       "0.655395610491199"
      ]
     },
     "execution_count": 26,
     "metadata": {},
     "output_type": "execute_result"
    }
   ],
   "source": [
    "(metrics.mean_absolute_error(y_test, pred_test_lr))"
   ]
  },
  {
   "cell_type": "code",
   "execution_count": 27,
   "metadata": {},
   "outputs": [
    {
     "data": {
      "text/plain": [
       "array([ 0.30794059,  0.19079657, -0.25751295, -0.02908371,  0.07104206,\n",
       "       -0.09918681,  0.00768877, -0.14574767, -0.00615089,  0.22682403,\n",
       "       -0.06310066])"
      ]
     },
     "execution_count": 27,
     "metadata": {},
     "output_type": "execute_result"
    }
   ],
   "source": [
    "coeffs = model_lr.coef_\n",
    "coeffs"
   ]
  },
  {
   "cell_type": "code",
   "execution_count": 28,
   "metadata": {},
   "outputs": [
    {
     "data": {
      "text/plain": [
       "Index(['alcohol_by_weight', 'bitterness', 'nitrogen', 'turbidity', 'sugars',\n",
       "       'degree_of_fermentation', 'calorific_value', 'density', 'pH', 'colour',\n",
       "       'sulphites'],\n",
       "      dtype='object')"
      ]
     },
     "execution_count": 28,
     "metadata": {},
     "output_type": "execute_result"
    }
   ],
   "source": [
    "feature_names = df.drop('rating', axis = 1).columns\n",
    "feature_names"
   ]
  },
  {
   "cell_type": "code",
   "execution_count": 29,
   "metadata": {},
   "outputs": [
    {
     "data": {
      "image/png": "[encoded data removed]",
      "text/plain": [
       "<Figure size 720x432 with 1 Axes>"
      ]
     },
     "metadata": {
      "needs_background": "light"
     },
     "output_type": "display_data"
    }
   ],
   "source": [
    "# Using matplotlib commands to plot\n",
    "plt.figure(figsize = (10, 6))\n",
    "plt.plot(range(len(coeffs)), coeffs)\n",
    "plt.axhline(0, color = 'r', linestyle = 'solid', alpha = 0.5)\n",
    "plt.xticks(range(len(feature_names)), feature_names, rotation = 50)\n",
    "plt.title(\"Coefficients for Simple Linear Regression\")\n",
    "plt.ylabel(\"coefficients\")\n",
    "plt.xlabel(\"features\")\n",
    "plt.show()"
   ]
  },
  {
   "cell_type": "code",
   "execution_count": 30,
   "metadata": {},
   "outputs": [
    {
     "data": {
      "text/html": [
       "<style  type=\"text/css\" >\n",
       "#T_bdc124a3_4dd4_11eb_b307_7085c28d1f37row0_col0,#T_bdc124a3_4dd4_11eb_b307_7085c28d1f37row1_col1,#T_bdc124a3_4dd4_11eb_b307_7085c28d1f37row2_col2,#T_bdc124a3_4dd4_11eb_b307_7085c28d1f37row3_col3,#T_bdc124a3_4dd4_11eb_b307_7085c28d1f37row4_col4,#T_bdc124a3_4dd4_11eb_b307_7085c28d1f37row5_col5,#T_bdc124a3_4dd4_11eb_b307_7085c28d1f37row6_col6,#T_bdc124a3_4dd4_11eb_b307_7085c28d1f37row7_col7,#T_bdc124a3_4dd4_11eb_b307_7085c28d1f37row8_col8,#T_bdc124a3_4dd4_11eb_b307_7085c28d1f37row9_col9,#T_bdc124a3_4dd4_11eb_b307_7085c28d1f37row10_col10,#T_bdc124a3_4dd4_11eb_b307_7085c28d1f37row11_col11{\n",
       "            background-color:  #b40426;\n",
       "            color:  #f1f1f1;\n",
       "        }#T_bdc124a3_4dd4_11eb_b307_7085c28d1f37row0_col1,#T_bdc124a3_4dd4_11eb_b307_7085c28d1f37row9_col7{\n",
       "            background-color:  #c0d4f5;\n",
       "            color:  #000000;\n",
       "        }#T_bdc124a3_4dd4_11eb_b307_7085c28d1f37row0_col2{\n",
       "            background-color:  #82a6fb;\n",
       "            color:  #000000;\n",
       "        }#T_bdc124a3_4dd4_11eb_b307_7085c28d1f37row0_col3{\n",
       "            background-color:  #d5dbe5;\n",
       "            color:  #000000;\n",
       "        }#T_bdc124a3_4dd4_11eb_b307_7085c28d1f37row0_col4{\n",
       "            background-color:  #7da0f9;\n",
       "            color:  #000000;\n",
       "        }#T_bdc124a3_4dd4_11eb_b307_7085c28d1f37row0_col5{\n",
       "            background-color:  #445acc;\n",
       "            color:  #f1f1f1;\n",
       "        }#T_bdc124a3_4dd4_11eb_b307_7085c28d1f37row0_col6{\n",
       "            background-color:  #3e51c5;\n",
       "            color:  #f1f1f1;\n",
       "        }#T_bdc124a3_4dd4_11eb_b307_7085c28d1f37row0_col7,#T_bdc124a3_4dd4_11eb_b307_7085c28d1f37row0_col10,#T_bdc124a3_4dd4_11eb_b307_7085c28d1f37row1_col6,#T_bdc124a3_4dd4_11eb_b307_7085c28d1f37row1_col8,#T_bdc124a3_4dd4_11eb_b307_7085c28d1f37row2_col9,#T_bdc124a3_4dd4_11eb_b307_7085c28d1f37row2_col11,#T_bdc124a3_4dd4_11eb_b307_7085c28d1f37row3_col2,#T_bdc124a3_4dd4_11eb_b307_7085c28d1f37row7_col0,#T_bdc124a3_4dd4_11eb_b307_7085c28d1f37row8_col1,#T_bdc124a3_4dd4_11eb_b307_7085c28d1f37row8_col3,#T_bdc124a3_4dd4_11eb_b307_7085c28d1f37row8_col4,#T_bdc124a3_4dd4_11eb_b307_7085c28d1f37row8_col5{\n",
       "            background-color:  #3b4cc0;\n",
       "            color:  #f1f1f1;\n",
       "        }#T_bdc124a3_4dd4_11eb_b307_7085c28d1f37row0_col8{\n",
       "            background-color:  #dedcdb;\n",
       "            color:  #000000;\n",
       "        }#T_bdc124a3_4dd4_11eb_b307_7085c28d1f37row0_col9{\n",
       "            background-color:  #bad0f8;\n",
       "            color:  #000000;\n",
       "        }#T_bdc124a3_4dd4_11eb_b307_7085c28d1f37row0_col11{\n",
       "            background-color:  #f6bea4;\n",
       "            color:  #000000;\n",
       "        }#T_bdc124a3_4dd4_11eb_b307_7085c28d1f37row1_col0,#T_bdc124a3_4dd4_11eb_b307_7085c28d1f37row9_col8{\n",
       "            background-color:  #9dbdff;\n",
       "            color:  #000000;\n",
       "        }#T_bdc124a3_4dd4_11eb_b307_7085c28d1f37row1_col2{\n",
       "            background-color:  #7699f6;\n",
       "            color:  #000000;\n",
       "        }#T_bdc124a3_4dd4_11eb_b307_7085c28d1f37row1_col3,#T_bdc124a3_4dd4_11eb_b307_7085c28d1f37row7_col1{\n",
       "            background-color:  #ea7b60;\n",
       "            color:  #000000;\n",
       "        }#T_bdc124a3_4dd4_11eb_b307_7085c28d1f37row1_col4,#T_bdc124a3_4dd4_11eb_b307_7085c28d1f37row2_col1,#T_bdc124a3_4dd4_11eb_b307_7085c28d1f37row4_col5,#T_bdc124a3_4dd4_11eb_b307_7085c28d1f37row4_col9,#T_bdc124a3_4dd4_11eb_b307_7085c28d1f37row10_col4{\n",
       "            background-color:  #8db0fe;\n",
       "            color:  #000000;\n",
       "        }#T_bdc124a3_4dd4_11eb_b307_7085c28d1f37row1_col5{\n",
       "            background-color:  #98b9ff;\n",
       "            color:  #000000;\n",
       "        }#T_bdc124a3_4dd4_11eb_b307_7085c28d1f37row1_col7{\n",
       "            background-color:  #f08a6c;\n",
       "            color:  #000000;\n",
       "        }#T_bdc124a3_4dd4_11eb_b307_7085c28d1f37row1_col9,#T_bdc124a3_4dd4_11eb_b307_7085c28d1f37row5_col2,#T_bdc124a3_4dd4_11eb_b307_7085c28d1f37row7_col4{\n",
       "            background-color:  #c3d5f4;\n",
       "            color:  #000000;\n",
       "        }#T_bdc124a3_4dd4_11eb_b307_7085c28d1f37row1_col10{\n",
       "            background-color:  #4f69d9;\n",
       "            color:  #000000;\n",
       "        }#T_bdc124a3_4dd4_11eb_b307_7085c28d1f37row1_col11{\n",
       "            background-color:  #ccd9ed;\n",
       "            color:  #000000;\n",
       "        }#T_bdc124a3_4dd4_11eb_b307_7085c28d1f37row2_col0{\n",
       "            background-color:  #6c8ff1;\n",
       "            color:  #000000;\n",
       "        }#T_bdc124a3_4dd4_11eb_b307_7085c28d1f37row2_col3{\n",
       "            background-color:  #3d50c3;\n",
       "            color:  #f1f1f1;\n",
       "        }#T_bdc124a3_4dd4_11eb_b307_7085c28d1f37row2_col4{\n",
       "            background-color:  #6282ea;\n",
       "            color:  #000000;\n",
       "        }#T_bdc124a3_4dd4_11eb_b307_7085c28d1f37row2_col5{\n",
       "            background-color:  #93b5fe;\n",
       "            color:  #000000;\n",
       "        }#T_bdc124a3_4dd4_11eb_b307_7085c28d1f37row2_col6{\n",
       "            background-color:  #6384eb;\n",
       "            color:  #000000;\n",
       "        }#T_bdc124a3_4dd4_11eb_b307_7085c28d1f37row2_col7{\n",
       "            background-color:  #a3c2fe;\n",
       "            color:  #000000;\n",
       "        }#T_bdc124a3_4dd4_11eb_b307_7085c28d1f37row2_col8,#T_bdc124a3_4dd4_11eb_b307_7085c28d1f37row9_col11{\n",
       "            background-color:  #ead4c8;\n",
       "            color:  #000000;\n",
       "        }#T_bdc124a3_4dd4_11eb_b307_7085c28d1f37row2_col10,#T_bdc124a3_4dd4_11eb_b307_7085c28d1f37row6_col4,#T_bdc124a3_4dd4_11eb_b307_7085c28d1f37row10_col11,#T_bdc124a3_4dd4_11eb_b307_7085c28d1f37row11_col7{\n",
       "            background-color:  #80a3fa;\n",
       "            color:  #000000;\n",
       "        }#T_bdc124a3_4dd4_11eb_b307_7085c28d1f37row3_col0{\n",
       "            background-color:  #c7d7f0;\n",
       "            color:  #000000;\n",
       "        }#T_bdc124a3_4dd4_11eb_b307_7085c28d1f37row3_col1{\n",
       "            background-color:  #e8765c;\n",
       "            color:  #000000;\n",
       "        }#T_bdc124a3_4dd4_11eb_b307_7085c28d1f37row3_col4,#T_bdc124a3_4dd4_11eb_b307_7085c28d1f37row6_col11{\n",
       "            background-color:  #90b2fe;\n",
       "            color:  #000000;\n",
       "        }#T_bdc124a3_4dd4_11eb_b307_7085c28d1f37row3_col5{\n",
       "            background-color:  #b3cdfb;\n",
       "            color:  #000000;\n",
       "        }#T_bdc124a3_4dd4_11eb_b307_7085c28d1f37row3_col6{\n",
       "            background-color:  #5673e0;\n",
       "            color:  #000000;\n",
       "        }#T_bdc124a3_4dd4_11eb_b307_7085c28d1f37row3_col7{\n",
       "            background-color:  #efcfbf;\n",
       "            color:  #000000;\n",
       "        }#T_bdc124a3_4dd4_11eb_b307_7085c28d1f37row3_col8{\n",
       "            background-color:  #516ddb;\n",
       "            color:  #000000;\n",
       "        }#T_bdc124a3_4dd4_11eb_b307_7085c28d1f37row3_col9,#T_bdc124a3_4dd4_11eb_b307_7085c28d1f37row11_col1{\n",
       "            background-color:  #e1dad6;\n",
       "            color:  #000000;\n",
       "        }#T_bdc124a3_4dd4_11eb_b307_7085c28d1f37row3_col10,#T_bdc124a3_4dd4_11eb_b307_7085c28d1f37row5_col4{\n",
       "            background-color:  #6e90f2;\n",
       "            color:  #000000;\n",
       "        }#T_bdc124a3_4dd4_11eb_b307_7085c28d1f37row3_col11,#T_bdc124a3_4dd4_11eb_b307_7085c28d1f37row4_col7{\n",
       "            background-color:  #e6d7cf;\n",
       "            color:  #000000;\n",
       "        }#T_bdc124a3_4dd4_11eb_b307_7085c28d1f37row4_col0{\n",
       "            background-color:  #b9d0f9;\n",
       "            color:  #000000;\n",
       "        }#T_bdc124a3_4dd4_11eb_b307_7085c28d1f37row4_col1{\n",
       "            background-color:  #dddcdc;\n",
       "            color:  #000000;\n",
       "        }#T_bdc124a3_4dd4_11eb_b307_7085c28d1f37row4_col2,#T_bdc124a3_4dd4_11eb_b307_7085c28d1f37row7_col2{\n",
       "            background-color:  #b5cdfa;\n",
       "            color:  #000000;\n",
       "        }#T_bdc124a3_4dd4_11eb_b307_7085c28d1f37row4_col3,#T_bdc124a3_4dd4_11eb_b307_7085c28d1f37row5_col1,#T_bdc124a3_4dd4_11eb_b307_7085c28d1f37row9_col5{\n",
       "            background-color:  #d4dbe6;\n",
       "            color:  #000000;\n",
       "        }#T_bdc124a3_4dd4_11eb_b307_7085c28d1f37row4_col6{\n",
       "            background-color:  #85a8fc;\n",
       "            color:  #000000;\n",
       "        }#T_bdc124a3_4dd4_11eb_b307_7085c28d1f37row4_col8,#T_bdc124a3_4dd4_11eb_b307_7085c28d1f37row11_col8{\n",
       "            background-color:  #abc8fd;\n",
       "            color:  #000000;\n",
       "        }#T_bdc124a3_4dd4_11eb_b307_7085c28d1f37row4_col10{\n",
       "            background-color:  #9abbff;\n",
       "            color:  #000000;\n",
       "        }#T_bdc124a3_4dd4_11eb_b307_7085c28d1f37row4_col11{\n",
       "            background-color:  #adc9fd;\n",
       "            color:  #000000;\n",
       "        }#T_bdc124a3_4dd4_11eb_b307_7085c28d1f37row5_col0,#T_bdc124a3_4dd4_11eb_b307_7085c28d1f37row5_col10{\n",
       "            background-color:  #6b8df0;\n",
       "            color:  #000000;\n",
       "        }#T_bdc124a3_4dd4_11eb_b307_7085c28d1f37row5_col3{\n",
       "            background-color:  #d9dce1;\n",
       "            color:  #000000;\n",
       "        }#T_bdc124a3_4dd4_11eb_b307_7085c28d1f37row5_col6{\n",
       "            background-color:  #6485ec;\n",
       "            color:  #000000;\n",
       "        }#T_bdc124a3_4dd4_11eb_b307_7085c28d1f37row5_col7{\n",
       "            background-color:  #cedaeb;\n",
       "            color:  #000000;\n",
       "        }#T_bdc124a3_4dd4_11eb_b307_7085c28d1f37row5_col8{\n",
       "            background-color:  #8fb1fe;\n",
       "            color:  #000000;\n",
       "        }#T_bdc124a3_4dd4_11eb_b307_7085c28d1f37row5_col9{\n",
       "            background-color:  #dadce0;\n",
       "            color:  #000000;\n",
       "        }#T_bdc124a3_4dd4_11eb_b307_7085c28d1f37row5_col11,#T_bdc124a3_4dd4_11eb_b307_7085c28d1f37row7_col11{\n",
       "            background-color:  #84a7fc;\n",
       "            color:  #000000;\n",
       "        }#T_bdc124a3_4dd4_11eb_b307_7085c28d1f37row6_col0,#T_bdc124a3_4dd4_11eb_b307_7085c28d1f37row6_col5,#T_bdc124a3_4dd4_11eb_b307_7085c28d1f37row10_col5{\n",
       "            background-color:  #7ea1fa;\n",
       "            color:  #000000;\n",
       "        }#T_bdc124a3_4dd4_11eb_b307_7085c28d1f37row6_col1{\n",
       "            background-color:  #a6c4fe;\n",
       "            color:  #000000;\n",
       "        }#T_bdc124a3_4dd4_11eb_b307_7085c28d1f37row6_col2{\n",
       "            background-color:  #b2ccfb;\n",
       "            color:  #000000;\n",
       "        }#T_bdc124a3_4dd4_11eb_b307_7085c28d1f37row6_col3{\n",
       "            background-color:  #a9c6fd;\n",
       "            color:  #000000;\n",
       "        }#T_bdc124a3_4dd4_11eb_b307_7085c28d1f37row6_col7{\n",
       "            background-color:  #97b8ff;\n",
       "            color:  #000000;\n",
       "        }#T_bdc124a3_4dd4_11eb_b307_7085c28d1f37row6_col8{\n",
       "            background-color:  #c5d6f2;\n",
       "            color:  #000000;\n",
       "        }#T_bdc124a3_4dd4_11eb_b307_7085c28d1f37row6_col9{\n",
       "            background-color:  #88abfd;\n",
       "            color:  #000000;\n",
       "        }#T_bdc124a3_4dd4_11eb_b307_7085c28d1f37row6_col10{\n",
       "            background-color:  #f59f80;\n",
       "            color:  #000000;\n",
       "        }#T_bdc124a3_4dd4_11eb_b307_7085c28d1f37row7_col3{\n",
       "            background-color:  #f3c7b1;\n",
       "            color:  #000000;\n",
       "        }#T_bdc124a3_4dd4_11eb_b307_7085c28d1f37row7_col5,#T_bdc124a3_4dd4_11eb_b307_7085c28d1f37row10_col3{\n",
       "            background-color:  #b6cefa;\n",
       "            color:  #000000;\n",
       "        }#T_bdc124a3_4dd4_11eb_b307_7085c28d1f37row7_col6{\n",
       "            background-color:  #5977e3;\n",
       "            color:  #000000;\n",
       "        }#T_bdc124a3_4dd4_11eb_b307_7085c28d1f37row7_col8{\n",
       "            background-color:  #799cf8;\n",
       "            color:  #000000;\n",
       "        }#T_bdc124a3_4dd4_11eb_b307_7085c28d1f37row7_col9,#T_bdc124a3_4dd4_11eb_b307_7085c28d1f37row10_col1{\n",
       "            background-color:  #afcafc;\n",
       "            color:  #000000;\n",
       "        }#T_bdc124a3_4dd4_11eb_b307_7085c28d1f37row7_col10{\n",
       "            background-color:  #779af7;\n",
       "            color:  #000000;\n",
       "        }#T_bdc124a3_4dd4_11eb_b307_7085c28d1f37row8_col0{\n",
       "            background-color:  #c6d6f1;\n",
       "            color:  #000000;\n",
       "        }#T_bdc124a3_4dd4_11eb_b307_7085c28d1f37row8_col2{\n",
       "            background-color:  #e0dbd8;\n",
       "            color:  #000000;\n",
       "        }#T_bdc124a3_4dd4_11eb_b307_7085c28d1f37row8_col6{\n",
       "            background-color:  #6687ed;\n",
       "            color:  #000000;\n",
       "        }#T_bdc124a3_4dd4_11eb_b307_7085c28d1f37row8_col7{\n",
       "            background-color:  #4961d2;\n",
       "            color:  #f1f1f1;\n",
       "        }#T_bdc124a3_4dd4_11eb_b307_7085c28d1f37row8_col9,#T_bdc124a3_4dd4_11eb_b307_7085c28d1f37row8_col10{\n",
       "            background-color:  #5875e1;\n",
       "            color:  #000000;\n",
       "        }#T_bdc124a3_4dd4_11eb_b307_7085c28d1f37row8_col11{\n",
       "            background-color:  #86a9fc;\n",
       "            color:  #000000;\n",
       "        }#T_bdc124a3_4dd4_11eb_b307_7085c28d1f37row9_col0{\n",
       "            background-color:  #cad8ef;\n",
       "            color:  #000000;\n",
       "        }#T_bdc124a3_4dd4_11eb_b307_7085c28d1f37row9_col1{\n",
       "            background-color:  #e7d7ce;\n",
       "            color:  #000000;\n",
       "        }#T_bdc124a3_4dd4_11eb_b307_7085c28d1f37row9_col2,#T_bdc124a3_4dd4_11eb_b307_7085c28d1f37row9_col10{\n",
       "            background-color:  #6a8bef;\n",
       "            color:  #000000;\n",
       "        }#T_bdc124a3_4dd4_11eb_b307_7085c28d1f37row9_col3{\n",
       "            background-color:  #f1cdba;\n",
       "            color:  #000000;\n",
       "        }#T_bdc124a3_4dd4_11eb_b307_7085c28d1f37row9_col4,#T_bdc124a3_4dd4_11eb_b307_7085c28d1f37row9_col6{\n",
       "            background-color:  #6180e9;\n",
       "            color:  #000000;\n",
       "        }#T_bdc124a3_4dd4_11eb_b307_7085c28d1f37row10_col0{\n",
       "            background-color:  #7597f6;\n",
       "            color:  #000000;\n",
       "        }#T_bdc124a3_4dd4_11eb_b307_7085c28d1f37row10_col2{\n",
       "            background-color:  #c1d4f4;\n",
       "            color:  #000000;\n",
       "        }#T_bdc124a3_4dd4_11eb_b307_7085c28d1f37row10_col6{\n",
       "            background-color:  #f6a283;\n",
       "            color:  #000000;\n",
       "        }#T_bdc124a3_4dd4_11eb_b307_7085c28d1f37row10_col7{\n",
       "            background-color:  #aac7fd;\n",
       "            color:  #000000;\n",
       "        }#T_bdc124a3_4dd4_11eb_b307_7085c28d1f37row10_col8{\n",
       "            background-color:  #b7cff9;\n",
       "            color:  #000000;\n",
       "        }#T_bdc124a3_4dd4_11eb_b307_7085c28d1f37row10_col9{\n",
       "            background-color:  #8badfd;\n",
       "            color:  #000000;\n",
       "        }#T_bdc124a3_4dd4_11eb_b307_7085c28d1f37row11_col0{\n",
       "            background-color:  #f6bfa6;\n",
       "            color:  #000000;\n",
       "        }#T_bdc124a3_4dd4_11eb_b307_7085c28d1f37row11_col2,#T_bdc124a3_4dd4_11eb_b307_7085c28d1f37row11_col6{\n",
       "            background-color:  #4c66d6;\n",
       "            color:  #000000;\n",
       "        }#T_bdc124a3_4dd4_11eb_b307_7085c28d1f37row11_col3{\n",
       "            background-color:  #edd2c3;\n",
       "            color:  #000000;\n",
       "        }#T_bdc124a3_4dd4_11eb_b307_7085c28d1f37row11_col4{\n",
       "            background-color:  #688aef;\n",
       "            color:  #000000;\n",
       "        }#T_bdc124a3_4dd4_11eb_b307_7085c28d1f37row11_col5{\n",
       "            background-color:  #5a78e4;\n",
       "            color:  #000000;\n",
       "        }#T_bdc124a3_4dd4_11eb_b307_7085c28d1f37row11_col9{\n",
       "            background-color:  #dfdbd9;\n",
       "            color:  #000000;\n",
       "        }#T_bdc124a3_4dd4_11eb_b307_7085c28d1f37row11_col10{\n",
       "            background-color:  #4257c9;\n",
       "            color:  #f1f1f1;\n",
       "        }</style><table id=\"T_bdc124a3_4dd4_11eb_b307_7085c28d1f37\" ><thead>    <tr>        <th class=\"blank level0\" ></th>        <th class=\"col_heading level0 col0\" >alcohol_by_weight</th>        <th class=\"col_heading level0 col1\" >bitterness</th>        <th class=\"col_heading level0 col2\" >nitrogen</th>        <th class=\"col_heading level0 col3\" >turbidity</th>        <th class=\"col_heading level0 col4\" >sugars</th>        <th class=\"col_heading level0 col5\" >degree_of_fermentation</th>        <th class=\"col_heading level0 col6\" >calorific_value</th>        <th class=\"col_heading level0 col7\" >density</th>        <th class=\"col_heading level0 col8\" >pH</th>        <th class=\"col_heading level0 col9\" >colour</th>        <th class=\"col_heading level0 col10\" >sulphites</th>        <th class=\"col_heading level0 col11\" >rating</th>    </tr></thead><tbody>\n",
       "                <tr>\n",
       "                        <th id=\"T_bdc124a3_4dd4_11eb_b307_7085c28d1f37level0_row0\" class=\"row_heading level0 row0\" >alcohol_by_weight</th>\n",
       "                        <td id=\"T_bdc124a3_4dd4_11eb_b307_7085c28d1f37row0_col0\" class=\"data row0 col0\" >1.000000</td>\n",
       "                        <td id=\"T_bdc124a3_4dd4_11eb_b307_7085c28d1f37row0_col1\" class=\"data row0 col1\" >-0.016824</td>\n",
       "                        <td id=\"T_bdc124a3_4dd4_11eb_b307_7085c28d1f37row0_col2\" class=\"data row0 col2\" >-0.210243</td>\n",
       "                        <td id=\"T_bdc124a3_4dd4_11eb_b307_7085c28d1f37row0_col3\" class=\"data row0 col3\" >0.167979</td>\n",
       "                        <td id=\"T_bdc124a3_4dd4_11eb_b307_7085c28d1f37row0_col4\" class=\"data row0 col4\" >0.103502</td>\n",
       "                        <td id=\"T_bdc124a3_4dd4_11eb_b307_7085c28d1f37row0_col5\" class=\"data row0 col5\" >-0.219820</td>\n",
       "                        <td id=\"T_bdc124a3_4dd4_11eb_b307_7085c28d1f37row0_col6\" class=\"data row0 col6\" >-0.137138</td>\n",
       "                        <td id=\"T_bdc124a3_4dd4_11eb_b307_7085c28d1f37row0_col7\" class=\"data row0 col7\" >-0.439275</td>\n",
       "                        <td id=\"T_bdc124a3_4dd4_11eb_b307_7085c28d1f37row0_col8\" class=\"data row0 col8\" >0.164576</td>\n",
       "                        <td id=\"T_bdc124a3_4dd4_11eb_b307_7085c28d1f37row0_col9\" class=\"data row0 col9\" >0.182277</td>\n",
       "                        <td id=\"T_bdc124a3_4dd4_11eb_b307_7085c28d1f37row0_col10\" class=\"data row0 col10\" >-0.179765</td>\n",
       "                        <td id=\"T_bdc124a3_4dd4_11eb_b307_7085c28d1f37row0_col11\" class=\"data row0 col11\" >0.485269</td>\n",
       "            </tr>\n",
       "            <tr>\n",
       "                        <th id=\"T_bdc124a3_4dd4_11eb_b307_7085c28d1f37level0_row1\" class=\"row_heading level0 row1\" >bitterness</th>\n",
       "                        <td id=\"T_bdc124a3_4dd4_11eb_b307_7085c28d1f37row1_col0\" class=\"data row1 col0\" >-0.016824</td>\n",
       "                        <td id=\"T_bdc124a3_4dd4_11eb_b307_7085c28d1f37row1_col1\" class=\"data row1 col1\" >1.000000</td>\n",
       "                        <td id=\"T_bdc124a3_4dd4_11eb_b307_7085c28d1f37row1_col2\" class=\"data row1 col2\" >-0.267128</td>\n",
       "                        <td id=\"T_bdc124a3_4dd4_11eb_b307_7085c28d1f37row1_col3\" class=\"data row1 col3\" >0.714752</td>\n",
       "                        <td id=\"T_bdc124a3_4dd4_11eb_b307_7085c28d1f37row1_col4\" class=\"data row1 col4\" >0.157287</td>\n",
       "                        <td id=\"T_bdc124a3_4dd4_11eb_b307_7085c28d1f37row1_col5\" class=\"data row1 col5\" >0.097563</td>\n",
       "                        <td id=\"T_bdc124a3_4dd4_11eb_b307_7085c28d1f37row1_col6\" class=\"data row1 col6\" >-0.152302</td>\n",
       "                        <td id=\"T_bdc124a3_4dd4_11eb_b307_7085c28d1f37row1_col7\" class=\"data row1 col7\" >0.692441</td>\n",
       "                        <td id=\"T_bdc124a3_4dd4_11eb_b307_7085c28d1f37row1_col8\" class=\"data row1 col8\" >-0.696943</td>\n",
       "                        <td id=\"T_bdc124a3_4dd4_11eb_b307_7085c28d1f37row1_col9\" class=\"data row1 col9\" >0.219821</td>\n",
       "                        <td id=\"T_bdc124a3_4dd4_11eb_b307_7085c28d1f37row1_col10\" class=\"data row1 col10\" >-0.100906</td>\n",
       "                        <td id=\"T_bdc124a3_4dd4_11eb_b307_7085c28d1f37row1_col11\" class=\"data row1 col11\" >0.184049</td>\n",
       "            </tr>\n",
       "            <tr>\n",
       "                        <th id=\"T_bdc124a3_4dd4_11eb_b307_7085c28d1f37level0_row2\" class=\"row_heading level0 row2\" >nitrogen</th>\n",
       "                        <td id=\"T_bdc124a3_4dd4_11eb_b307_7085c28d1f37row2_col0\" class=\"data row2 col0\" >-0.210243</td>\n",
       "                        <td id=\"T_bdc124a3_4dd4_11eb_b307_7085c28d1f37row2_col1\" class=\"data row2 col1\" >-0.267128</td>\n",
       "                        <td id=\"T_bdc124a3_4dd4_11eb_b307_7085c28d1f37row2_col2\" class=\"data row2 col2\" >1.000000</td>\n",
       "                        <td id=\"T_bdc124a3_4dd4_11eb_b307_7085c28d1f37row2_col3\" class=\"data row2 col3\" >-0.553430</td>\n",
       "                        <td id=\"T_bdc124a3_4dd4_11eb_b307_7085c28d1f37row2_col4\" class=\"data row2 col4\" >0.014922</td>\n",
       "                        <td id=\"T_bdc124a3_4dd4_11eb_b307_7085c28d1f37row2_col5\" class=\"data row2 col5\" >0.077959</td>\n",
       "                        <td id=\"T_bdc124a3_4dd4_11eb_b307_7085c28d1f37row2_col6\" class=\"data row2 col6\" >-0.000771</td>\n",
       "                        <td id=\"T_bdc124a3_4dd4_11eb_b307_7085c28d1f37row2_col7\" class=\"data row2 col7\" >0.015526</td>\n",
       "                        <td id=\"T_bdc124a3_4dd4_11eb_b307_7085c28d1f37row2_col8\" class=\"data row2 col8\" >0.245762</td>\n",
       "                        <td id=\"T_bdc124a3_4dd4_11eb_b307_7085c28d1f37row2_col9\" class=\"data row2 col9\" >-0.321050</td>\n",
       "                        <td id=\"T_bdc124a3_4dd4_11eb_b307_7085c28d1f37row2_col10\" class=\"data row2 col10\" >0.073513</td>\n",
       "                        <td id=\"T_bdc124a3_4dd4_11eb_b307_7085c28d1f37row2_col11\" class=\"data row2 col11\" >-0.460148</td>\n",
       "            </tr>\n",
       "            <tr>\n",
       "                        <th id=\"T_bdc124a3_4dd4_11eb_b307_7085c28d1f37level0_row3\" class=\"row_heading level0 row3\" >turbidity</th>\n",
       "                        <td id=\"T_bdc124a3_4dd4_11eb_b307_7085c28d1f37row3_col0\" class=\"data row3 col0\" >0.167979</td>\n",
       "                        <td id=\"T_bdc124a3_4dd4_11eb_b307_7085c28d1f37row3_col1\" class=\"data row3 col1\" >0.714752</td>\n",
       "                        <td id=\"T_bdc124a3_4dd4_11eb_b307_7085c28d1f37row3_col2\" class=\"data row3 col2\" >-0.553430</td>\n",
       "                        <td id=\"T_bdc124a3_4dd4_11eb_b307_7085c28d1f37row3_col3\" class=\"data row3 col3\" >1.000000</td>\n",
       "                        <td id=\"T_bdc124a3_4dd4_11eb_b307_7085c28d1f37row3_col4\" class=\"data row3 col4\" >0.164361</td>\n",
       "                        <td id=\"T_bdc124a3_4dd4_11eb_b307_7085c28d1f37row3_col5\" class=\"data row3 col5\" >0.197110</td>\n",
       "                        <td id=\"T_bdc124a3_4dd4_11eb_b307_7085c28d1f37row3_col6\" class=\"data row3 col6\" >-0.047851</td>\n",
       "                        <td id=\"T_bdc124a3_4dd4_11eb_b307_7085c28d1f37row3_col7\" class=\"data row3 col7\" >0.395288</td>\n",
       "                        <td id=\"T_bdc124a3_4dd4_11eb_b307_7085c28d1f37row3_col8\" class=\"data row3 col8\" >-0.568624</td>\n",
       "                        <td id=\"T_bdc124a3_4dd4_11eb_b307_7085c28d1f37row3_col9\" class=\"data row3 col9\" >0.362208</td>\n",
       "                        <td id=\"T_bdc124a3_4dd4_11eb_b307_7085c28d1f37row3_col10\" class=\"data row3 col10\" >0.012473</td>\n",
       "                        <td id=\"T_bdc124a3_4dd4_11eb_b307_7085c28d1f37row3_col11\" class=\"data row3 col11\" >0.325147</td>\n",
       "            </tr>\n",
       "            <tr>\n",
       "                        <th id=\"T_bdc124a3_4dd4_11eb_b307_7085c28d1f37level0_row4\" class=\"row_heading level0 row4\" >sugars</th>\n",
       "                        <td id=\"T_bdc124a3_4dd4_11eb_b307_7085c28d1f37row4_col0\" class=\"data row4 col0\" >0.103502</td>\n",
       "                        <td id=\"T_bdc124a3_4dd4_11eb_b307_7085c28d1f37row4_col1\" class=\"data row4 col1\" >0.157287</td>\n",
       "                        <td id=\"T_bdc124a3_4dd4_11eb_b307_7085c28d1f37row4_col2\" class=\"data row4 col2\" >0.014922</td>\n",
       "                        <td id=\"T_bdc124a3_4dd4_11eb_b307_7085c28d1f37row4_col3\" class=\"data row4 col3\" >0.164361</td>\n",
       "                        <td id=\"T_bdc124a3_4dd4_11eb_b307_7085c28d1f37row4_col4\" class=\"data row4 col4\" >1.000000</td>\n",
       "                        <td id=\"T_bdc124a3_4dd4_11eb_b307_7085c28d1f37row4_col5\" class=\"data row4 col5\" >0.056434</td>\n",
       "                        <td id=\"T_bdc124a3_4dd4_11eb_b307_7085c28d1f37row4_col6\" class=\"data row4 col6\" >0.111773</td>\n",
       "                        <td id=\"T_bdc124a3_4dd4_11eb_b307_7085c28d1f37row4_col7\" class=\"data row4 col7\" >0.333236</td>\n",
       "                        <td id=\"T_bdc124a3_4dd4_11eb_b307_7085c28d1f37row4_col8\" class=\"data row4 col8\" >-0.126374</td>\n",
       "                        <td id=\"T_bdc124a3_4dd4_11eb_b307_7085c28d1f37row4_col9\" class=\"data row4 col9\" >0.011596</td>\n",
       "                        <td id=\"T_bdc124a3_4dd4_11eb_b307_7085c28d1f37row4_col10\" class=\"data row4 col10\" >0.157443</td>\n",
       "                        <td id=\"T_bdc124a3_4dd4_11eb_b307_7085c28d1f37row4_col11\" class=\"data row4 col11\" >0.038322</td>\n",
       "            </tr>\n",
       "            <tr>\n",
       "                        <th id=\"T_bdc124a3_4dd4_11eb_b307_7085c28d1f37level0_row5\" class=\"row_heading level0 row5\" >degree_of_fermentation</th>\n",
       "                        <td id=\"T_bdc124a3_4dd4_11eb_b307_7085c28d1f37row5_col0\" class=\"data row5 col0\" >-0.219820</td>\n",
       "                        <td id=\"T_bdc124a3_4dd4_11eb_b307_7085c28d1f37row5_col1\" class=\"data row5 col1\" >0.097563</td>\n",
       "                        <td id=\"T_bdc124a3_4dd4_11eb_b307_7085c28d1f37row5_col2\" class=\"data row5 col2\" >0.077959</td>\n",
       "                        <td id=\"T_bdc124a3_4dd4_11eb_b307_7085c28d1f37row5_col3\" class=\"data row5 col3\" >0.197110</td>\n",
       "                        <td id=\"T_bdc124a3_4dd4_11eb_b307_7085c28d1f37row5_col4\" class=\"data row5 col4\" >0.056434</td>\n",
       "                        <td id=\"T_bdc124a3_4dd4_11eb_b307_7085c28d1f37row5_col5\" class=\"data row5 col5\" >1.000000</td>\n",
       "                        <td id=\"T_bdc124a3_4dd4_11eb_b307_7085c28d1f37row5_col6\" class=\"data row5 col6\" >0.003139</td>\n",
       "                        <td id=\"T_bdc124a3_4dd4_11eb_b307_7085c28d1f37row5_col7\" class=\"data row5 col7\" >0.205604</td>\n",
       "                        <td id=\"T_bdc124a3_4dd4_11eb_b307_7085c28d1f37row5_col8\" class=\"data row5 col8\" >-0.259548</td>\n",
       "                        <td id=\"T_bdc124a3_4dd4_11eb_b307_7085c28d1f37row5_col9\" class=\"data row5 col9\" >0.327863</td>\n",
       "                        <td id=\"T_bdc124a3_4dd4_11eb_b307_7085c28d1f37row5_col10\" class=\"data row5 col10\" >0.003468</td>\n",
       "                        <td id=\"T_bdc124a3_4dd4_11eb_b307_7085c28d1f37row5_col11\" class=\"data row5 col11\" >-0.130206</td>\n",
       "            </tr>\n",
       "            <tr>\n",
       "                        <th id=\"T_bdc124a3_4dd4_11eb_b307_7085c28d1f37level0_row6\" class=\"row_heading level0 row6\" >calorific_value</th>\n",
       "                        <td id=\"T_bdc124a3_4dd4_11eb_b307_7085c28d1f37row6_col0\" class=\"data row6 col0\" >-0.137138</td>\n",
       "                        <td id=\"T_bdc124a3_4dd4_11eb_b307_7085c28d1f37row6_col1\" class=\"data row6 col1\" >-0.152302</td>\n",
       "                        <td id=\"T_bdc124a3_4dd4_11eb_b307_7085c28d1f37row6_col2\" class=\"data row6 col2\" >-0.000771</td>\n",
       "                        <td id=\"T_bdc124a3_4dd4_11eb_b307_7085c28d1f37row6_col3\" class=\"data row6 col3\" >-0.047851</td>\n",
       "                        <td id=\"T_bdc124a3_4dd4_11eb_b307_7085c28d1f37row6_col4\" class=\"data row6 col4\" >0.111773</td>\n",
       "                        <td id=\"T_bdc124a3_4dd4_11eb_b307_7085c28d1f37row6_col5\" class=\"data row6 col5\" >0.003139</td>\n",
       "                        <td id=\"T_bdc124a3_4dd4_11eb_b307_7085c28d1f37row6_col6\" class=\"data row6 col6\" >1.000000</td>\n",
       "                        <td id=\"T_bdc124a3_4dd4_11eb_b307_7085c28d1f37row6_col7\" class=\"data row6 col7\" >-0.039410</td>\n",
       "                        <td id=\"T_bdc124a3_4dd4_11eb_b307_7085c28d1f37row6_col8\" class=\"data row6 col8\" >0.009576</td>\n",
       "                        <td id=\"T_bdc124a3_4dd4_11eb_b307_7085c28d1f37row6_col9\" class=\"data row6 col9\" >-0.008716</td>\n",
       "                        <td id=\"T_bdc124a3_4dd4_11eb_b307_7085c28d1f37row6_col10\" class=\"data row6 col10\" >0.689033</td>\n",
       "                        <td id=\"T_bdc124a3_4dd4_11eb_b307_7085c28d1f37row6_col11\" class=\"data row6 col11\" >-0.082588</td>\n",
       "            </tr>\n",
       "            <tr>\n",
       "                        <th id=\"T_bdc124a3_4dd4_11eb_b307_7085c28d1f37level0_row7\" class=\"row_heading level0 row7\" >density</th>\n",
       "                        <td id=\"T_bdc124a3_4dd4_11eb_b307_7085c28d1f37row7_col0\" class=\"data row7 col0\" >-0.439275</td>\n",
       "                        <td id=\"T_bdc124a3_4dd4_11eb_b307_7085c28d1f37row7_col1\" class=\"data row7 col1\" >0.692441</td>\n",
       "                        <td id=\"T_bdc124a3_4dd4_11eb_b307_7085c28d1f37row7_col2\" class=\"data row7 col2\" >0.015526</td>\n",
       "                        <td id=\"T_bdc124a3_4dd4_11eb_b307_7085c28d1f37row7_col3\" class=\"data row7 col3\" >0.395288</td>\n",
       "                        <td id=\"T_bdc124a3_4dd4_11eb_b307_7085c28d1f37row7_col4\" class=\"data row7 col4\" >0.333236</td>\n",
       "                        <td id=\"T_bdc124a3_4dd4_11eb_b307_7085c28d1f37row7_col5\" class=\"data row7 col5\" >0.205604</td>\n",
       "                        <td id=\"T_bdc124a3_4dd4_11eb_b307_7085c28d1f37row7_col6\" class=\"data row7 col6\" >-0.039410</td>\n",
       "                        <td id=\"T_bdc124a3_4dd4_11eb_b307_7085c28d1f37row7_col7\" class=\"data row7 col7\" >1.000000</td>\n",
       "                        <td id=\"T_bdc124a3_4dd4_11eb_b307_7085c28d1f37row7_col8\" class=\"data row7 col8\" >-0.366854</td>\n",
       "                        <td id=\"T_bdc124a3_4dd4_11eb_b307_7085c28d1f37row7_col9\" class=\"data row7 col9\" >0.138441</td>\n",
       "                        <td id=\"T_bdc124a3_4dd4_11eb_b307_7085c28d1f37row7_col10\" class=\"data row7 col10\" >0.042346</td>\n",
       "                        <td id=\"T_bdc124a3_4dd4_11eb_b307_7085c28d1f37row7_col11\" class=\"data row7 col11\" >-0.133847</td>\n",
       "            </tr>\n",
       "            <tr>\n",
       "                        <th id=\"T_bdc124a3_4dd4_11eb_b307_7085c28d1f37level0_row8\" class=\"row_heading level0 row8\" >pH</th>\n",
       "                        <td id=\"T_bdc124a3_4dd4_11eb_b307_7085c28d1f37row8_col0\" class=\"data row8 col0\" >0.164576</td>\n",
       "                        <td id=\"T_bdc124a3_4dd4_11eb_b307_7085c28d1f37row8_col1\" class=\"data row8 col1\" >-0.696943</td>\n",
       "                        <td id=\"T_bdc124a3_4dd4_11eb_b307_7085c28d1f37row8_col2\" class=\"data row8 col2\" >0.245762</td>\n",
       "                        <td id=\"T_bdc124a3_4dd4_11eb_b307_7085c28d1f37row8_col3\" class=\"data row8 col3\" >-0.568624</td>\n",
       "                        <td id=\"T_bdc124a3_4dd4_11eb_b307_7085c28d1f37row8_col4\" class=\"data row8 col4\" >-0.126374</td>\n",
       "                        <td id=\"T_bdc124a3_4dd4_11eb_b307_7085c28d1f37row8_col5\" class=\"data row8 col5\" >-0.259548</td>\n",
       "                        <td id=\"T_bdc124a3_4dd4_11eb_b307_7085c28d1f37row8_col6\" class=\"data row8 col6\" >0.009576</td>\n",
       "                        <td id=\"T_bdc124a3_4dd4_11eb_b307_7085c28d1f37row8_col7\" class=\"data row8 col7\" >-0.366854</td>\n",
       "                        <td id=\"T_bdc124a3_4dd4_11eb_b307_7085c28d1f37row8_col8\" class=\"data row8 col8\" >1.000000</td>\n",
       "                        <td id=\"T_bdc124a3_4dd4_11eb_b307_7085c28d1f37row8_col9\" class=\"data row8 col9\" >-0.196386</td>\n",
       "                        <td id=\"T_bdc124a3_4dd4_11eb_b307_7085c28d1f37row8_col10\" class=\"data row8 col10\" >-0.065321</td>\n",
       "                        <td id=\"T_bdc124a3_4dd4_11eb_b307_7085c28d1f37row8_col11\" class=\"data row8 col11\" >-0.120790</td>\n",
       "            </tr>\n",
       "            <tr>\n",
       "                        <th id=\"T_bdc124a3_4dd4_11eb_b307_7085c28d1f37level0_row9\" class=\"row_heading level0 row9\" >colour</th>\n",
       "                        <td id=\"T_bdc124a3_4dd4_11eb_b307_7085c28d1f37row9_col0\" class=\"data row9 col0\" >0.182277</td>\n",
       "                        <td id=\"T_bdc124a3_4dd4_11eb_b307_7085c28d1f37row9_col1\" class=\"data row9 col1\" >0.219821</td>\n",
       "                        <td id=\"T_bdc124a3_4dd4_11eb_b307_7085c28d1f37row9_col2\" class=\"data row9 col2\" >-0.321050</td>\n",
       "                        <td id=\"T_bdc124a3_4dd4_11eb_b307_7085c28d1f37row9_col3\" class=\"data row9 col3\" >0.362208</td>\n",
       "                        <td id=\"T_bdc124a3_4dd4_11eb_b307_7085c28d1f37row9_col4\" class=\"data row9 col4\" >0.011596</td>\n",
       "                        <td id=\"T_bdc124a3_4dd4_11eb_b307_7085c28d1f37row9_col5\" class=\"data row9 col5\" >0.327863</td>\n",
       "                        <td id=\"T_bdc124a3_4dd4_11eb_b307_7085c28d1f37row9_col6\" class=\"data row9 col6\" >-0.008716</td>\n",
       "                        <td id=\"T_bdc124a3_4dd4_11eb_b307_7085c28d1f37row9_col7\" class=\"data row9 col7\" >0.138441</td>\n",
       "                        <td id=\"T_bdc124a3_4dd4_11eb_b307_7085c28d1f37row9_col8\" class=\"data row9 col8\" >-0.196386</td>\n",
       "                        <td id=\"T_bdc124a3_4dd4_11eb_b307_7085c28d1f37row9_col9\" class=\"data row9 col9\" >1.000000</td>\n",
       "                        <td id=\"T_bdc124a3_4dd4_11eb_b307_7085c28d1f37row9_col10\" class=\"data row9 col10\" >-0.000656</td>\n",
       "                        <td id=\"T_bdc124a3_4dd4_11eb_b307_7085c28d1f37row9_col11\" class=\"data row9 col11\" >0.354907</td>\n",
       "            </tr>\n",
       "            <tr>\n",
       "                        <th id=\"T_bdc124a3_4dd4_11eb_b307_7085c28d1f37level0_row10\" class=\"row_heading level0 row10\" >sulphites</th>\n",
       "                        <td id=\"T_bdc124a3_4dd4_11eb_b307_7085c28d1f37row10_col0\" class=\"data row10 col0\" >-0.179765</td>\n",
       "                        <td id=\"T_bdc124a3_4dd4_11eb_b307_7085c28d1f37row10_col1\" class=\"data row10 col1\" >-0.100906</td>\n",
       "                        <td id=\"T_bdc124a3_4dd4_11eb_b307_7085c28d1f37row10_col2\" class=\"data row10 col2\" >0.073513</td>\n",
       "                        <td id=\"T_bdc124a3_4dd4_11eb_b307_7085c28d1f37row10_col3\" class=\"data row10 col3\" >0.012473</td>\n",
       "                        <td id=\"T_bdc124a3_4dd4_11eb_b307_7085c28d1f37row10_col4\" class=\"data row10 col4\" >0.157443</td>\n",
       "                        <td id=\"T_bdc124a3_4dd4_11eb_b307_7085c28d1f37row10_col5\" class=\"data row10 col5\" >0.003468</td>\n",
       "                        <td id=\"T_bdc124a3_4dd4_11eb_b307_7085c28d1f37row10_col6\" class=\"data row10 col6\" >0.689033</td>\n",
       "                        <td id=\"T_bdc124a3_4dd4_11eb_b307_7085c28d1f37row10_col7\" class=\"data row10 col7\" >0.042346</td>\n",
       "                        <td id=\"T_bdc124a3_4dd4_11eb_b307_7085c28d1f37row10_col8\" class=\"data row10 col8\" >-0.065321</td>\n",
       "                        <td id=\"T_bdc124a3_4dd4_11eb_b307_7085c28d1f37row10_col9\" class=\"data row10 col9\" >-0.000656</td>\n",
       "                        <td id=\"T_bdc124a3_4dd4_11eb_b307_7085c28d1f37row10_col10\" class=\"data row10 col10\" >1.000000</td>\n",
       "                        <td id=\"T_bdc124a3_4dd4_11eb_b307_7085c28d1f37row10_col11\" class=\"data row10 col11\" >-0.148378</td>\n",
       "            </tr>\n",
       "            <tr>\n",
       "                        <th id=\"T_bdc124a3_4dd4_11eb_b307_7085c28d1f37level0_row11\" class=\"row_heading level0 row11\" >rating</th>\n",
       "                        <td id=\"T_bdc124a3_4dd4_11eb_b307_7085c28d1f37row11_col0\" class=\"data row11 col0\" >0.485269</td>\n",
       "                        <td id=\"T_bdc124a3_4dd4_11eb_b307_7085c28d1f37row11_col1\" class=\"data row11 col1\" >0.184049</td>\n",
       "                        <td id=\"T_bdc124a3_4dd4_11eb_b307_7085c28d1f37row11_col2\" class=\"data row11 col2\" >-0.460148</td>\n",
       "                        <td id=\"T_bdc124a3_4dd4_11eb_b307_7085c28d1f37row11_col3\" class=\"data row11 col3\" >0.325147</td>\n",
       "                        <td id=\"T_bdc124a3_4dd4_11eb_b307_7085c28d1f37row11_col4\" class=\"data row11 col4\" >0.038322</td>\n",
       "                        <td id=\"T_bdc124a3_4dd4_11eb_b307_7085c28d1f37row11_col5\" class=\"data row11 col5\" >-0.130206</td>\n",
       "                        <td id=\"T_bdc124a3_4dd4_11eb_b307_7085c28d1f37row11_col6\" class=\"data row11 col6\" >-0.082588</td>\n",
       "                        <td id=\"T_bdc124a3_4dd4_11eb_b307_7085c28d1f37row11_col7\" class=\"data row11 col7\" >-0.133847</td>\n",
       "                        <td id=\"T_bdc124a3_4dd4_11eb_b307_7085c28d1f37row11_col8\" class=\"data row11 col8\" >-0.120790</td>\n",
       "                        <td id=\"T_bdc124a3_4dd4_11eb_b307_7085c28d1f37row11_col9\" class=\"data row11 col9\" >0.354907</td>\n",
       "                        <td id=\"T_bdc124a3_4dd4_11eb_b307_7085c28d1f37row11_col10\" class=\"data row11 col10\" >-0.148378</td>\n",
       "                        <td id=\"T_bdc124a3_4dd4_11eb_b307_7085c28d1f37row11_col11\" class=\"data row11 col11\" >1.000000</td>\n",
       "            </tr>\n",
       "    </tbody></table>"
      ],
      "text/plain": [
       "<pandas.io.formats.style.Styler at 0x220e1c187c0>"
      ]
     },
     "execution_count": 30,
     "metadata": {},
     "output_type": "execute_result"
    }
   ],
   "source": [
    "df.corr().style.background_gradient(cmap = 'coolwarm')"
   ]
  },
  {
   "cell_type": "code",
   "execution_count": 31,
   "metadata": {},
   "outputs": [],
   "source": [
    "pca = make_pipeline(StandardScaler(),\n",
    "                    PCA(n_components=6, random_state=24))\n",
    "X_pca = pca.fit_transform(X_train)\n",
    "model_pca = model_lr.fit(X_pca,y_train)"
   ]
  },
  {
   "cell_type": "markdown",
   "metadata": {},
   "source": [
    "This is a decent score we can come back to and try and improve with GridSearchCV"
   ]
  },
  {
   "cell_type": "code",
   "execution_count": 32,
   "metadata": {},
   "outputs": [
    {
     "name": "stdout",
     "output_type": "stream",
     "text": [
      "{'alpha': 0.01}\n"
     ]
    }
   ],
   "source": [
    "alpha_values = {'alpha': [0.001, 0.01, 0.02, 0.03, 0.04, 0.05, 0.06, 0.07, 0.08, 1, 2, 3, 5, 8, 10, 20, 50, 100]}\n",
    "lasso= GridSearchCV(Lasso(), alpha_values, scoring = 'r2', cv = 10)\n",
    "print(lasso.fit(X_train, y_train).best_params_)"
   ]
  },
  {
   "cell_type": "code",
   "execution_count": 33,
   "metadata": {},
   "outputs": [
    {
     "data": {
      "image/png": "[encoded data removed]",
      "text/plain": [
       "<Figure size 720x432 with 1 Axes>"
      ]
     },
     "metadata": {
      "needs_background": "light"
     },
     "output_type": "display_data"
    }
   ],
   "source": [
    "# Creating an object containing the best Lasso regression model\n",
    "best_lasso_model= Lasso(alpha = 0.01)\n",
    "# Extracting the coefficient estimates for all ten features\n",
    "best_lasso_coeffs = best_lasso_model.fit(X_train, y_train).coef_\n",
    "# plotting the coefficient estimates for all ten features\n",
    "plt.figure(figsize = (10, 6))\n",
    "plt.plot(range(len(feature_names)), best_lasso_coeffs, color = 'g')\n",
    "plt.axhline(0, color = 'b', linestyle = 'solid', alpha = 0.5)\n",
    "plt.xticks(range(len(feature_names)), feature_names, rotation = 50)\n",
    "plt.title(\"Coefficient estimates from Lasso Regression\")\n",
    "plt.ylabel(\"coefficients\")\n",
    "plt.xlabel(\"features\")\n",
    "plt.show()"
   ]
  },
  {
   "cell_type": "code",
   "execution_count": 34,
   "metadata": {},
   "outputs": [
    {
     "data": {
      "text/plain": [
       "0.418401303548681"
      ]
     },
     "execution_count": 34,
     "metadata": {},
     "output_type": "execute_result"
    }
   ],
   "source": [
    "best_lasso_model.fit(X_train, y_train).score(X_train, y_train)"
   ]
  },
  {
   "cell_type": "code",
   "execution_count": 35,
   "metadata": {},
   "outputs": [
    {
     "data": {
      "text/plain": [
       "0.4155737261230982"
      ]
     },
     "execution_count": 35,
     "metadata": {},
     "output_type": "execute_result"
    }
   ],
   "source": [
    "best_lasso_model.fit(X_train, y_train).score(X_test, y_test)"
   ]
  },
  {
   "cell_type": "code",
   "execution_count": 36,
   "metadata": {},
   "outputs": [
    {
     "name": "stdout",
     "output_type": "stream",
     "text": [
      "0.8171114048703213\n",
      "0.7484810740305687\n"
     ]
    }
   ],
   "source": [
    "y_pred_test = best_lasso_model.predict(X_test)\n",
    "print(np.sqrt(mean_squared_error(y_test, y_pred_test)))\n",
    "y_pred_train = best_lasso_model.predict(X_train)\n",
    "print(np.sqrt(mean_squared_error(y_train, y_pred_train)))"
   ]
  },
  {
   "cell_type": "code",
   "execution_count": 37,
   "metadata": {},
   "outputs": [
    {
     "data": {
      "text/plain": [
       "array([ 0.33515329,  0.11083301, -0.25192164,  0.        ,  0.03780094,\n",
       "       -0.09210249, -0.        , -0.07333668, -0.02005348,  0.20567542,\n",
       "       -0.05124948])"
      ]
     },
     "execution_count": 37,
     "metadata": {},
     "output_type": "execute_result"
    }
   ],
   "source": [
    "best_lasso_coeffs"
   ]
  },
  {
   "cell_type": "code",
   "execution_count": 38,
   "metadata": {},
   "outputs": [
    {
     "data": {
      "text/plain": [
       "0.3500920075425238"
      ]
     },
     "execution_count": 38,
     "metadata": {},
     "output_type": "execute_result"
    }
   ],
   "source": [
    "cross_val_score(lasso, X_test, y_test, cv = 10).mean()"
   ]
  },
  {
   "cell_type": "markdown",
   "metadata": {},
   "source": [
    "### 3. Regression Tree"
   ]
  },
  {
   "cell_type": "code",
   "execution_count": 39,
   "metadata": {},
   "outputs": [
    {
     "data": {
      "text/plain": [
       "0.16802720036028784"
      ]
     },
     "execution_count": 39,
     "metadata": {},
     "output_type": "execute_result"
    }
   ],
   "source": [
    "dt = DecisionTreeRegressor()\n",
    "dt.fit(X_train, y_train)\n",
    "dt.score(X_test, y_test) # R^2"
   ]
  },
  {
   "cell_type": "code",
   "execution_count": 40,
   "metadata": {},
   "outputs": [],
   "source": [
    "param_dict = {\n",
    "    \"criterion\": [\"mse\", \"mae\", \"r2\"],\n",
    "    \"min_samples_split\": range(2, 11),\n",
    "    \"max_depth\": range(1, 10),\n",
    "    \"min_samples_split\": range(2, 11),\n",
    "    \"min_samples_leaf\": range(1, 10)\n",
    "}"
   ]
  },
  {
   "cell_type": "code",
   "execution_count": 41,
   "metadata": {},
   "outputs": [],
   "source": [
    "grid = GridSearchCV(dt,\n",
    "                   param_grid = param_dict,\n",
    "                   cv = 10,\n",
    "                   n_jobs = -1)"
   ]
  },
  {
   "cell_type": "code",
   "execution_count": 42,
   "metadata": {},
   "outputs": [],
   "source": [
    "dt_model = grid.fit(X_train, y_train)"
   ]
  },
  {
   "cell_type": "code",
   "execution_count": 43,
   "metadata": {},
   "outputs": [
    {
     "data": {
      "text/plain": [
       "{'criterion': 'mse',\n",
       " 'max_depth': 3,\n",
       " 'min_samples_leaf': 9,\n",
       " 'min_samples_split': 2}"
      ]
     },
     "execution_count": 43,
     "metadata": {},
     "output_type": "execute_result"
    }
   ],
   "source": [
    "grid.best_params_"
   ]
  },
  {
   "cell_type": "code",
   "execution_count": 44,
   "metadata": {},
   "outputs": [
    {
     "data": {
      "text/plain": [
       "DecisionTreeRegressor(max_depth=3, min_samples_leaf=9)"
      ]
     },
     "execution_count": 44,
     "metadata": {},
     "output_type": "execute_result"
    }
   ],
   "source": [
    "grid.best_estimator_"
   ]
  },
  {
   "cell_type": "code",
   "execution_count": 45,
   "metadata": {},
   "outputs": [
    {
     "data": {
      "text/plain": [
       "0.44884828266143584"
      ]
     },
     "execution_count": 45,
     "metadata": {},
     "output_type": "execute_result"
    }
   ],
   "source": [
    "grid.score(X_train, y_train)"
   ]
  },
  {
   "cell_type": "code",
   "execution_count": 46,
   "metadata": {},
   "outputs": [
    {
     "data": {
      "text/plain": [
       "0.428420925384442"
      ]
     },
     "execution_count": 46,
     "metadata": {},
     "output_type": "execute_result"
    }
   ],
   "source": [
    "grid.score(X_test, y_test)"
   ]
  },
  {
   "cell_type": "code",
   "execution_count": 47,
   "metadata": {},
   "outputs": [
    {
     "name": "stdout",
     "output_type": "stream",
     "text": [
      "Training Score: 44.88%, Test Score: 42.84%\n"
     ]
    }
   ],
   "source": [
    "dt = DecisionTreeRegressor(criterion = 'mse',\n",
    "                           max_depth = 3,\n",
    "                           min_samples_leaf = 9,\n",
    "                           min_samples_split = 4)\n",
    "dt.fit(X_train, y_train)\n",
    "print(f'Training Score: {(round(100 * dt.score(X_train, y_train), 2))}%, Test Score: {round(100 * dt.score(X_test, y_test), 2)}%')"
   ]
  },
  {
   "cell_type": "code",
   "execution_count": 48,
   "metadata": {},
   "outputs": [],
   "source": [
    "pred_train_dt = cross_val_predict(dt, X_train, y_train, cv = 10)"
   ]
  },
  {
   "cell_type": "code",
   "execution_count": 49,
   "metadata": {},
   "outputs": [],
   "source": [
    "pred_test_dt = cross_val_predict(dt, X_test, y_test, cv = 10)"
   ]
  },
  {
   "cell_type": "code",
   "execution_count": 50,
   "metadata": {},
   "outputs": [
    {
     "data": {
      "text/plain": [
       "0.34634402259575214"
      ]
     },
     "execution_count": 50,
     "metadata": {},
     "output_type": "execute_result"
    }
   ],
   "source": [
    "metrics.r2_score(y_train, pred_train_dt)"
   ]
  },
  {
   "cell_type": "code",
   "execution_count": 51,
   "metadata": {},
   "outputs": [
    {
     "data": {
      "text/plain": [
       "0.17689751446957724"
      ]
     },
     "execution_count": 51,
     "metadata": {},
     "output_type": "execute_result"
    }
   ],
   "source": [
    "metrics.r2_score(y_test, pred_test_dt)"
   ]
  },
  {
   "cell_type": "code",
   "execution_count": 52,
   "metadata": {},
   "outputs": [
    {
     "data": {
      "image/svg+xml": [
       "<?xml version=\"1.0\" encoding=\"UTF-8\" standalone=\"no\"?>\r\n",
       "<!DOCTYPE svg PUBLIC \"-//W3C//DTD SVG 1.1//EN\"\r\n",
       " \"http://www.w3.org/Graphics/SVG/1.1/DTD/svg11.dtd\">\r\n",
       "<!-- Generated by graphviz version 2.38.0 (20140413.2041)\r\n",
       " -->\r\n",
       "<!-- Title: Tree Pages: 1 -->\r\n",
       "<svg width=\"894pt\" height=\"373pt\"\r\n",
       " viewBox=\"0.00 0.00 894.00 373.00\" xmlns=\"http://www.w3.org/2000/svg\" xmlns:xlink=\"http://www.w3.org/1999/xlink\">\r\n",
       "<g id=\"graph0\" class=\"graph\" transform=\"scale(1 1) rotate(0) translate(4 369)\">\r\n",
       "<title>Tree</title>\r\n",
       "<polygon fill=\"white\" stroke=\"none\" points=\"-4,4 -4,-369 890,-369 890,4 -4,4\"/>\r\n",
       "<!-- 0 -->\r\n",
       "<g id=\"node1\" class=\"node\"><title>0</title>\r\n",
       "<polygon fill=\"#f4c8a8\" stroke=\"black\" points=\"487,-365 375,-365 375,-297 487,-297 487,-365\"/>\r\n",
       "<text text-anchor=\"middle\" x=\"431\" y=\"-349.8\" font-family=\"Times New Roman,serif\" font-size=\"14.00\">colour &lt;= &#45;0.064</text>\r\n",
       "<text text-anchor=\"middle\" x=\"431\" y=\"-334.8\" font-family=\"Times New Roman,serif\" font-size=\"14.00\">mse = 0.963</text>\r\n",
       "<text text-anchor=\"middle\" x=\"431\" y=\"-319.8\" font-family=\"Times New Roman,serif\" font-size=\"14.00\">samples = 748</text>\r\n",
       "<text text-anchor=\"middle\" x=\"431\" y=\"-304.8\" font-family=\"Times New Roman,serif\" font-size=\"14.00\">value = 0.014</text>\r\n",
       "</g>\r\n",
       "<!-- 1 -->\r\n",
       "<g id=\"node2\" class=\"node\"><title>1</title>\r\n",
       "<polygon fill=\"#f8decb\" stroke=\"black\" points=\"420.5,-261 243.5,-261 243.5,-193 420.5,-193 420.5,-261\"/>\r\n",
       "<text text-anchor=\"middle\" x=\"332\" y=\"-245.8\" font-family=\"Times New Roman,serif\" font-size=\"14.00\">alcohol_by_weight &lt;= 1.027</text>\r\n",
       "<text text-anchor=\"middle\" x=\"332\" y=\"-230.8\" font-family=\"Times New Roman,serif\" font-size=\"14.00\">mse = 0.654</text>\r\n",
       "<text text-anchor=\"middle\" x=\"332\" y=\"-215.8\" font-family=\"Times New Roman,serif\" font-size=\"14.00\">samples = 435</text>\r\n",
       "<text text-anchor=\"middle\" x=\"332\" y=\"-200.8\" font-family=\"Times New Roman,serif\" font-size=\"14.00\">value = &#45;0.373</text>\r\n",
       "</g>\r\n",
       "<!-- 0&#45;&gt;1 -->\r\n",
       "<g id=\"edge1\" class=\"edge\"><title>0&#45;&gt;1</title>\r\n",
       "<path fill=\"none\" stroke=\"black\" d=\"M398.858,-296.884C390.126,-287.887 380.569,-278.041 371.482,-268.678\"/>\r\n",
       "<polygon fill=\"black\" stroke=\"black\" points=\"373.796,-266.038 364.32,-261.299 368.773,-270.913 373.796,-266.038\"/>\r\n",
       "<text text-anchor=\"middle\" x=\"363.947\" y=\"-282.597\" font-family=\"Times New Roman,serif\" font-size=\"14.00\">True</text>\r\n",
       "</g>\r\n",
       "<!-- 8 -->\r\n",
       "<g id=\"node9\" class=\"node\"><title>8</title>\r\n",
       "<polygon fill=\"#eda877\" stroke=\"black\" points=\"621,-261 439,-261 439,-193 621,-193 621,-261\"/>\r\n",
       "<text text-anchor=\"middle\" x=\"530\" y=\"-245.8\" font-family=\"Times New Roman,serif\" font-size=\"14.00\">alcohol_by_weight &lt;= &#45;0.068</text>\r\n",
       "<text text-anchor=\"middle\" x=\"530\" y=\"-230.8\" font-family=\"Times New Roman,serif\" font-size=\"14.00\">mse = 0.896</text>\r\n",
       "<text text-anchor=\"middle\" x=\"530\" y=\"-215.8\" font-family=\"Times New Roman,serif\" font-size=\"14.00\">samples = 313</text>\r\n",
       "<text text-anchor=\"middle\" x=\"530\" y=\"-200.8\" font-family=\"Times New Roman,serif\" font-size=\"14.00\">value = 0.552</text>\r\n",
       "</g>\r\n",
       "<!-- 0&#45;&gt;8 -->\r\n",
       "<g id=\"edge8\" class=\"edge\"><title>0&#45;&gt;8</title>\r\n",
       "<path fill=\"none\" stroke=\"black\" d=\"M463.142,-296.884C471.874,-287.887 481.431,-278.041 490.518,-268.678\"/>\r\n",
       "<polygon fill=\"black\" stroke=\"black\" points=\"493.227,-270.913 497.68,-261.299 488.204,-266.038 493.227,-270.913\"/>\r\n",
       "<text text-anchor=\"middle\" x=\"498.053\" y=\"-282.597\" font-family=\"Times New Roman,serif\" font-size=\"14.00\">False</text>\r\n",
       "</g>\r\n",
       "<!-- 2 -->\r\n",
       "<g id=\"node3\" class=\"node\"><title>2</title>\r\n",
       "<polygon fill=\"#f9e4d4\" stroke=\"black\" points=\"222,-157 106,-157 106,-89 222,-89 222,-157\"/>\r\n",
       "<text text-anchor=\"middle\" x=\"164\" y=\"-141.8\" font-family=\"Times New Roman,serif\" font-size=\"14.00\">nitrogen &lt;= 1.151</text>\r\n",
       "<text text-anchor=\"middle\" x=\"164\" y=\"-126.8\" font-family=\"Times New Roman,serif\" font-size=\"14.00\">mse = 0.506</text>\r\n",
       "<text text-anchor=\"middle\" x=\"164\" y=\"-111.8\" font-family=\"Times New Roman,serif\" font-size=\"14.00\">samples = 392</text>\r\n",
       "<text text-anchor=\"middle\" x=\"164\" y=\"-96.8\" font-family=\"Times New Roman,serif\" font-size=\"14.00\">value = &#45;0.477</text>\r\n",
       "</g>\r\n",
       "<!-- 1&#45;&gt;2 -->\r\n",
       "<g id=\"edge2\" class=\"edge\"><title>1&#45;&gt;2</title>\r\n",
       "<path fill=\"none\" stroke=\"black\" d=\"M277.455,-192.884C261.53,-183.214 243.987,-172.563 227.555,-162.587\"/>\r\n",
       "<polygon fill=\"black\" stroke=\"black\" points=\"228.923,-159.323 218.558,-157.125 225.29,-165.306 228.923,-159.323\"/>\r\n",
       "</g>\r\n",
       "<!-- 5 -->\r\n",
       "<g id=\"node6\" class=\"node\"><title>5</title>\r\n",
       "<polygon fill=\"#eda775\" stroke=\"black\" points=\"392.5,-157 271.5,-157 271.5,-89 392.5,-89 392.5,-157\"/>\r\n",
       "<text text-anchor=\"middle\" x=\"332\" y=\"-141.8\" font-family=\"Times New Roman,serif\" font-size=\"14.00\">nitrogen &lt;= &#45;0.154</text>\r\n",
       "<text text-anchor=\"middle\" x=\"332\" y=\"-126.8\" font-family=\"Times New Roman,serif\" font-size=\"14.00\">mse = 0.996</text>\r\n",
       "<text text-anchor=\"middle\" x=\"332\" y=\"-111.8\" font-family=\"Times New Roman,serif\" font-size=\"14.00\">samples = 43</text>\r\n",
       "<text text-anchor=\"middle\" x=\"332\" y=\"-96.8\" font-family=\"Times New Roman,serif\" font-size=\"14.00\">value = 0.577</text>\r\n",
       "</g>\r\n",
       "<!-- 1&#45;&gt;5 -->\r\n",
       "<g id=\"edge5\" class=\"edge\"><title>1&#45;&gt;5</title>\r\n",
       "<path fill=\"none\" stroke=\"black\" d=\"M332,-192.884C332,-184.778 332,-175.982 332,-167.472\"/>\r\n",
       "<polygon fill=\"black\" stroke=\"black\" points=\"335.5,-167.299 332,-157.299 328.5,-167.299 335.5,-167.299\"/>\r\n",
       "</g>\r\n",
       "<!-- 3 -->\r\n",
       "<g id=\"node4\" class=\"node\"><title>3</title>\r\n",
       "<polygon fill=\"#f8dfcc\" stroke=\"black\" points=\"98,-53 0,-53 0,-0 98,-0 98,-53\"/>\r\n",
       "<text text-anchor=\"middle\" x=\"49\" y=\"-37.8\" font-family=\"Times New Roman,serif\" font-size=\"14.00\">mse = 0.434</text>\r\n",
       "<text text-anchor=\"middle\" x=\"49\" y=\"-22.8\" font-family=\"Times New Roman,serif\" font-size=\"14.00\">samples = 329</text>\r\n",
       "<text text-anchor=\"middle\" x=\"49\" y=\"-7.8\" font-family=\"Times New Roman,serif\" font-size=\"14.00\">value = &#45;0.388</text>\r\n",
       "</g>\r\n",
       "<!-- 2&#45;&gt;3 -->\r\n",
       "<g id=\"edge3\" class=\"edge\"><title>2&#45;&gt;3</title>\r\n",
       "<path fill=\"none\" stroke=\"black\" d=\"M123.779,-88.9485C112.201,-79.4346 99.5927,-69.074 88.0848,-59.6175\"/>\r\n",
       "<polygon fill=\"black\" stroke=\"black\" points=\"90.268,-56.8814 80.3198,-53.2367 85.8238,-62.2897 90.268,-56.8814\"/>\r\n",
       "</g>\r\n",
       "<!-- 4 -->\r\n",
       "<g id=\"node5\" class=\"node\"><title>4</title>\r\n",
       "<polygon fill=\"#ffffff\" stroke=\"black\" points=\"212,-53 116,-53 116,-0 212,-0 212,-53\"/>\r\n",
       "<text text-anchor=\"middle\" x=\"164\" y=\"-37.8\" font-family=\"Times New Roman,serif\" font-size=\"14.00\">mse = 0.624</text>\r\n",
       "<text text-anchor=\"middle\" x=\"164\" y=\"-22.8\" font-family=\"Times New Roman,serif\" font-size=\"14.00\">samples = 63</text>\r\n",
       "<text text-anchor=\"middle\" x=\"164\" y=\"-7.8\" font-family=\"Times New Roman,serif\" font-size=\"14.00\">value = &#45;0.946</text>\r\n",
       "</g>\r\n",
       "<!-- 2&#45;&gt;4 -->\r\n",
       "<g id=\"edge4\" class=\"edge\"><title>2&#45;&gt;4</title>\r\n",
       "<path fill=\"none\" stroke=\"black\" d=\"M164,-88.9485C164,-80.7153 164,-71.848 164,-63.4814\"/>\r\n",
       "<polygon fill=\"black\" stroke=\"black\" points=\"167.5,-63.2367 164,-53.2367 160.5,-63.2367 167.5,-63.2367\"/>\r\n",
       "</g>\r\n",
       "<!-- 6 -->\r\n",
       "<g id=\"node7\" class=\"node\"><title>6</title>\r\n",
       "<polygon fill=\"#e68641\" stroke=\"black\" points=\"322,-53 230,-53 230,-0 322,-0 322,-53\"/>\r\n",
       "<text text-anchor=\"middle\" x=\"276\" y=\"-37.8\" font-family=\"Times New Roman,serif\" font-size=\"14.00\">mse = 0.381</text>\r\n",
       "<text text-anchor=\"middle\" x=\"276\" y=\"-22.8\" font-family=\"Times New Roman,serif\" font-size=\"14.00\">samples = 24</text>\r\n",
       "<text text-anchor=\"middle\" x=\"276\" y=\"-7.8\" font-family=\"Times New Roman,serif\" font-size=\"14.00\">value = 1.146</text>\r\n",
       "</g>\r\n",
       "<!-- 5&#45;&gt;6 -->\r\n",
       "<g id=\"edge6\" class=\"edge\"><title>5&#45;&gt;6</title>\r\n",
       "<path fill=\"none\" stroke=\"black\" d=\"M312.414,-88.9485C307.264,-80.2579 301.695,-70.8608 296.499,-62.0917\"/>\r\n",
       "<polygon fill=\"black\" stroke=\"black\" points=\"299.36,-60.0553 291.251,-53.2367 293.338,-63.624 299.36,-60.0553\"/>\r\n",
       "</g>\r\n",
       "<!-- 7 -->\r\n",
       "<g id=\"node8\" class=\"node\"><title>7</title>\r\n",
       "<polygon fill=\"#f5d1b6\" stroke=\"black\" points=\"436,-53 340,-53 340,-0 436,-0 436,-53\"/>\r\n",
       "<text text-anchor=\"middle\" x=\"388\" y=\"-37.8\" font-family=\"Times New Roman,serif\" font-size=\"14.00\">mse = 0.845</text>\r\n",
       "<text text-anchor=\"middle\" x=\"388\" y=\"-22.8\" font-family=\"Times New Roman,serif\" font-size=\"14.00\">samples = 19</text>\r\n",
       "<text text-anchor=\"middle\" x=\"388\" y=\"-7.8\" font-family=\"Times New Roman,serif\" font-size=\"14.00\">value = &#45;0.142</text>\r\n",
       "</g>\r\n",
       "<!-- 5&#45;&gt;7 -->\r\n",
       "<g id=\"edge7\" class=\"edge\"><title>5&#45;&gt;7</title>\r\n",
       "<path fill=\"none\" stroke=\"black\" d=\"M351.586,-88.9485C356.736,-80.2579 362.305,-70.8608 367.501,-62.0917\"/>\r\n",
       "<polygon fill=\"black\" stroke=\"black\" points=\"370.662,-63.624 372.749,-53.2367 364.64,-60.0553 370.662,-63.624\"/>\r\n",
       "</g>\r\n",
       "<!-- 9 -->\r\n",
       "<g id=\"node10\" class=\"node\"><title>9</title>\r\n",
       "<polygon fill=\"#f4c7a8\" stroke=\"black\" points=\"590.5,-157 469.5,-157 469.5,-89 590.5,-89 590.5,-157\"/>\r\n",
       "<text text-anchor=\"middle\" x=\"530\" y=\"-141.8\" font-family=\"Times New Roman,serif\" font-size=\"14.00\">nitrogen &lt;= &#45;0.593</text>\r\n",
       "<text text-anchor=\"middle\" x=\"530\" y=\"-126.8\" font-family=\"Times New Roman,serif\" font-size=\"14.00\">mse = 0.676</text>\r\n",
       "<text text-anchor=\"middle\" x=\"530\" y=\"-111.8\" font-family=\"Times New Roman,serif\" font-size=\"14.00\">samples = 128</text>\r\n",
       "<text text-anchor=\"middle\" x=\"530\" y=\"-96.8\" font-family=\"Times New Roman,serif\" font-size=\"14.00\">value = 0.017</text>\r\n",
       "</g>\r\n",
       "<!-- 8&#45;&gt;9 -->\r\n",
       "<g id=\"edge9\" class=\"edge\"><title>8&#45;&gt;9</title>\r\n",
       "<path fill=\"none\" stroke=\"black\" d=\"M530,-192.884C530,-184.778 530,-175.982 530,-167.472\"/>\r\n",
       "<polygon fill=\"black\" stroke=\"black\" points=\"533.5,-167.299 530,-157.299 526.5,-167.299 533.5,-167.299\"/>\r\n",
       "</g>\r\n",
       "<!-- 12 -->\r\n",
       "<g id=\"node13\" class=\"node\"><title>12</title>\r\n",
       "<polygon fill=\"#e99355\" stroke=\"black\" points=\"815.5,-157 638.5,-157 638.5,-89 815.5,-89 815.5,-157\"/>\r\n",
       "<text text-anchor=\"middle\" x=\"727\" y=\"-141.8\" font-family=\"Times New Roman,serif\" font-size=\"14.00\">alcohol_by_weight &lt;= 1.027</text>\r\n",
       "<text text-anchor=\"middle\" x=\"727\" y=\"-126.8\" font-family=\"Times New Roman,serif\" font-size=\"14.00\">mse = 0.714</text>\r\n",
       "<text text-anchor=\"middle\" x=\"727\" y=\"-111.8\" font-family=\"Times New Roman,serif\" font-size=\"14.00\">samples = 185</text>\r\n",
       "<text text-anchor=\"middle\" x=\"727\" y=\"-96.8\" font-family=\"Times New Roman,serif\" font-size=\"14.00\">value = 0.922</text>\r\n",
       "</g>\r\n",
       "<!-- 8&#45;&gt;12 -->\r\n",
       "<g id=\"edge12\" class=\"edge\"><title>8&#45;&gt;12</title>\r\n",
       "<path fill=\"none\" stroke=\"black\" d=\"M593.96,-192.884C613.154,-182.946 634.35,-171.971 654.076,-161.757\"/>\r\n",
       "<polygon fill=\"black\" stroke=\"black\" points=\"655.753,-164.831 663.024,-157.125 652.534,-158.615 655.753,-164.831\"/>\r\n",
       "</g>\r\n",
       "<!-- 10 -->\r\n",
       "<g id=\"node11\" class=\"node\"><title>10</title>\r\n",
       "<polygon fill=\"#efb184\" stroke=\"black\" points=\"546,-53 454,-53 454,-0 546,-0 546,-53\"/>\r\n",
       "<text text-anchor=\"middle\" x=\"500\" y=\"-37.8\" font-family=\"Times New Roman,serif\" font-size=\"14.00\">mse = 0.505</text>\r\n",
       "<text text-anchor=\"middle\" x=\"500\" y=\"-22.8\" font-family=\"Times New Roman,serif\" font-size=\"14.00\">samples = 53</text>\r\n",
       "<text text-anchor=\"middle\" x=\"500\" y=\"-7.8\" font-family=\"Times New Roman,serif\" font-size=\"14.00\">value = 0.411</text>\r\n",
       "</g>\r\n",
       "<!-- 9&#45;&gt;10 -->\r\n",
       "<g id=\"edge10\" class=\"edge\"><title>9&#45;&gt;10</title>\r\n",
       "<path fill=\"none\" stroke=\"black\" d=\"M519.507,-88.9485C516.836,-80.5323 513.954,-71.4536 511.246,-62.9243\"/>\r\n",
       "<polygon fill=\"black\" stroke=\"black\" points=\"514.532,-61.7089 508.17,-53.2367 507.86,-63.827 514.532,-61.7089\"/>\r\n",
       "</g>\r\n",
       "<!-- 11 -->\r\n",
       "<g id=\"node12\" class=\"node\"><title>11</title>\r\n",
       "<polygon fill=\"#f7d7c1\" stroke=\"black\" points=\"660,-53 564,-53 564,-0 660,-0 660,-53\"/>\r\n",
       "<text text-anchor=\"middle\" x=\"612\" y=\"-37.8\" font-family=\"Times New Roman,serif\" font-size=\"14.00\">mse = 0.61</text>\r\n",
       "<text text-anchor=\"middle\" x=\"612\" y=\"-22.8\" font-family=\"Times New Roman,serif\" font-size=\"14.00\">samples = 75</text>\r\n",
       "<text text-anchor=\"middle\" x=\"612\" y=\"-7.8\" font-family=\"Times New Roman,serif\" font-size=\"14.00\">value = &#45;0.262</text>\r\n",
       "</g>\r\n",
       "<!-- 9&#45;&gt;11 -->\r\n",
       "<g id=\"edge11\" class=\"edge\"><title>9&#45;&gt;11</title>\r\n",
       "<path fill=\"none\" stroke=\"black\" d=\"M558.68,-88.9485C566.538,-79.892 575.062,-70.0682 582.942,-60.9875\"/>\r\n",
       "<polygon fill=\"black\" stroke=\"black\" points=\"585.757,-63.0835 589.668,-53.2367 580.47,-58.4958 585.757,-63.0835\"/>\r\n",
       "</g>\r\n",
       "<!-- 13 -->\r\n",
       "<g id=\"node14\" class=\"node\"><title>13</title>\r\n",
       "<polygon fill=\"#eca26c\" stroke=\"black\" points=\"776,-53 678,-53 678,-0 776,-0 776,-53\"/>\r\n",
       "<text text-anchor=\"middle\" x=\"727\" y=\"-37.8\" font-family=\"Times New Roman,serif\" font-size=\"14.00\">mse = 0.79</text>\r\n",
       "<text text-anchor=\"middle\" x=\"727\" y=\"-22.8\" font-family=\"Times New Roman,serif\" font-size=\"14.00\">samples = 102</text>\r\n",
       "<text text-anchor=\"middle\" x=\"727\" y=\"-7.8\" font-family=\"Times New Roman,serif\" font-size=\"14.00\">value = 0.668</text>\r\n",
       "</g>\r\n",
       "<!-- 12&#45;&gt;13 -->\r\n",
       "<g id=\"edge13\" class=\"edge\"><title>12&#45;&gt;13</title>\r\n",
       "<path fill=\"none\" stroke=\"black\" d=\"M727,-88.9485C727,-80.7153 727,-71.848 727,-63.4814\"/>\r\n",
       "<polygon fill=\"black\" stroke=\"black\" points=\"730.5,-63.2367 727,-53.2367 723.5,-63.2367 730.5,-63.2367\"/>\r\n",
       "</g>\r\n",
       "<!-- 14 -->\r\n",
       "<g id=\"node15\" class=\"node\"><title>14</title>\r\n",
       "<polygon fill=\"#e58139\" stroke=\"black\" points=\"886,-53 794,-53 794,-0 886,-0 886,-53\"/>\r\n",
       "<text text-anchor=\"middle\" x=\"840\" y=\"-37.8\" font-family=\"Times New Roman,serif\" font-size=\"14.00\">mse = 0.444</text>\r\n",
       "<text text-anchor=\"middle\" x=\"840\" y=\"-22.8\" font-family=\"Times New Roman,serif\" font-size=\"14.00\">samples = 83</text>\r\n",
       "<text text-anchor=\"middle\" x=\"840\" y=\"-7.8\" font-family=\"Times New Roman,serif\" font-size=\"14.00\">value = 1.233</text>\r\n",
       "</g>\r\n",
       "<!-- 12&#45;&gt;14 -->\r\n",
       "<g id=\"edge14\" class=\"edge\"><title>12&#45;&gt;14</title>\r\n",
       "<path fill=\"none\" stroke=\"black\" d=\"M766.522,-88.9485C777.789,-79.526 790.049,-69.2731 801.268,-59.8906\"/>\r\n",
       "<polygon fill=\"black\" stroke=\"black\" points=\"803.799,-62.3368 809.225,-53.2367 799.308,-56.967 803.799,-62.3368\"/>\r\n",
       "</g>\r\n",
       "</g>\r\n",
       "</svg>\r\n"
      ],
      "text/plain": [
       "<graphviz.files.Source at 0x220e4008c10>"
      ]
     },
     "execution_count": 52,
     "metadata": {},
     "output_type": "execute_result"
    }
   ],
   "source": [
    "dot_data = tree.export_graphviz(dt, feature_names = list(X), \n",
    "                                class_names = sorted(y.unique()), filled = True)\n",
    "graphviz.Source(dot_data)"
   ]
  },
  {
   "cell_type": "markdown",
   "metadata": {},
   "source": [
    "### 3. SVM"
   ]
  },
  {
   "cell_type": "code",
   "execution_count": 53,
   "metadata": {},
   "outputs": [
    {
     "data": {
      "text/plain": [
       "SVR(C=1.5, epsilon=0.5, gamma=1e-07, kernel='linear')"
      ]
     },
     "execution_count": 53,
     "metadata": {},
     "output_type": "execute_result"
    }
   ],
   "source": [
    "from sklearn.svm import SVR\n",
    "regressor = SVR(kernel = 'linear', C = 1.5, gamma = 1e-07, epsilon = 0.5)\n",
    "regressor.fit(X_train, y_train)"
   ]
  },
  {
   "cell_type": "code",
   "execution_count": 54,
   "metadata": {},
   "outputs": [
    {
     "data": {
      "text/plain": [
       "0.40252785643126154"
      ]
     },
     "execution_count": 54,
     "metadata": {},
     "output_type": "execute_result"
    }
   ],
   "source": [
    "regressor.score(X_test, y_test)"
   ]
  },
  {
   "cell_type": "code",
   "execution_count": 55,
   "metadata": {},
   "outputs": [
    {
     "data": {
      "text/plain": [
       "0.41828850406839446"
      ]
     },
     "execution_count": 55,
     "metadata": {},
     "output_type": "execute_result"
    }
   ],
   "source": [
    "parameters = {'kernel': ('linear', 'rbf','poly'), 'C':[1.5, 10],'gamma': [1e-7, 1e-4],'epsilon':[0.1,0.2,0.5,0.3]}\n",
    "clf = GridSearchCV(regressor, parameters)\n",
    "model_svm = clf.fit(X_train, y_train)\n",
    "clf.score(X_train, y_train)"
   ]
  },
  {
   "cell_type": "code",
   "execution_count": 56,
   "metadata": {},
   "outputs": [
    {
     "data": {
      "text/plain": [
       "SVR(C=1.5, epsilon=0.5, gamma=1e-07, kernel='linear')"
      ]
     },
     "execution_count": 56,
     "metadata": {},
     "output_type": "execute_result"
    }
   ],
   "source": [
    "clf.best_estimator_"
   ]
  },
  {
   "cell_type": "code",
   "execution_count": 57,
   "metadata": {},
   "outputs": [],
   "source": [
    "svr = SVR(C=1.5, epsilon=0.5, gamma=1e-07, kernel='linear')"
   ]
  },
  {
   "cell_type": "code",
   "execution_count": 58,
   "metadata": {},
   "outputs": [],
   "source": [
    "svr = svr.fit(X_train, y_train)"
   ]
  },
  {
   "cell_type": "code",
   "execution_count": 59,
   "metadata": {},
   "outputs": [],
   "source": [
    "pred_train_svr = cross_val_predict(svr, X_train, y_train, cv = 10)"
   ]
  },
  {
   "cell_type": "code",
   "execution_count": 60,
   "metadata": {},
   "outputs": [],
   "source": [
    "pred_test_svr = cross_val_predict(svr, X_test, y_test, cv = 10)"
   ]
  },
  {
   "cell_type": "code",
   "execution_count": 61,
   "metadata": {},
   "outputs": [
    {
     "data": {
      "text/plain": [
       "0.3912578631934581"
      ]
     },
     "execution_count": 61,
     "metadata": {},
     "output_type": "execute_result"
    }
   ],
   "source": [
    "metrics.r2_score(y_train, pred_train_svr)"
   ]
  },
  {
   "cell_type": "code",
   "execution_count": 62,
   "metadata": {},
   "outputs": [
    {
     "data": {
      "text/plain": [
       "0.3344683162445875"
      ]
     },
     "execution_count": 62,
     "metadata": {},
     "output_type": "execute_result"
    }
   ],
   "source": [
    "metrics.r2_score(y_test, pred_test_svr)"
   ]
  },
  {
   "cell_type": "markdown",
   "metadata": {},
   "source": [
    "### 4. KNN"
   ]
  },
  {
   "cell_type": "code",
   "execution_count": 63,
   "metadata": {},
   "outputs": [],
   "source": [
    "params = {\n",
    "    'algorithm': ['auto', 'ball_tree', 'kd_tree', 'brute'],\n",
    "    'n_neighbors' : range(1, 100),\n",
    "    'weights': ['uniform', 'distance'],\n",
    "    'metric': ['euclidian', 'manhattan', 'minkowski'],\n",
    "    'p': [1, 2]\n",
    "}"
   ]
  },
  {
   "cell_type": "code",
   "execution_count": 64,
   "metadata": {},
   "outputs": [],
   "source": [
    "from sklearn.neighbors import KNeighborsRegressor\n",
    "gs = GridSearchCV(\n",
    "    KNeighborsRegressor(),\n",
    "    params,\n",
    "    cv = 10,\n",
    "    n_jobs = -1\n",
    ")"
   ]
  },
  {
   "cell_type": "code",
   "execution_count": 65,
   "metadata": {},
   "outputs": [],
   "source": [
    "grid = gs.fit(X_train, y_train)"
   ]
  },
  {
   "cell_type": "code",
   "execution_count": 66,
   "metadata": {},
   "outputs": [
    {
     "data": {
      "text/plain": [
       "GridSearchCV(cv=10, estimator=KNeighborsRegressor(), n_jobs=-1,\n",
       "             param_grid={'algorithm': ['auto', 'ball_tree', 'kd_tree', 'brute'],\n",
       "                         'metric': ['euclidian', 'manhattan', 'minkowski'],\n",
       "                         'n_neighbors': range(1, 100), 'p': [1, 2],\n",
       "                         'weights': ['uniform', 'distance']})"
      ]
     },
     "execution_count": 66,
     "metadata": {},
     "output_type": "execute_result"
    }
   ],
   "source": [
    "grid"
   ]
  },
  {
   "cell_type": "code",
   "execution_count": 67,
   "metadata": {},
   "outputs": [
    {
     "data": {
      "text/plain": [
       "KNeighborsRegressor(algorithm='ball_tree', metric='manhattan', n_neighbors=23,\n",
       "                    p=1, weights='distance')"
      ]
     },
     "execution_count": 67,
     "metadata": {},
     "output_type": "execute_result"
    }
   ],
   "source": [
    "grid.best_estimator_"
   ]
  },
  {
   "cell_type": "code",
   "execution_count": 68,
   "metadata": {},
   "outputs": [
    {
     "data": {
      "text/plain": [
       "0.9948451327797244"
      ]
     },
     "execution_count": 68,
     "metadata": {},
     "output_type": "execute_result"
    }
   ],
   "source": [
    "gs.score(X_train, y_train)"
   ]
  },
  {
   "cell_type": "code",
   "execution_count": 69,
   "metadata": {},
   "outputs": [
    {
     "data": {
      "text/plain": [
       "0.5210382185536369"
      ]
     },
     "execution_count": 69,
     "metadata": {},
     "output_type": "execute_result"
    }
   ],
   "source": [
    "grid.score(X_test, y_test)"
   ]
  },
  {
   "cell_type": "code",
   "execution_count": 70,
   "metadata": {},
   "outputs": [],
   "source": [
    "knn = KNeighborsRegressor(metric = 'manhattan', n_neighbors = 6, weights = 'distance', p = 1, algorithm='ball_tree')\n",
    "model_optimised = knn.fit(X_train, y_train)"
   ]
  },
  {
   "cell_type": "code",
   "execution_count": 71,
   "metadata": {},
   "outputs": [
    {
     "data": {
      "text/plain": [
       "0.9948451327797244"
      ]
     },
     "execution_count": 71,
     "metadata": {},
     "output_type": "execute_result"
    }
   ],
   "source": [
    "model_optimised.score(X_train, y_train)"
   ]
  },
  {
   "cell_type": "code",
   "execution_count": 72,
   "metadata": {},
   "outputs": [
    {
     "data": {
      "text/plain": [
       "0.5485662411389145"
      ]
     },
     "execution_count": 72,
     "metadata": {},
     "output_type": "execute_result"
    }
   ],
   "source": [
    "model_optimised.score(X_test, y_test)"
   ]
  },
  {
   "cell_type": "code",
   "execution_count": 73,
   "metadata": {},
   "outputs": [],
   "source": [
    "pred_train_knn = cross_val_predict(model_optimised, X_train, y_train, cv = 10)"
   ]
  },
  {
   "cell_type": "code",
   "execution_count": 74,
   "metadata": {},
   "outputs": [],
   "source": [
    "pred_test_knn = cross_val_predict(model_optimised, X_test, y_test, cv = 10)"
   ]
  },
  {
   "cell_type": "code",
   "execution_count": 75,
   "metadata": {},
   "outputs": [
    {
     "data": {
      "text/plain": [
       "0.4406864016815478"
      ]
     },
     "execution_count": 75,
     "metadata": {},
     "output_type": "execute_result"
    }
   ],
   "source": [
    "metrics.r2_score(y_train, pred_train_knn)"
   ]
  },
  {
   "cell_type": "code",
   "execution_count": 76,
   "metadata": {},
   "outputs": [
    {
     "data": {
      "text/plain": [
       "0.3661055041799607"
      ]
     },
     "execution_count": 76,
     "metadata": {},
     "output_type": "execute_result"
    }
   ],
   "source": [
    "metrics.r2_score(y_test, pred_test_knn)"
   ]
  },
  {
   "cell_type": "code",
   "execution_count": 77,
   "metadata": {},
   "outputs": [],
   "source": [
    "rmse_val = [] #to store rmse values for different k\n",
    "k = []\n",
    "for K in range(50):\n",
    "    K = K+1\n",
    "    model = KNeighborsRegressor(n_neighbors = K)\n",
    "\n",
    "    model.fit(X_train, y_train)  #fit the model\n",
    "    pred=model.predict(X_test) #make prediction on test set\n",
    "    error = np.sqrt(mean_squared_error(y_test,pred)) #calculate rmse\n",
    "    rmse_val.append(error) #store rmse values\n",
    "    k.append(K)"
   ]
  },
  {
   "cell_type": "code",
   "execution_count": 78,
   "metadata": {},
   "outputs": [
    {
     "data": {
      "text/plain": [
       "Text(10, 0.83, 'Optimal k = 6')"
      ]
     },
     "execution_count": 78,
     "metadata": {},
     "output_type": "execute_result"
    },
    {
     "data": {
      "image/png": "[encoded data removed]",
      "text/plain": [
       "<Figure size 432x288 with 1 Axes>"
      ]
     },
     "metadata": {
      "needs_background": "light"
     },
     "output_type": "display_data"
    }
   ],
   "source": [
    "fig, ax = plt.subplots()\n",
    "plt.plot(k, rmse_val, 'g-')\n",
    "plt.axvline(x=6, c ='purple', alpha = 0.5)\n",
    "plt.title('Elbow Plot')\n",
    "plt.xlabel('k')\n",
    "plt.ylabel('RMSE')\n",
    "ax.annotate('Optimal k = 6', xy=(6, 0.77), xytext=(10, 0.83),\n",
    "            arrowprops=dict(facecolor='black', shrink=0.005))\n",
    "            "
   ]
  },
  {
   "cell_type": "code",
   "execution_count": 79,
   "metadata": {},
   "outputs": [],
   "source": [
    "y_pred = knn.predict(X_test)"
   ]
  },
  {
   "cell_type": "code",
   "execution_count": 80,
   "metadata": {},
   "outputs": [],
   "source": [
    "from sklearn.decomposition import PCA"
   ]
  },
  {
   "cell_type": "code",
   "execution_count": 81,
   "metadata": {},
   "outputs": [
    {
     "data": {
      "image/png": "[encoded data removed]",
      "text/plain": [
       "<Figure size 432x288 with 1 Axes>"
      ]
     },
     "metadata": {
      "needs_background": "light"
     },
     "output_type": "display_data"
    }
   ],
   "source": [
    "pca = make_pipeline(StandardScaler(),\n",
    "                    PCA(n_components=4, random_state=24))\n",
    "plt.figure()\n",
    "pca.fit(X_train, y_train)\n",
    "knn.fit(pca.transform(X_train), y_train)\n",
    "acc_knn = knn.score(pca.transform(X_test), y_test)\n",
    "X_plot = pca.transform(X)\n",
    "\n",
    "# Plot the projected points and show the evaluation score\n",
    "plt.scatter(X_plot[:, 0], X_plot[:, 1], c=y, s=5, cmap='Set1', alpha = 0.5)\n",
    "plt.title(\"PCA, KNN (k = {})\\nTest accuracy = {:.3f}%\".format(23, 0.397))\n",
    "plt.show()"
   ]
  }
 ],
 "metadata": {
  "kernelspec": {
   "display_name": "Python 3",
   "language": "python",
   "name": "python3"
  },
  "language_info": {
   "codemirror_mode": {
    "name": "ipython",
    "version": 3
   },
   "file_extension": ".py",
   "mimetype": "text/x-python",
   "name": "python",
   "nbconvert_exporter": "python",
   "pygments_lexer": "ipython3",
   "version": "3.8.5"
  }
 },
 "nbformat": 4,
 "nbformat_minor": 4
}
